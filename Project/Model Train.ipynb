{
 "cells": [
  {
   "cell_type": "markdown",
   "metadata": {},
   "source": [
    "# Training of Fully Convolutional Network"
   ]
  },
  {
   "cell_type": "markdown",
   "metadata": {},
   "source": [
    "The aim of this notebook is to train.................."
   ]
  },
  {
   "cell_type": "markdown",
   "metadata": {},
   "source": [
    "### $\\bullet$ Importing libraries and utilitary functions"
   ]
  },
  {
   "cell_type": "code",
   "execution_count": 1,
   "metadata": {},
   "outputs": [],
   "source": [
    "# Import python libraries.\n",
    "import matplotlib.pyplot as plt\n",
    "%matplotlib inline\n",
    "import numpy as np\n",
    "%load_ext autoreload\n",
    "%autoreload 2\n",
    "import os\n",
    "import tensorflow as tf\n",
    "from tensorflow.keras.callbacks import EarlyStopping, ModelCheckpoint\n",
    "\n",
    "# Import utilitary functions and module defining the Unet model.\n",
    "#from utils import get_dataset_from_folders\n",
    "from scripts.data_generator import DataGenerator\n",
    "from scripts.model import fully_convolutional_network\n",
    "from scripts.plots import plot_history"
   ]
  },
  {
   "cell_type": "code",
   "execution_count": 2,
   "metadata": {},
   "outputs": [],
   "source": [
    "# Set seeds of random number generators to guarantee reproducibility.\n",
    "#np.random.seed(1)\n",
    "#tensorflow.random.set_seed(2)"
   ]
  },
  {
   "cell_type": "markdown",
   "metadata": {},
   "source": [
    "### $\\bullet$ Setting different paths"
   ]
  },
  {
   "cell_type": "code",
   "execution_count": 3,
   "metadata": {
    "colab": {
     "background_save": true
    },
    "executionInfo": {
     "elapsed": 3866,
     "status": "ok",
     "timestamp": 1605116263978,
     "user": {
      "displayName": "EPFLML2020 GoodLastName",
      "photoUrl": "",
      "userId": "08441615881122576683"
     },
     "user_tz": -60
    },
    "id": "oFUJJMwMalBG"
   },
   "outputs": [],
   "source": [
    "# Variable defining where to save the dataset locally, relative to \"~/.keras/datasets\"\n",
    "mnist_path   = os.path.join(os.getcwd(), \"Dataset\", \"Mnist\"  , \"mnist.npz\")\n",
    "figures_path = os.path.join(os.getcwd(), \"Dataset\", \"Figures\", \"figures.npz\")\n",
    "\n",
    "# Variable defining where models will be stored.\n",
    "model_save_path = os.path.join(os.getcwd(), \"Models\", \"Fully Connected Network\")"
   ]
  },
  {
   "cell_type": "markdown",
   "metadata": {},
   "source": [
    "### $\\bullet$ Load images from the dataset"
   ]
  },
  {
   "cell_type": "code",
   "execution_count": 4,
   "metadata": {
    "colab": {
     "base_uri": "https://localhost:8080/"
    },
    "executionInfo": {
     "elapsed": 7175,
     "status": "ok",
     "timestamp": 1605116267655,
     "user": {
      "displayName": "EPFLML2020 GoodLastName",
      "photoUrl": "",
      "userId": "08441615881122576683"
     },
     "user_tz": -60
    },
    "id": "5kRpcG_R9SvH",
    "outputId": "0f533a82-ba05-4b2a-d4c8-eeb691e26ae0"
   },
   "outputs": [
    {
     "name": "stdout",
     "output_type": "stream",
     "text": [
      "Training set contains 42000 images.\n",
      "Validation set contains 18000 images.\n",
      "Test set contains 10000 images.\n"
     ]
    }
   ],
   "source": [
    "from sklearn.model_selection import StratifiedShuffleSplit\n",
    "\n",
    "def get_train_val_test_data(mnist_path, figures_path, batch_size, val_split = 0.3, resolution = (28, 28)):\n",
    "    # Load data from Mnist.\n",
    "    (mnist_train_images, mnist_train_labels), (mnist_test_images, mnist_test_labels) = tf.keras.datasets.mnist.load_data(path = mnist_path)\n",
    "    \n",
    "    # Load figures and figures labels.\n",
    "    figures_loaded_file = np.load(figures_path)\n",
    "    figures_images = figures_loaded_file['figures']\n",
    "    figures_labels  = figures_loaded_file['labels']\n",
    "    \n",
    "    # Train-Validation Split of Mnist ensuring label balance.\n",
    "    train_idx, val_idx = next(StratifiedShuffleSplit(n_splits = 1, test_size = val_split).split(mnist_train_images, mnist_train_labels))\n",
    "    mnist_val_images = mnist_train_images[val_idx]\n",
    "    mnist_val_labels = mnist_train_labels[val_idx]\n",
    "    mnist_train_images = mnist_train_images[train_idx]\n",
    "    mnist_train_labels = mnist_train_labels[train_idx]\n",
    "    \n",
    "    print(f'Training set contains {len(mnist_train_images)} images.')\n",
    "    print(f'Validation set contains {len(mnist_val_images)} images.')\n",
    "    print(f'Test set contains {len(mnist_test_images)} images.')\n",
    "    \n",
    "    # Creating Train, Validation and Test generators.\n",
    "    train_generator = DataGenerator(mnist_train_images, mnist_train_labels, figures_images, figures_labels, \n",
    "                                    resolution, batch_size)\n",
    "    val_generator   = DataGenerator(mnist_val_images  , mnist_val_labels  , figures_images, figures_labels, \n",
    "                                    resolution, batch_size)\n",
    "    test_generator  = DataGenerator(mnist_test_images , mnist_test_labels , figures_images, figures_labels, \n",
    "                                    resolution, batch_size)\n",
    "    \n",
    "    return train_generator, val_generator, test_generator\n",
    "\n",
    "batch_size = 130\n",
    "train_generator, val_generator, test_generator = get_train_val_test_data(mnist_path, figures_path, batch_size = batch_size)"
   ]
  },
  {
   "cell_type": "markdown",
   "metadata": {},
   "source": [
    "### $\\bullet$ Training Fully Convolutional Model using Data Augmentation"
   ]
  },
  {
   "cell_type": "code",
   "execution_count": 5,
   "metadata": {
    "scrolled": false
   },
   "outputs": [
    {
     "name": "stdout",
     "output_type": "stream",
     "text": [
      "Model: \"sequential\"\n",
      "_________________________________________________________________\n",
      "Layer (type)                 Output Shape              Param #   \n",
      "=================================================================\n",
      "conv2d (Conv2D)              (None, None, None, 32)    320       \n",
      "_________________________________________________________________\n",
      "max_pooling2d (MaxPooling2D) (None, None, None, 32)    0         \n",
      "_________________________________________________________________\n",
      "conv2d_1 (Conv2D)            (None, None, None, 64)    18496     \n",
      "_________________________________________________________________\n",
      "max_pooling2d_1 (MaxPooling2 (None, None, None, 64)    0         \n",
      "_________________________________________________________________\n",
      "conv2d_2 (Conv2D)            (None, None, None, 128)   401536    \n",
      "_________________________________________________________________\n",
      "spatial_dropout2d (SpatialDr (None, None, None, 128)   0         \n",
      "_________________________________________________________________\n",
      "conv2d_3 (Conv2D)            (None, None, None, 13)    1677      \n",
      "=================================================================\n",
      "Total params: 422,029\n",
      "Trainable params: 422,029\n",
      "Non-trainable params: 0\n",
      "_________________________________________________________________\n"
     ]
    }
   ],
   "source": [
    "def crossentropy(y_true, y_pred):\n",
    "    return tf.keras.losses.categorical_crossentropy(y_true, tf.squeeze(y_pred))\n",
    "    \n",
    "\n",
    "def accuracy(y_true, y_pred):\n",
    "    return tf.keras.metrics.categorical_accuracy(y_true, tf.squeeze(y_pred))\n",
    "    \n",
    "\n",
    "# Setting up parameters used for training\n",
    "number_epochs = 10\n",
    "early_stopping = EarlyStopping(patience = 50, verbose = 1)\n",
    "model_checkpoint = ModelCheckpoint(filepath = model_save_path, save_weights_only = False, monitor = 'val_accuracy', save_best_only = True)\n",
    "\n",
    "# Building model.\n",
    "model = fully_convolutional_network(show_summary = True)\n",
    "\n",
    "# Compiling model.\n",
    "model.compile(optimizer = 'adam', loss = crossentropy, metrics = [accuracy])"
   ]
  },
  {
   "cell_type": "code",
   "execution_count": 6,
   "metadata": {
    "scrolled": false
   },
   "outputs": [
    {
     "name": "stdout",
     "output_type": "stream",
     "text": [
      "WARNING:tensorflow:sample_weight modes were coerced from\n",
      "  ...\n",
      "    to  \n",
      "  ['...']\n",
      "WARNING:tensorflow:sample_weight modes were coerced from\n",
      "  ...\n",
      "    to  \n",
      "  ['...']\n",
      "Train for 379 steps, validate for 162 steps\n",
      "Epoch 1/10\n",
      "378/379 [============================>.] - ETA: 0s - loss: 0.2631 - accuracy: 0.9215WARNING:tensorflow:From C:\\Anaconda3\\envs\\image_proc\\lib\\site-packages\\tensorflow_core\\python\\ops\\resource_variable_ops.py:1786: calling BaseResourceVariable.__init__ (from tensorflow.python.ops.resource_variable_ops) with constraint is deprecated and will be removed in a future version.\n",
      "Instructions for updating:\n",
      "If using Keras pass *_constraint arguments to layers.\n",
      "INFO:tensorflow:Assets written to: C:\\Users\\andre\\Desktop\\Cours Image Processing\\Project\\Models\\Fully Connected Network\\assets\n",
      "379/379 [==============================] - 9s 24ms/step - loss: 0.2627 - accuracy: 0.9216 - val_loss: 0.0662 - val_accuracy: 0.9797\n",
      "Epoch 2/10\n",
      "377/379 [============================>.] - ETA: 0s - loss: 0.0886 - accuracy: 0.9746INFO:tensorflow:Assets written to: C:\\Users\\andre\\Desktop\\Cours Image Processing\\Project\\Models\\Fully Connected Network\\assets\n",
      "379/379 [==============================] - 7s 18ms/step - loss: 0.0884 - accuracy: 0.9747 - val_loss: 0.0451 - val_accuracy: 0.9864\n",
      "Epoch 3/10\n",
      "376/379 [============================>.] - ETA: 0s - loss: 0.0625 - accuracy: 0.9805INFO:tensorflow:Assets written to: C:\\Users\\andre\\Desktop\\Cours Image Processing\\Project\\Models\\Fully Connected Network\\assets\n",
      "379/379 [==============================] - 7s 18ms/step - loss: 0.0625 - accuracy: 0.9805 - val_loss: 0.0372 - val_accuracy: 0.9893\n",
      "Epoch 4/10\n",
      "379/379 [==============================] - 6s 15ms/step - loss: 0.0495 - accuracy: 0.9841 - val_loss: 0.0354 - val_accuracy: 0.9889\n",
      "Epoch 5/10\n",
      "375/379 [============================>.] - ETA: 0s - loss: 0.0425 - accuracy: 0.9867INFO:tensorflow:Assets written to: C:\\Users\\andre\\Desktop\\Cours Image Processing\\Project\\Models\\Fully Connected Network\\assets\n",
      "379/379 [==============================] - 7s 18ms/step - loss: 0.0424 - accuracy: 0.9868 - val_loss: 0.0301 - val_accuracy: 0.9916\n",
      "Epoch 6/10\n",
      "379/379 [==============================] - 6s 15ms/step - loss: 0.0353 - accuracy: 0.9894 - val_loss: 0.0343 - val_accuracy: 0.9906\n",
      "Epoch 7/10\n",
      "375/379 [============================>.] - ETA: 0s - loss: 0.0298 - accuracy: 0.9907INFO:tensorflow:Assets written to: C:\\Users\\andre\\Desktop\\Cours Image Processing\\Project\\Models\\Fully Connected Network\\assets\n",
      "379/379 [==============================] - 7s 18ms/step - loss: 0.0299 - accuracy: 0.9907 - val_loss: 0.0297 - val_accuracy: 0.9919\n",
      "Epoch 8/10\n",
      "374/379 [============================>.] - ETA: 0s - loss: 0.0279 - accuracy: 0.9909INFO:tensorflow:Assets written to: C:\\Users\\andre\\Desktop\\Cours Image Processing\\Project\\Models\\Fully Connected Network\\assets\n",
      "379/379 [==============================] - 7s 18ms/step - loss: 0.0279 - accuracy: 0.9909 - val_loss: 0.0293 - val_accuracy: 0.9923\n",
      "Epoch 9/10\n",
      "379/379 [==============================] - 6s 15ms/step - loss: 0.0242 - accuracy: 0.9917 - val_loss: 0.0320 - val_accuracy: 0.9911\n",
      "Epoch 10/10\n",
      "375/379 [============================>.] - ETA: 0s - loss: 0.0212 - accuracy: 0.9931INFO:tensorflow:Assets written to: C:\\Users\\andre\\Desktop\\Cours Image Processing\\Project\\Models\\Fully Connected Network\\assets\n",
      "379/379 [==============================] - 7s 18ms/step - loss: 0.0212 - accuracy: 0.9930 - val_loss: 0.0302 - val_accuracy: 0.9925\n"
     ]
    }
   ],
   "source": [
    "# Training\n",
    "history = model.fit(train_generator, validation_data = val_generator, epochs = number_epochs, callbacks = [early_stopping, model_checkpoint])"
   ]
  },
  {
   "cell_type": "code",
   "execution_count": 7,
   "metadata": {},
   "outputs": [
    {
     "data": {
      "image/png": "[encoded data removed]",
      "text/plain": [
       "<Figure size 432x288 with 1 Axes>"
      ]
     },
     "metadata": {
      "needs_background": "light"
     },
     "output_type": "display_data"
    },
    {
     "data": {
      "image/png": "[encoded data removed]",
      "text/plain": [
       "<Figure size 432x288 with 1 Axes>"
      ]
     },
     "metadata": {
      "needs_background": "light"
     },
     "output_type": "display_data"
    }
   ],
   "source": [
    "plot_history(history)"
   ]
  },
  {
   "cell_type": "code",
   "execution_count": 8,
   "metadata": {},
   "outputs": [
    {
     "name": "stdout",
     "output_type": "stream",
     "text": [
      "89/89 [==============================] - 1s 7ms/step - loss: 0.0206 - accuracy: 0.9942\n"
     ]
    }
   ],
   "source": [
    "# Load best model saved by ModelCheckpoint\n",
    "model = tf.keras.models.load_model(model_save_path, compile = False)\n",
    "model.compile(optimizer = 'adam', loss = crossentropy, metrics = [accuracy])\n",
    "\n",
    "# Evaluate best model\n",
    "model.evaluate(test_generator);"
   ]
  }
 ],
 "metadata": {
  "colab": {
   "collapsed_sections": [],
   "name": "UNET Distortion.ipynb",
   "version": ""
  },
  "kernelspec": {
   "display_name": "Python 3",
   "language": "python",
   "name": "python3"
  },
  "language_info": {
   "codemirror_mode": {
    "name": "ipython",
    "version": 3
   },
   "file_extension": ".py",
   "mimetype": "text/x-python",
   "name": "python",
   "nbconvert_exporter": "python",
   "pygments_lexer": "ipython3",
   "version": "3.7.10"
  }
 },
 "nbformat": 4,
 "nbformat_minor": 1
}
