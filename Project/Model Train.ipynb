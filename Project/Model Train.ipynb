{
 "cells": [
  {
   "cell_type": "markdown",
   "metadata": {},
   "source": [
    "# Training of Fully Convolutional Network"
   ]
  },
  {
   "cell_type": "markdown",
   "metadata": {},
   "source": [
    "The aim of this notebook is to train.................."
   ]
  },
  {
   "cell_type": "markdown",
   "metadata": {},
   "source": [
    "### $\\bullet$ Importing libraries and utilitary functions"
   ]
  },
  {
   "cell_type": "code",
   "execution_count": 1,
   "metadata": {},
   "outputs": [],
   "source": [
    "# Import python libraries.\n",
    "import matplotlib.pyplot as plt\n",
    "%matplotlib inline\n",
    "import numpy as np\n",
    "%load_ext autoreload\n",
    "%autoreload 2\n",
    "import tensorflow as tf\n",
    "from tensorflow.keras.callbacks import EarlyStopping, ModelCheckpoint\n",
    "\n",
    "# Import utilitary functions and module defining the Unet model.\n",
    "#from utils import get_dataset_from_folders\n",
    "#from train_data_augmentation import make_train_generator\n",
    "from scripts.model import fully_convolutional_network\n",
    "from scripts.plots import plot_history"
   ]
  },
  {
   "cell_type": "code",
   "execution_count": 2,
   "metadata": {},
   "outputs": [],
   "source": [
    "# Set seeds of random number generators to guarantee reproducibility.\n",
    "#np.random.seed(1)\n",
    "#tensorflow.random.set_seed(2)"
   ]
  },
  {
   "cell_type": "markdown",
   "metadata": {},
   "source": [
    "### $\\bullet$ Setting different paths"
   ]
  },
  {
   "cell_type": "code",
   "execution_count": 3,
   "metadata": {
    "colab": {
     "background_save": true
    },
    "executionInfo": {
     "elapsed": 3866,
     "status": "ok",
     "timestamp": 1605116263978,
     "user": {
      "displayName": "EPFLML2020 GoodLastName",
      "photoUrl": "",
      "userId": "08441615881122576683"
     },
     "user_tz": -60
    },
    "id": "oFUJJMwMalBG"
   },
   "outputs": [],
   "source": [
    "# Variable defining where to save the dataset locally, relative to \"~/.keras/datasets\"\n",
    "mnist_path = \"mnist.npz\"\n",
    "\n",
    "# Variable defining where models will be stored.\n",
    "model_save_path = \"./Models/Fully Connected Network/\""
   ]
  },
  {
   "cell_type": "markdown",
   "metadata": {},
   "source": [
    "### $\\bullet$ Load images from the dataset"
   ]
  },
  {
   "cell_type": "code",
   "execution_count": 4,
   "metadata": {
    "colab": {
     "base_uri": "https://localhost:8080/"
    },
    "executionInfo": {
     "elapsed": 7175,
     "status": "ok",
     "timestamp": 1605116267655,
     "user": {
      "displayName": "EPFLML2020 GoodLastName",
      "photoUrl": "",
      "userId": "08441615881122576683"
     },
     "user_tz": -60
    },
    "id": "5kRpcG_R9SvH",
    "outputId": "0f533a82-ba05-4b2a-d4c8-eeb691e26ae0"
   },
   "outputs": [
    {
     "name": "stdout",
     "output_type": "stream",
     "text": [
      "Training set contains 60000 images.\n",
      "Test set contains 10000 images.\n"
     ]
    }
   ],
   "source": [
    "(train_images, train_labels), (test_images, test_labels) = tf.keras.datasets.mnist.load_data(path = mnist_path)\n",
    "\n",
    "# Add channel dimention and convert to float32.\n",
    "train_images = np.expand_dims(train_images, axis = -1).astype(np.float32) / 255.\n",
    "test_images  = np.expand_dims(test_images , axis = -1).astype(np.float32) / 255.\n",
    "\n",
    "train_labels = tf.keras.utils.to_categorical(train_labels)\n",
    "test_labels  = tf.keras.utils.to_categorical(test_labels)\n",
    "\n",
    "print(f'Training set contains {len(train_images)} images.')\n",
    "print(f'Test set contains {len(test_images)} images.')"
   ]
  },
  {
   "cell_type": "markdown",
   "metadata": {},
   "source": [
    "### $\\bullet$ Training Fully Convolutional Model using Data Augmentation"
   ]
  },
  {
   "cell_type": "code",
   "execution_count": 5,
   "metadata": {
    "scrolled": false
   },
   "outputs": [
    {
     "name": "stdout",
     "output_type": "stream",
     "text": [
      "Model: \"sequential\"\n",
      "_________________________________________________________________\n",
      "Layer (type)                 Output Shape              Param #   \n",
      "=================================================================\n",
      "conv2d (Conv2D)              (None, None, None, 32)    320       \n",
      "_________________________________________________________________\n",
      "max_pooling2d (MaxPooling2D) (None, None, None, 32)    0         \n",
      "_________________________________________________________________\n",
      "conv2d_1 (Conv2D)            (None, None, None, 64)    18496     \n",
      "_________________________________________________________________\n",
      "max_pooling2d_1 (MaxPooling2 (None, None, None, 64)    0         \n",
      "_________________________________________________________________\n",
      "conv2d_2 (Conv2D)            (None, None, None, 128)   401536    \n",
      "_________________________________________________________________\n",
      "spatial_dropout2d (SpatialDr (None, None, None, 128)   0         \n",
      "_________________________________________________________________\n",
      "conv2d_3 (Conv2D)            (None, None, None, 10)    1290      \n",
      "=================================================================\n",
      "Total params: 421,642\n",
      "Trainable params: 421,642\n",
      "Non-trainable params: 0\n",
      "_________________________________________________________________\n"
     ]
    }
   ],
   "source": [
    "def crossentropy(y_true, y_pred):\n",
    "    return tf.keras.losses.categorical_crossentropy(y_true, tf.squeeze(y_pred))\n",
    "    \n",
    "\n",
    "def accuracy(y_true, y_pred):\n",
    "    return tf.keras.metrics.categorical_accuracy(y_true, tf.squeeze(y_pred))\n",
    "    \n",
    "\n",
    "# Setting up parameters used for training\n",
    "number_epochs = 10\n",
    "batch_size = 50\n",
    "early_stopping = EarlyStopping(patience = 50, verbose = 1)\n",
    "model_checkpoint = ModelCheckpoint(filepath = model_save_path, save_weights_only = False, monitor = 'val_accuracy', save_best_only = True)\n",
    "\n",
    "# Building model.\n",
    "model = fully_convolutional_network(show_summary = True)\n",
    "\n",
    "# Compiling model.\n",
    "model.compile(optimizer = 'adam', loss = crossentropy, metrics = [accuracy])"
   ]
  },
  {
   "cell_type": "code",
   "execution_count": 6,
   "metadata": {
    "scrolled": false
   },
   "outputs": [
    {
     "name": "stdout",
     "output_type": "stream",
     "text": [
      "Train on 42000 samples, validate on 18000 samples\n",
      "Epoch 1/10\n",
      "41700/42000 [============================>.] - ETA: 0s - loss: 0.2565 - accuracy: 0.9215WARNING:tensorflow:From C:\\Anaconda3\\envs\\image_proc\\lib\\site-packages\\tensorflow_core\\python\\ops\\resource_variable_ops.py:1786: calling BaseResourceVariable.__init__ (from tensorflow.python.ops.resource_variable_ops) with constraint is deprecated and will be removed in a future version.\n",
      "Instructions for updating:\n",
      "If using Keras pass *_constraint arguments to layers.\n",
      "INFO:tensorflow:Assets written to: /Models/Fully Connected Network/assets\n",
      "42000/42000 [==============================] - 10s 228us/sample - loss: 0.2552 - accuracy: 0.9219 - val_loss: 0.0614 - val_accuracy: 0.9819\n",
      "Epoch 2/10\n",
      "41500/42000 [============================>.] - ETA: 0s - loss: 0.0911 - accuracy: 0.9731INFO:tensorflow:Assets written to: /Models/Fully Connected Network/assets\n",
      "42000/42000 [==============================] - 8s 184us/sample - loss: 0.0908 - accuracy: 0.9732 - val_loss: 0.0544 - val_accuracy: 0.9830\n",
      "Epoch 3/10\n",
      "41700/42000 [============================>.] - ETA: 0s - loss: 0.0660 - accuracy: 0.9796INFO:tensorflow:Assets written to: /Models/Fully Connected Network/assets\n",
      "42000/42000 [==============================] - 8s 191us/sample - loss: 0.0661 - accuracy: 0.9797 - val_loss: 0.0415 - val_accuracy: 0.9874\n",
      "Epoch 4/10\n",
      "41700/42000 [============================>.] - ETA: 0s - loss: 0.0510 - accuracy: 0.9843INFO:tensorflow:Assets written to: /Models/Fully Connected Network/assets\n",
      "42000/42000 [==============================] - 8s 190us/sample - loss: 0.0509 - accuracy: 0.9843 - val_loss: 0.0402 - val_accuracy: 0.9886\n",
      "Epoch 5/10\n",
      "41900/42000 [============================>.] - ETA: 0s - loss: 0.0429 - accuracy: 0.9868INFO:tensorflow:Assets written to: /Models/Fully Connected Network/assets\n",
      "42000/42000 [==============================] - 8s 195us/sample - loss: 0.0429 - accuracy: 0.9868 - val_loss: 0.0374 - val_accuracy: 0.9894\n",
      "Epoch 6/10\n",
      "42000/42000 [==============================] - 7s 156us/sample - loss: 0.0370 - accuracy: 0.9876 - val_loss: 0.0415 - val_accuracy: 0.9894\n",
      "Epoch 7/10\n",
      "42000/42000 [==============================] - 7s 158us/sample - loss: 0.0331 - accuracy: 0.9898 - val_loss: 0.0418 - val_accuracy: 0.9892\n",
      "Epoch 8/10\n",
      "42000/42000 [==============================] - 7s 156us/sample - loss: 0.0280 - accuracy: 0.9913 - val_loss: 0.0396 - val_accuracy: 0.9894\n",
      "Epoch 9/10\n",
      "41650/42000 [============================>.] - ETA: 0s - loss: 0.0242 - accuracy: 0.9917INFO:tensorflow:Assets written to: /Models/Fully Connected Network/assets\n",
      "42000/42000 [==============================] - 8s 184us/sample - loss: 0.0241 - accuracy: 0.9918 - val_loss: 0.0391 - val_accuracy: 0.9901\n",
      "Epoch 10/10\n",
      "42000/42000 [==============================] - 6s 155us/sample - loss: 0.0206 - accuracy: 0.9930 - val_loss: 0.0403 - val_accuracy: 0.9898\n"
     ]
    }
   ],
   "source": [
    "# Training\n",
    "history = model.fit(train_images, train_labels, validation_split = 0.3, batch_size = batch_size, epochs = number_epochs, callbacks = [early_stopping, model_checkpoint])"
   ]
  },
  {
   "cell_type": "code",
   "execution_count": 7,
   "metadata": {},
   "outputs": [
    {
     "data": {
      "image/png": "[encoded data removed]",
      "text/plain": [
       "<Figure size 432x288 with 1 Axes>"
      ]
     },
     "metadata": {
      "needs_background": "light"
     },
     "output_type": "display_data"
    },
    {
     "data": {
      "image/png": "[encoded data removed]",
      "text/plain": [
       "<Figure size 432x288 with 1 Axes>"
      ]
     },
     "metadata": {
      "needs_background": "light"
     },
     "output_type": "display_data"
    }
   ],
   "source": [
    "plot_history(history)"
   ]
  },
  {
   "cell_type": "code",
   "execution_count": 8,
   "metadata": {},
   "outputs": [
    {
     "name": "stdout",
     "output_type": "stream",
     "text": [
      "10000/10000 [==============================] - 1s 122us/sample - loss: 0.0322 - accuracy: 0.9909\n"
     ]
    }
   ],
   "source": [
    "# Load best model saved by ModelCheckpoint\n",
    "model = tf.keras.models.load_model(model_save_path, compile = False)\n",
    "model.compile(optimizer = 'adam', loss = crossentropy, metrics = [accuracy])\n",
    "\n",
    "# Evaluate best model\n",
    "model.evaluate(test_images, test_labels);"
   ]
  }
 ],
 "metadata": {
  "colab": {
   "collapsed_sections": [],
   "name": "UNET Distortion.ipynb",
   "version": ""
  },
  "kernelspec": {
   "display_name": "Python 3",
   "language": "python",
   "name": "python3"
  },
  "language_info": {
   "codemirror_mode": {
    "name": "ipython",
    "version": 3
   },
   "file_extension": ".py",
   "mimetype": "text/x-python",
   "name": "python",
   "nbconvert_exporter": "python",
   "pygments_lexer": "ipython3",
   "version": "3.7.10"
  }
 },
 "nbformat": 4,
 "nbformat_minor": 1
}
