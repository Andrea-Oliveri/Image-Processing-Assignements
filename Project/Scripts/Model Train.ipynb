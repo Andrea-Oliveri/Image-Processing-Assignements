{
 "cells": [
  {
   "cell_type": "markdown",
   "metadata": {},
   "source": [
    "# Training of Fully Convolutional Network"
   ]
  },
  {
   "cell_type": "markdown",
   "metadata": {},
   "source": [
    "The aim of this notebook is to train.................."
   ]
  },
  {
   "cell_type": "markdown",
   "metadata": {},
   "source": [
    "### $\\bullet$ Importing libraries and utilitary functions"
   ]
  },
  {
   "cell_type": "code",
   "execution_count": 1,
   "metadata": {},
   "outputs": [],
   "source": [
    "# Import python libraries.\n",
    "import matplotlib.pyplot as plt\n",
    "%matplotlib inline\n",
    "import numpy as np\n",
    "%load_ext autoreload\n",
    "%autoreload 2\n",
    "import os\n",
    "os.environ['TF_CPP_MIN_LOG_LEVEL'] = '1'\n",
    "import tensorflow\n",
    "from tensorflow.keras.callbacks import EarlyStopping, ModelCheckpoint\n",
    "\n",
    "# Import utilitary functions and module defining the Unet model.\n",
    "from utils import get_dataset_from_folders\n",
    "from train_data_augmentation import make_train_generator\n",
    "from model import Model\n",
    "from plots import plot_history"
   ]
  },
  {
   "cell_type": "code",
   "execution_count": 2,
   "metadata": {},
   "outputs": [],
   "source": [
    "# Set seeds of random number generators to guarantee reproducibility.\n",
    "#np.random.seed(1)\n",
    "#tensorflow.random.set_seed(2)"
   ]
  },
  {
   "cell_type": "markdown",
   "metadata": {},
   "source": [
    "### $\\bullet$ Setting size of the input image and different paths"
   ]
  },
  {
   "cell_type": "code",
   "execution_count": 3,
   "metadata": {
    "colab": {
     "background_save": true
    },
    "executionInfo": {
     "elapsed": 3866,
     "status": "ok",
     "timestamp": 1605116263978,
     "user": {
      "displayName": "EPFLML2020 GoodLastName",
      "photoUrl": "",
      "userId": "08441615881122576683"
     },
     "user_tz": -60
    },
    "id": "oFUJJMwMalBG"
   },
   "outputs": [],
   "source": [
    "# Shape of the inputs of the deep network.\n",
    "images_shape = (28, 28, 1)\n",
    "\n",
    "# Variables defining the path to the dataset.\n",
    "train_input_path  = '../Dataset/train/input/'\n",
    "train_output_path = '../Dataset/train/output/'\n",
    "val_input_path    = '../Dataset/validation/input/'\n",
    "val_output_path   = '../Dataset/validation/output/'\n",
    "test_input_path   = '../Dataset/test/input/'\n",
    "test_output_path  = '../Dataset/test/output/'\n",
    "\n",
    "# Variable defining where models will be stored.\n",
    "model_save_path = \"../Models/FCN/\""
   ]
  },
  {
   "cell_type": "markdown",
   "metadata": {},
   "source": [
    "### $\\bullet$ Load images from the dataset"
   ]
  },
  {
   "cell_type": "code",
   "execution_count": 4,
   "metadata": {
    "colab": {
     "base_uri": "https://localhost:8080/"
    },
    "executionInfo": {
     "elapsed": 7175,
     "status": "ok",
     "timestamp": 1605116267655,
     "user": {
      "displayName": "EPFLML2020 GoodLastName",
      "photoUrl": "",
      "userId": "08441615881122576683"
     },
     "user_tz": -60
    },
    "id": "5kRpcG_R9SvH",
    "outputId": "0f533a82-ba05-4b2a-d4c8-eeb691e26ae0"
   },
   "outputs": [
    {
     "name": "stdout",
     "output_type": "stream",
     "text": [
      "Training set contains 606 images.\n",
      "Validation set contains 96 images.\n",
      "Test set contains 510 images.\n"
     ]
    }
   ],
   "source": [
    "train_images, train_masks = get_dataset_from_folders(train_input_path, train_output_path, images_shape)\n",
    "val_images, val_masks = get_dataset_from_folders(val_input_path, val_output_path, images_shape)\n",
    "test_images, test_masks = get_dataset_from_folders(test_input_path, test_output_path, images_shape)\n",
    "\n",
    "print(f'Training set contains {len(train_images)} images.')\n",
    "print(f'Validation set contains {len(val_images)} images.')\n",
    "print(f'Test set contains {len(test_images)} images.')"
   ]
  },
  {
   "cell_type": "markdown",
   "metadata": {},
   "source": [
    "### $\\bullet$ Training original model which used no data augmentations"
   ]
  },
  {
   "cell_type": "code",
   "execution_count": 5,
   "metadata": {},
   "outputs": [
    {
     "name": "stdout",
     "output_type": "stream",
     "text": [
      "Model: \"model\"\n",
      "__________________________________________________________________________________________________\n",
      "Layer (type)                    Output Shape         Param #     Connected to                     \n",
      "==================================================================================================\n",
      "input_1 (InputLayer)            [(None, 256, 256, 1) 0                                            \n",
      "__________________________________________________________________________________________________\n",
      "conv2d (Conv2D)                 (None, 256, 256, 16) 160         input_1[0][0]                    \n",
      "__________________________________________________________________________________________________\n",
      "conv2d_1 (Conv2D)               (None, 256, 256, 16) 2320        conv2d[0][0]                     \n",
      "__________________________________________________________________________________________________\n",
      "dropout (Dropout)               (None, 256, 256, 16) 0           conv2d_1[0][0]                   \n",
      "__________________________________________________________________________________________________\n",
      "average_pooling2d (AveragePooli (None, 128, 128, 16) 0           dropout[0][0]                    \n",
      "__________________________________________________________________________________________________\n",
      "conv2d_2 (Conv2D)               (None, 128, 128, 32) 4640        average_pooling2d[0][0]          \n",
      "__________________________________________________________________________________________________\n",
      "conv2d_3 (Conv2D)               (None, 128, 128, 32) 9248        conv2d_2[0][0]                   \n",
      "__________________________________________________________________________________________________\n",
      "dropout_1 (Dropout)             (None, 128, 128, 32) 0           conv2d_3[0][0]                   \n",
      "__________________________________________________________________________________________________\n",
      "average_pooling2d_1 (AveragePoo (None, 64, 64, 32)   0           dropout_1[0][0]                  \n",
      "__________________________________________________________________________________________________\n",
      "conv2d_4 (Conv2D)               (None, 64, 64, 64)   18496       average_pooling2d_1[0][0]        \n",
      "__________________________________________________________________________________________________\n",
      "conv2d_5 (Conv2D)               (None, 64, 64, 64)   36928       conv2d_4[0][0]                   \n",
      "__________________________________________________________________________________________________\n",
      "dropout_2 (Dropout)             (None, 64, 64, 64)   0           conv2d_5[0][0]                   \n",
      "__________________________________________________________________________________________________\n",
      "average_pooling2d_2 (AveragePoo (None, 32, 32, 64)   0           dropout_2[0][0]                  \n",
      "__________________________________________________________________________________________________\n",
      "conv2d_6 (Conv2D)               (None, 32, 32, 128)  73856       average_pooling2d_2[0][0]        \n",
      "__________________________________________________________________________________________________\n",
      "conv2d_7 (Conv2D)               (None, 32, 32, 128)  147584      conv2d_6[0][0]                   \n",
      "__________________________________________________________________________________________________\n",
      "dropout_3 (Dropout)             (None, 32, 32, 128)  0           conv2d_7[0][0]                   \n",
      "__________________________________________________________________________________________________\n",
      "conv2d_transpose (Conv2DTranspo (None, 64, 64, 64)   32832       dropout_3[0][0]                  \n",
      "__________________________________________________________________________________________________\n",
      "concatenate (Concatenate)       (None, 64, 64, 128)  0           dropout_2[0][0]                  \n",
      "                                                                 conv2d_transpose[0][0]           \n",
      "__________________________________________________________________________________________________\n",
      "conv2d_8 (Conv2D)               (None, 64, 64, 64)   73792       concatenate[0][0]                \n",
      "__________________________________________________________________________________________________\n",
      "conv2d_9 (Conv2D)               (None, 64, 64, 64)   36928       conv2d_8[0][0]                   \n",
      "__________________________________________________________________________________________________\n",
      "dropout_4 (Dropout)             (None, 64, 64, 64)   0           conv2d_9[0][0]                   \n",
      "__________________________________________________________________________________________________\n",
      "conv2d_transpose_1 (Conv2DTrans (None, 128, 128, 32) 8224        dropout_4[0][0]                  \n",
      "__________________________________________________________________________________________________\n",
      "concatenate_1 (Concatenate)     (None, 128, 128, 64) 0           dropout_1[0][0]                  \n",
      "                                                                 conv2d_transpose_1[0][0]         \n",
      "__________________________________________________________________________________________________\n",
      "conv2d_10 (Conv2D)              (None, 128, 128, 32) 18464       concatenate_1[0][0]              \n",
      "__________________________________________________________________________________________________\n",
      "conv2d_11 (Conv2D)              (None, 128, 128, 32) 9248        conv2d_10[0][0]                  \n",
      "__________________________________________________________________________________________________\n",
      "dropout_5 (Dropout)             (None, 128, 128, 32) 0           conv2d_11[0][0]                  \n",
      "__________________________________________________________________________________________________\n",
      "conv2d_transpose_2 (Conv2DTrans (None, 256, 256, 16) 2064        dropout_5[0][0]                  \n",
      "__________________________________________________________________________________________________\n",
      "concatenate_2 (Concatenate)     (None, 256, 256, 32) 0           dropout[0][0]                    \n",
      "                                                                 conv2d_transpose_2[0][0]         \n",
      "__________________________________________________________________________________________________\n",
      "conv2d_12 (Conv2D)              (None, 256, 256, 16) 4624        concatenate_2[0][0]              \n",
      "__________________________________________________________________________________________________\n",
      "conv2d_13 (Conv2D)              (None, 256, 256, 16) 2320        conv2d_12[0][0]                  \n",
      "__________________________________________________________________________________________________\n",
      "dropout_6 (Dropout)             (None, 256, 256, 16) 0           conv2d_13[0][0]                  \n",
      "__________________________________________________________________________________________________\n",
      "conv2d_14 (Conv2D)              (None, 256, 256, 1)  17          dropout_6[0][0]                  \n",
      "==================================================================================================\n",
      "Total params: 481,745\n",
      "Trainable params: 481,745\n",
      "Non-trainable params: 0\n",
      "__________________________________________________________________________________________________\n"
     ]
    }
   ],
   "source": [
    "# Setting up parameters used for training\n",
    "number_epochs = 100\n",
    "batch_size = 2\n",
    "early_stopping = EarlyStopping(patience=50, verbose=1)\n",
    "model_checkpoint = ModelCheckpoint(filepath=unet_original_save_path, save_weights_only=False, monitor='val_accuracy', mode='max', save_best_only=True)\n",
    "\n",
    "# Building Unet model.\n",
    "model = fully_convolutional_network(images_shape, show_summary=True)"
   ]
  },
  {
   "cell_type": "code",
   "execution_count": 6,
   "metadata": {
    "scrolled": false
   },
   "outputs": [
    {
     "name": "stdout",
     "output_type": "stream",
     "text": [
      "Train on 606 samples, validate on 96 samples\n",
      "Epoch 1/100\n",
      "604/606 [============================>.] - ETA: 0s - loss: 0.8820 - accuracy: 0.9413WARNING:tensorflow:From C:\\Anaconda3\\lib\\site-packages\\tensorflow_core\\python\\ops\\resource_variable_ops.py:1786: calling BaseResourceVariable.__init__ (from tensorflow.python.ops.resource_variable_ops) with constraint is deprecated and will be removed in a future version.\n",
      "Instructions for updating:\n",
      "If using Keras pass *_constraint arguments to layers.\n",
      "INFO:tensorflow:Assets written to: ../Models/Unet Original/assets\n",
      "606/606 [==============================] - 30s 50ms/sample - loss: 0.8793 - accuracy: 0.9414 - val_loss: 0.0658 - val_accuracy: 0.9740\n",
      "Epoch 2/100\n",
      "604/606 [============================>.] - ETA: 0s - loss: 0.0654 - accuracy: 0.9752INFO:tensorflow:Assets written to: ../Models/Unet Original/assets\n",
      "606/606 [==============================] - 25s 41ms/sample - loss: 0.0653 - accuracy: 0.9752 - val_loss: 0.0502 - val_accuracy: 0.9807\n",
      "Epoch 3/100\n",
      "604/606 [============================>.] - ETA: 0s - loss: 0.0563 - accuracy: 0.9783INFO:tensorflow:Assets written to: ../Models/Unet Original/assets\n",
      "606/606 [==============================] - 24s 40ms/sample - loss: 0.0563 - accuracy: 0.9783 - val_loss: 0.0464 - val_accuracy: 0.9821\n",
      "Epoch 4/100\n",
      "604/606 [============================>.] - ETA: 0s - loss: 0.0516 - accuracy: 0.9799INFO:tensorflow:Assets written to: ../Models/Unet Original/assets\n",
      "606/606 [==============================] - 23s 38ms/sample - loss: 0.0516 - accuracy: 0.9799 - val_loss: 0.0462 - val_accuracy: 0.9825\n",
      "Epoch 5/100\n",
      "606/606 [==============================] - 18s 30ms/sample - loss: 0.0479 - accuracy: 0.9810 - val_loss: 0.0444 - val_accuracy: 0.9824\n",
      "Epoch 6/100\n",
      "604/606 [============================>.] - ETA: 0s - loss: 0.0445 - accuracy: 0.9823INFO:tensorflow:Assets written to: ../Models/Unet Original/assets\n",
      "606/606 [==============================] - 24s 40ms/sample - loss: 0.0444 - accuracy: 0.9824 - val_loss: 0.0443 - val_accuracy: 0.9827\n",
      "Epoch 7/100\n",
      "604/606 [============================>.] - ETA: 0s - loss: 0.0419 - accuracy: 0.98 - ETA: 0s - loss: 0.0419 - accuracy: 0.9834INFO:tensorflow:Assets written to: ../Models/Unet Original/assets\n",
      "606/606 [==============================] - 21s 34ms/sample - loss: 0.0419 - accuracy: 0.9834 - val_loss: 0.0433 - val_accuracy: 0.9828\n",
      "Epoch 8/100\n",
      "604/606 [============================>.] - ETA: 0s - loss: 0.0405 - accuracy: 0.9840INFO:tensorflow:Assets written to: ../Models/Unet Original/assets\n",
      "606/606 [==============================] - 21s 35ms/sample - loss: 0.0405 - accuracy: 0.9840 - val_loss: 0.0433 - val_accuracy: 0.9829\n",
      "Epoch 9/100\n",
      "606/606 [==============================] - 16s 26ms/sample - loss: 0.0388 - accuracy: 0.9846 - val_loss: 0.0462 - val_accuracy: 0.9827\n",
      "Epoch 10/100\n",
      "606/606 [==============================] - 16s 26ms/sample - loss: 0.0368 - accuracy: 0.9854 - val_loss: 0.0446 - val_accuracy: 0.9827\n",
      "Epoch 11/100\n",
      "606/606 [==============================] - 16s 26ms/sample - loss: 0.0356 - accuracy: 0.9858 - val_loss: 0.0465 - val_accuracy: 0.9829\n",
      "Epoch 12/100\n",
      "604/606 [============================>.] - ETA: 0s - loss: 0.0344 - accuracy: 0.9862INFO:tensorflow:Assets written to: ../Models/Unet Original/assets\n",
      "606/606 [==============================] - 20s 34ms/sample - loss: 0.0343 - accuracy: 0.9862 - val_loss: 0.0451 - val_accuracy: 0.9838\n",
      "Epoch 13/100\n",
      "606/606 [==============================] - 16s 26ms/sample - loss: 0.0333 - accuracy: 0.9866 - val_loss: 0.0470 - val_accuracy: 0.9833\n",
      "Epoch 14/100\n",
      "606/606 [==============================] - 16s 26ms/sample - loss: 0.0320 - accuracy: 0.9871 - val_loss: 0.0481 - val_accuracy: 0.9825\n",
      "Epoch 15/100\n",
      "606/606 [==============================] - 16s 26ms/sample - loss: 0.0313 - accuracy: 0.9873 - val_loss: 0.0516 - val_accuracy: 0.9822\n",
      "Epoch 16/100\n",
      "606/606 [==============================] - 16s 26ms/sample - loss: 0.0308 - accuracy: 0.9874 - val_loss: 0.0511 - val_accuracy: 0.9820\n",
      "Epoch 17/100\n",
      "604/606 [============================>.] - ETA: 0s - loss: 0.0300 - accuracy: 0.9878INFO:tensorflow:Assets written to: ../Models/Unet Original/assets\n",
      "606/606 [==============================] - 21s 35ms/sample - loss: 0.0300 - accuracy: 0.9878 - val_loss: 0.0504 - val_accuracy: 0.9839\n",
      "Epoch 18/100\n",
      "606/606 [==============================] - 20s 32ms/sample - loss: 0.0290 - accuracy: 0.9881 - val_loss: 0.0483 - val_accuracy: 0.9826\n",
      "Epoch 19/100\n",
      "606/606 [==============================] - 18s 30ms/sample - loss: 0.0275 - accuracy: 0.9886 - val_loss: 0.0488 - val_accuracy: 0.9838\n",
      "Epoch 20/100\n",
      "606/606 [==============================] - 18s 30ms/sample - loss: 0.0276 - accuracy: 0.9885 - val_loss: 0.0568 - val_accuracy: 0.9816\n",
      "Epoch 21/100\n",
      "606/606 [==============================] - 18s 30ms/sample - loss: 0.0262 - accuracy: 0.9891 - val_loss: 0.0543 - val_accuracy: 0.9839\n",
      "Epoch 22/100\n",
      "606/606 [==============================] - 18s 30ms/sample - loss: 0.0267 - accuracy: 0.9889 - val_loss: 0.0519 - val_accuracy: 0.9838\n",
      "Epoch 23/100\n",
      "606/606 [==============================] - 18s 30ms/sample - loss: 0.0250 - accuracy: 0.9895 - val_loss: 0.0569 - val_accuracy: 0.9827\n",
      "Epoch 24/100\n",
      "606/606 [==============================] - 19s 31ms/sample - loss: 0.0258 - accuracy: 0.9892 - val_loss: 0.0612 - val_accuracy: 0.9801\n",
      "Epoch 25/100\n",
      "606/606 [==============================] - 19s 31ms/sample - loss: 0.0258 - accuracy: 0.9892 - val_loss: 0.0591 - val_accuracy: 0.9832\n",
      "Epoch 26/100\n",
      "606/606 [==============================] - 19s 32ms/sample - loss: 0.0241 - accuracy: 0.9899 - val_loss: 0.0534 - val_accuracy: 0.9837\n",
      "Epoch 27/100\n",
      "606/606 [==============================] - 20s 33ms/sample - loss: 0.0237 - accuracy: 0.9901 - val_loss: 0.0600 - val_accuracy: 0.9834\n",
      "Epoch 28/100\n",
      "606/606 [==============================] - 20s 33ms/sample - loss: 0.0236 - accuracy: 0.9901 - val_loss: 0.0593 - val_accuracy: 0.9834234 - ac\n",
      "Epoch 29/100\n",
      "606/606 [==============================] - 20s 32ms/sample - loss: 0.0231 - accuracy: 0.9903 - val_loss: 0.0632 - val_accuracy: 0.9825\n",
      "Epoch 30/100\n",
      "604/606 [============================>.] - ETA: 0s - loss: 0.0233 - accuracy: 0.9903INFO:tensorflow:Assets written to: ../Models/Unet Original/assets\n",
      "606/606 [==============================] - 27s 44ms/sample - loss: 0.0233 - accuracy: 0.9903 - val_loss: 0.0504 - val_accuracy: 0.9843\n",
      "Epoch 31/100\n",
      "606/606 [==============================] - 19s 31ms/sample - loss: 0.0228 - accuracy: 0.9904 - val_loss: 0.0642 - val_accuracy: 0.9836\n",
      "Epoch 32/100\n",
      "604/606 [============================>.] - ETA: 0s - loss: 0.0226 - accuracy: 0.9906INFO:tensorflow:Assets written to: ../Models/Unet Original/assets\n",
      "606/606 [==============================] - 27s 45ms/sample - loss: 0.0225 - accuracy: 0.9906 - val_loss: 0.0587 - val_accuracy: 0.9844\n",
      "Epoch 33/100\n",
      "606/606 [==============================] - 19s 31ms/sample - loss: 0.0225 - accuracy: 0.9906 - val_loss: 0.0605 - val_accuracy: 0.9840\n",
      "Epoch 34/100\n",
      "606/606 [==============================] - 22s 36ms/sample - loss: 0.0221 - accuracy: 0.9907 - val_loss: 0.0671 - val_accuracy: 0.9826\n",
      "Epoch 35/100\n",
      "606/606 [==============================] - 22s 36ms/sample - loss: 0.0216 - accuracy: 0.9909 - val_loss: 0.0691 - val_accuracy: 0.9818\n",
      "Epoch 36/100\n",
      "606/606 [==============================] - 22s 36ms/sample - loss: 0.0212 - accuracy: 0.9911 - val_loss: 0.0640 - val_accuracy: 0.9837\n",
      "Epoch 37/100\n",
      "606/606 [==============================] - 21s 35ms/sample - loss: 0.0211 - accuracy: 0.9912 - val_loss: 0.0635 - val_accuracy: 0.9839\n",
      "Epoch 38/100\n",
      "606/606 [==============================] - 21s 35ms/sample - loss: 0.0207 - accuracy: 0.9912 - val_loss: 0.0669 - val_accuracy: 0.9836\n",
      "Epoch 39/100\n",
      "606/606 [==============================] - 21s 34ms/sample - loss: 0.0211 - accuracy: 0.9911 - val_loss: 0.0582 - val_accuracy: 0.9836\n",
      "Epoch 40/100\n",
      "604/606 [============================>.] - ETA: 0s - loss: 0.0206 - accuracy: 0.9913INFO:tensorflow:Assets written to: ../Models/Unet Original/assets\n",
      "606/606 [==============================] - 28s 46ms/sample - loss: 0.0207 - accuracy: 0.9913 - val_loss: 0.0655 - val_accuracy: 0.9847\n",
      "Epoch 41/100\n",
      "606/606 [==============================] - 19s 32ms/sample - loss: 0.0203 - accuracy: 0.9915 - val_loss: 0.0588 - val_accuracy: 0.9845\n",
      "Epoch 42/100\n",
      "606/606 [==============================] - 21s 34ms/sample - loss: 0.0195 - accuracy: 0.9918 - val_loss: 0.0715 - val_accuracy: 0.9844\n",
      "Epoch 43/100\n",
      "606/606 [==============================] - 20s 34ms/sample - loss: 0.0198 - accuracy: 0.9917 - val_loss: 0.0602 - val_accuracy: 0.9835\n",
      "Epoch 44/100\n",
      "606/606 [==============================] - 21s 35ms/sample - loss: 0.0204 - accuracy: 0.9914 - val_loss: 0.0530 - val_accuracy: 0.9836\n",
      "Epoch 45/100\n",
      "606/606 [==============================] - 22s 36ms/sample - loss: 0.0196 - accuracy: 0.9917 - val_loss: 0.0645 - val_accuracy: 0.9838\n",
      "Epoch 46/100\n",
      "606/606 [==============================] - 20s 33ms/sample - loss: 0.0199 - accuracy: 0.9917 - val_loss: 0.0645 - val_accuracy: 0.9829\n",
      "Epoch 47/100\n",
      "606/606 [==============================] - 20s 33ms/sample - loss: 0.0195 - accuracy: 0.9918 - val_loss: 0.0565 - val_accuracy: 0.9841\n",
      "Epoch 48/100\n",
      "606/606 [==============================] - 20s 33ms/sample - loss: 0.0194 - accuracy: 0.9918 - val_loss: 0.0635 - val_accuracy: 0.9840\n",
      "Epoch 49/100\n",
      "604/606 [============================>.] - ETA: 0s - loss: 0.0189 - accuracy: 0.9920 EINFO:tensorflow:Assets written to: ../Models/Unet Original/assets\n",
      "606/606 [==============================] - 28s 47ms/sample - loss: 0.0189 - accuracy: 0.9921 - val_loss: 0.0649 - val_accuracy: 0.9848\n",
      "Epoch 50/100\n",
      "606/606 [==============================] - 19s 32ms/sample - loss: 0.0188 - accuracy: 0.9921 - val_loss: 0.0506 - val_accuracy: 0.9841\n",
      "Epoch 51/100\n",
      "606/606 [==============================] - 21s 34ms/sample - loss: 0.0190 - accuracy: 0.9920 - val_loss: 0.0649 - val_accuracy: 0.9830\n",
      "Epoch 52/100\n",
      "606/606 [==============================] - 21s 35ms/sample - loss: 0.0185 - accuracy: 0.9922 - val_loss: 0.0621 - val_accuracy: 0.9838\n",
      "Epoch 53/100\n",
      "606/606 [==============================] - 22s 36ms/sample - loss: 0.0192 - accuracy: 0.9920 - val_loss: 0.0643 - val_accuracy: 0.9835\n",
      "Epoch 54/100\n",
      "606/606 [==============================] - 21s 35ms/sample - loss: 0.0189 - accuracy: 0.9920 - val_loss: 0.0587 - val_accuracy: 0.9844\n",
      "Epoch 55/100\n",
      "606/606 [==============================] - 21s 35ms/sample - loss: 0.0186 - accuracy: 0.9922 - val_loss: 0.0627 - val_accuracy: 0.9839\n",
      "Epoch 56/100\n",
      "606/606 [==============================] - 24s 40ms/sample - loss: 0.0176 - accuracy: 0.9925 - val_loss: 0.0630 - val_accuracy: 0.9838\n",
      "Epoch 57/100\n",
      "604/606 [============================>.] - ETA: 0s - loss: 0.0184 - accuracy: 0.9923INFO:tensorflow:Assets written to: ../Models/Unet Original/assets\n",
      "606/606 [==============================] - 28s 47ms/sample - loss: 0.0184 - accuracy: 0.9923 - val_loss: 0.0562 - val_accuracy: 0.9854\n",
      "Epoch 58/100\n",
      "606/606 [==============================] - 19s 32ms/sample - loss: 0.0184 - accuracy: 0.9922 - val_loss: 0.0666 - val_accuracy: 0.9847\n",
      "Epoch 00058: early stopping\n"
     ]
    }
   ],
   "source": [
    "# Training\n",
    "history = model.fit(train_images, train_masks, validation_data = (val_images, val_masks), batch_size = batch_size, epochs=number_epochs, callbacks=[early_stopping, model_checkpoint])"
   ]
  },
  {
   "cell_type": "code",
   "execution_count": 7,
   "metadata": {},
   "outputs": [
    {
     "data": {
      "image/png": "[encoded data removed]",
      "text/plain": [
       "<Figure size 432x288 with 1 Axes>"
      ]
     },
     "metadata": {
      "needs_background": "light"
     },
     "output_type": "display_data"
    },
    {
     "data": {
      "image/png": "[encoded data removed]",
      "text/plain": [
       "<Figure size 432x288 with 1 Axes>"
      ]
     },
     "metadata": {
      "needs_background": "light"
     },
     "output_type": "display_data"
    }
   ],
   "source": [
    "plot_history(history)"
   ]
  },
  {
   "cell_type": "code",
   "execution_count": 8,
   "metadata": {},
   "outputs": [
    {
     "name": "stdout",
     "output_type": "stream",
     "text": [
      "510/510 [==============================] - 7s 14ms/sample - loss: 0.0359 - accuracy: 0.9905\n"
     ]
    }
   ],
   "source": [
    "# Load best model saved by ModelCheckpoint\n",
    "model = tensorflow.keras.models.load_model(unet_original_save_path)\n",
    "\n",
    "# Evaluate best model\n",
    "model.evaluate(test_images, test_masks);"
   ]
  }
 ],
 "metadata": {
  "colab": {
   "collapsed_sections": [],
   "name": "UNET Distortion.ipynb",
   "version": ""
  },
  "kernelspec": {
   "display_name": "Python 3",
   "language": "python",
   "name": "python3"
  },
  "language_info": {
   "codemirror_mode": {
    "name": "ipython",
    "version": 3
   },
   "file_extension": ".py",
   "mimetype": "text/x-python",
   "name": "python",
   "nbconvert_exporter": "python",
   "pygments_lexer": "ipython3",
   "version": "3.7.10"
  }
 },
 "nbformat": 4,
 "nbformat_minor": 1
}
