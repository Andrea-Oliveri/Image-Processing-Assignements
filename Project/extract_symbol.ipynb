{
 "cells": [
  {
   "cell_type": "code",
   "execution_count": 93,
   "id": "8b383afb",
   "metadata": {},
   "outputs": [],
   "source": [
    "from Scripts import *"
   ]
  },
  {
   "cell_type": "markdown",
   "id": "1aa1df65",
   "metadata": {},
   "source": [
    "### Extract Symbol (i.e Spade/Heart etc...) from bboxed cards"
   ]
  },
  {
   "cell_type": "code",
   "execution_count": 279,
   "id": "65c6edde",
   "metadata": {},
   "outputs": [],
   "source": [
    "example = cv2.imread('./media/cropped_images/game1/1r4.jpg')"
   ]
  },
  {
   "cell_type": "code",
   "execution_count": 280,
   "id": "e96dd566",
   "metadata": {},
   "outputs": [],
   "source": [
    "def dense(comps,labels_im):\n",
    "    # get connected compo with enough pixel count \n",
    "    thresh = np.mean(comps[1:,1])\n",
    "    candidate = np.asarray([comp for comp in comps if comp[1] > thresh])[:,0][1:] # remove background\n",
    "    \n",
    "    # compute \n",
    "    ret = []\n",
    "    for obj in candidate:\n",
    "        \n",
    "        coords = np.where((labels_im)==obj)\n",
    "        xmin,xmax = coords[0][0], coords[0][-1]\n",
    "        ymin,ymax = coords[1][0], coords[1][-1]\n",
    "    \n",
    "        # arbitrary value\n",
    "        if abs(xmax-xmin) < 350 and abs(ymax-ymin) < 350: \n",
    "            ret.append(obj)\n",
    "    return ret"
   ]
  },
  {
   "cell_type": "code",
   "execution_count": 281,
   "id": "f8469b9b",
   "metadata": {},
   "outputs": [],
   "source": [
    "def extract_symbol(img):\n",
    "    # input gotta be colored and we take green channel\n",
    "    threshed = (img[:,:,1] < 100) * 255 \n",
    "    num_labels, labels_im, stats, centroids = cv2.connectedComponentsWithStats(\n",
    "                                                threshed.astype(np.uint8), 4)\n",
    "    \n",
    "    # sort by pixel count of a component\n",
    "    possible = np.array(sorted([(idx,val) for idx,val \n",
    "                 in enumerate(stats[:,-1])],\n",
    "                key=lambda x:x[1],reverse=True))\n",
    "    \n",
    "    # get compact and large enough connected components\n",
    "    r1,r2,r3 = dense(possible, labels_im)[:3]\n",
    "    \n",
    "    figure = (labels_im == r1) # represent largest shape and so the number\n",
    "    sym1 = (labels_im == r2) # represent symbols\n",
    "    sym2 = (labels_im == r3)\n",
    "    \n",
    "    # bboxes\n",
    "    x1,x2,y1,y2 = get_rectanglecoords(figure)\n",
    "    x1s,x2s,y1s,y2s = get_rectanglecoords(sym1)\n",
    "    x1w,x2w,y1w,y2w = get_rectanglecoords(sym2)\n",
    "    return figure[y1:y2,x1:x2], sym1[y1s:y2s,x1s:x2s], sym2[y1w:y2w,x1w:x2w]"
   ]
  },
  {
   "cell_type": "code",
   "execution_count": 282,
   "id": "f468f739",
   "metadata": {},
   "outputs": [],
   "source": [
    "mask_figure, mask_sym1, mask_sym2 = extract_symbol(example)"
   ]
  },
  {
   "cell_type": "code",
   "execution_count": 283,
   "id": "b8ab6a08",
   "metadata": {},
   "outputs": [
    {
     "data": {
      "text/plain": [
       "<matplotlib.image.AxesImage at 0x7f6408fa3b50>"
      ]
     },
     "execution_count": 283,
     "metadata": {},
     "output_type": "execute_result"
    },
    {
     "data": {
      "image/png": "[encoded data removed]",
      "text/plain": [
       "<Figure size 432x288 with 1 Axes>"
      ]
     },
     "metadata": {
      "needs_background": "light"
     },
     "output_type": "display_data"
    }
   ],
   "source": [
    "plt.imshow(np.pad(mask_figure,100, 'constant',constant_values= 0))"
   ]
  },
  {
   "cell_type": "code",
   "execution_count": 284,
   "id": "6dc723ca",
   "metadata": {},
   "outputs": [
    {
     "data": {
      "text/plain": [
       "<matplotlib.image.AxesImage at 0x7f6408f42b50>"
      ]
     },
     "execution_count": 284,
     "metadata": {},
     "output_type": "execute_result"
    },
    {
     "data": {
      "image/png": "[encoded data removed]",
      "text/plain": [
       "<Figure size 432x288 with 1 Axes>"
      ]
     },
     "metadata": {
      "needs_background": "light"
     },
     "output_type": "display_data"
    }
   ],
   "source": [
    "plt.imshow(np.pad(mask_sym1, 30, 'constant',constant_values = 0))"
   ]
  },
  {
   "cell_type": "code",
   "execution_count": 285,
   "id": "f899d7bb",
   "metadata": {},
   "outputs": [
    {
     "data": {
      "text/plain": [
       "<matplotlib.image.AxesImage at 0x7f6408f4bdf0>"
      ]
     },
     "execution_count": 285,
     "metadata": {},
     "output_type": "execute_result"
    },
    {
     "data": {
      "image/png": "[encoded data removed]",
      "text/plain": [
       "<Figure size 432x288 with 1 Axes>"
      ]
     },
     "metadata": {
      "needs_background": "light"
     },
     "output_type": "display_data"
    }
   ],
   "source": [
    "plt.imshow(np.pad(mask_sym2, 30, 'constant',constant_values = 0))"
   ]
  },
  {
   "cell_type": "markdown",
   "id": "ee55aee6",
   "metadata": {},
   "source": [
    "Apply on all cropped out images from extract main"
   ]
  },
  {
   "cell_type": "code",
   "execution_count": 270,
   "id": "3c4d0af4",
   "metadata": {},
   "outputs": [],
   "source": [
    "def compare_ratio(img1,img2):\n",
    "    a,b = img1.shape\n",
    "    c,d = img2.shape\n",
    "    return (max(a,b) / min(a,b)) < (max(c,d) / min(c,d))"
   ]
  },
  {
   "cell_type": "code",
   "execution_count": 271,
   "id": "4b52a39c",
   "metadata": {},
   "outputs": [
    {
     "name": "stdout",
     "output_type": "stream",
     "text": [
      "file exist\n",
      "file exist\n",
      "file exist\n",
      "file exist\n",
      "file exist\n",
      "file exist\n",
      "file exist\n",
      "file exist\n",
      "file exist\n",
      "file exist\n",
      "file exist\n",
      "file exist\n",
      "file exist\n",
      "file exist\n"
     ]
    }
   ],
   "source": [
    "path = './media/cropped_images/'\n",
    "target_path = './media/cropped_figures/'\n",
    "target_path2 = './media/cropped_symb/'\n",
    "\n",
    "for game in os.listdir(path):\n",
    "    game_path = path + game \n",
    "        \n",
    "    try: \n",
    "        os.makedirs(target_path + game)\n",
    "    except:\n",
    "        print('file exist')\n",
    "    try:\n",
    "        os.makedirs(target_path2 + game)\n",
    "    except:\n",
    "        print('file exist')\n",
    "    for rd in os.listdir(game_path):\n",
    "        if 'c' in rd: continue\n",
    "        img = cv2.imread(game_path + '/' + rd)\n",
    "        try: mask_fig, mask_sym1, mask_sym2 = extract_symbol(img)\n",
    "        except: continue\n",
    "        \n",
    "        if compare_ratio(mask_sym1,mask_sym2):\n",
    "            cv2.imwrite(target_path2 + game + '/'+ rd, \n",
    "                        255 * np.pad(mask_sym1, 30, 'constant',\n",
    "                        constant_values = 0).astype(np.uint8))\n",
    "        else:\n",
    "            cv2.imwrite(target_path2 + game + '/'+ rd, \n",
    "                        255 * np.pad(mask_sym2, 30, 'constant',\n",
    "                        constant_values = 0).astype(np.uint8))\n",
    "        \n",
    "        \n",
    "        cv2.imwrite(target_path + game + '/'+rd, 255* np.pad(mask_fig,100, 'constant'\n",
    "                                                        ,constant_values= 0).astype(np.uint8))"
   ]
  },
  {
   "cell_type": "markdown",
   "id": "11e275db",
   "metadata": {},
   "source": [
    "<b> Separating for symbols, experiments? </b>"
   ]
  },
  {
   "cell_type": "code",
   "execution_count": 197,
   "id": "79d2a6dc",
   "metadata": {},
   "outputs": [],
   "source": [
    "d = Dataset(root='./train_games/')\n",
    "images, label = d.getitem('game1')"
   ]
  },
  {
   "cell_type": "code",
   "execution_count": 199,
   "id": "d50a05ef",
   "metadata": {},
   "outputs": [
    {
     "data": {
      "text/html": [
       "<div>\n",
       "<style scoped>\n",
       "    .dataframe tbody tr th:only-of-type {\n",
       "        vertical-align: middle;\n",
       "    }\n",
       "\n",
       "    .dataframe tbody tr th {\n",
       "        vertical-align: top;\n",
       "    }\n",
       "\n",
       "    .dataframe thead th {\n",
       "        text-align: right;\n",
       "    }\n",
       "</style>\n",
       "<table border=\"1\" class=\"dataframe\">\n",
       "  <thead>\n",
       "    <tr style=\"text-align: right;\">\n",
       "      <th></th>\n",
       "      <th>round</th>\n",
       "      <th>P1</th>\n",
       "      <th>P2</th>\n",
       "      <th>P3</th>\n",
       "      <th>P4</th>\n",
       "      <th>D</th>\n",
       "      <th>game</th>\n",
       "    </tr>\n",
       "  </thead>\n",
       "  <tbody>\n",
       "    <tr>\n",
       "      <th>0</th>\n",
       "      <td>1</td>\n",
       "      <td>QS</td>\n",
       "      <td>8H</td>\n",
       "      <td>JH</td>\n",
       "      <td>0S</td>\n",
       "      <td>1</td>\n",
       "      <td>game1</td>\n",
       "    </tr>\n",
       "    <tr>\n",
       "      <th>1</th>\n",
       "      <td>2</td>\n",
       "      <td>5S</td>\n",
       "      <td>JS</td>\n",
       "      <td>9C</td>\n",
       "      <td>KD</td>\n",
       "      <td>1</td>\n",
       "      <td>game1</td>\n",
       "    </tr>\n",
       "    <tr>\n",
       "      <th>2</th>\n",
       "      <td>3</td>\n",
       "      <td>1D</td>\n",
       "      <td>3H</td>\n",
       "      <td>7C</td>\n",
       "      <td>3D</td>\n",
       "      <td>1</td>\n",
       "      <td>game1</td>\n",
       "    </tr>\n",
       "    <tr>\n",
       "      <th>3</th>\n",
       "      <td>4</td>\n",
       "      <td>1S</td>\n",
       "      <td>JD</td>\n",
       "      <td>4S</td>\n",
       "      <td>4C</td>\n",
       "      <td>1</td>\n",
       "      <td>game1</td>\n",
       "    </tr>\n",
       "    <tr>\n",
       "      <th>4</th>\n",
       "      <td>5</td>\n",
       "      <td>0D</td>\n",
       "      <td>6S</td>\n",
       "      <td>3C</td>\n",
       "      <td>2C</td>\n",
       "      <td>1</td>\n",
       "      <td>game1</td>\n",
       "    </tr>\n",
       "    <tr>\n",
       "      <th>5</th>\n",
       "      <td>6</td>\n",
       "      <td>8S</td>\n",
       "      <td>9D</td>\n",
       "      <td>3S</td>\n",
       "      <td>KS</td>\n",
       "      <td>1</td>\n",
       "      <td>game1</td>\n",
       "    </tr>\n",
       "    <tr>\n",
       "      <th>6</th>\n",
       "      <td>7</td>\n",
       "      <td>4D</td>\n",
       "      <td>7H</td>\n",
       "      <td>7D</td>\n",
       "      <td>6H</td>\n",
       "      <td>1</td>\n",
       "      <td>game1</td>\n",
       "    </tr>\n",
       "    <tr>\n",
       "      <th>7</th>\n",
       "      <td>8</td>\n",
       "      <td>0C</td>\n",
       "      <td>KC</td>\n",
       "      <td>9S</td>\n",
       "      <td>8C</td>\n",
       "      <td>1</td>\n",
       "      <td>game1</td>\n",
       "    </tr>\n",
       "    <tr>\n",
       "      <th>8</th>\n",
       "      <td>9</td>\n",
       "      <td>5D</td>\n",
       "      <td>5H</td>\n",
       "      <td>1H</td>\n",
       "      <td>7S</td>\n",
       "      <td>1</td>\n",
       "      <td>game1</td>\n",
       "    </tr>\n",
       "    <tr>\n",
       "      <th>9</th>\n",
       "      <td>10</td>\n",
       "      <td>QH</td>\n",
       "      <td>QC</td>\n",
       "      <td>6D</td>\n",
       "      <td>9H</td>\n",
       "      <td>1</td>\n",
       "      <td>game1</td>\n",
       "    </tr>\n",
       "    <tr>\n",
       "      <th>10</th>\n",
       "      <td>11</td>\n",
       "      <td>4H</td>\n",
       "      <td>2D</td>\n",
       "      <td>JC</td>\n",
       "      <td>QD</td>\n",
       "      <td>1</td>\n",
       "      <td>game1</td>\n",
       "    </tr>\n",
       "    <tr>\n",
       "      <th>11</th>\n",
       "      <td>12</td>\n",
       "      <td>6C</td>\n",
       "      <td>8D</td>\n",
       "      <td>2H</td>\n",
       "      <td>KH</td>\n",
       "      <td>1</td>\n",
       "      <td>game1</td>\n",
       "    </tr>\n",
       "    <tr>\n",
       "      <th>12</th>\n",
       "      <td>13</td>\n",
       "      <td>1C</td>\n",
       "      <td>5C</td>\n",
       "      <td>0H</td>\n",
       "      <td>2S</td>\n",
       "      <td>1</td>\n",
       "      <td>game1</td>\n",
       "    </tr>\n",
       "  </tbody>\n",
       "</table>\n",
       "</div>"
      ],
      "text/plain": [
       "    round  P1  P2  P3  P4  D   game\n",
       "0       1  QS  8H  JH  0S  1  game1\n",
       "1       2  5S  JS  9C  KD  1  game1\n",
       "2       3  1D  3H  7C  3D  1  game1\n",
       "3       4  1S  JD  4S  4C  1  game1\n",
       "4       5  0D  6S  3C  2C  1  game1\n",
       "5       6  8S  9D  3S  KS  1  game1\n",
       "6       7  4D  7H  7D  6H  1  game1\n",
       "7       8  0C  KC  9S  8C  1  game1\n",
       "8       9  5D  5H  1H  7S  1  game1\n",
       "9      10  QH  QC  6D  9H  1  game1\n",
       "10     11  4H  2D  JC  QD  1  game1\n",
       "11     12  6C  8D  2H  KH  1  game1\n",
       "12     13  1C  5C  0H  2S  1  game1"
      ]
     },
     "execution_count": 199,
     "metadata": {},
     "output_type": "execute_result"
    }
   ],
   "source": [
    "label"
   ]
  },
  {
   "cell_type": "code",
   "execution_count": null,
   "id": "be42ffc0",
   "metadata": {},
   "outputs": [],
   "source": []
  },
  {
   "cell_type": "code",
   "execution_count": 278,
   "id": "78cdd21e",
   "metadata": {},
   "outputs": [
    {
     "name": "stdout",
     "output_type": "stream",
     "text": [
      "73.2 µs ± 1.19 µs per loop (mean ± std. dev. of 7 runs, 10000 loops each)\n",
      "6.21 µs ± 105 ns per loop (mean ± std. dev. of 7 runs, 100000 loops each)\n"
     ]
    }
   ],
   "source": [
    "%timeit  moments = cv2.moments(figure[y1:y2,x1:x2].astype(np.uint8)) \n",
    "%timeit huMoments = cv2.HuMoments(moments)\n",
    "#huMoments"
   ]
  },
  {
   "cell_type": "code",
   "execution_count": null,
   "id": "071b386f",
   "metadata": {},
   "outputs": [],
   "source": []
  }
 ],
 "metadata": {
  "kernelspec": {
   "display_name": "Python 3",
   "language": "python",
   "name": "python3"
  },
  "language_info": {
   "codemirror_mode": {
    "name": "ipython",
    "version": 3
   },
   "file_extension": ".py",
   "mimetype": "text/x-python",
   "name": "python",
   "nbconvert_exporter": "python",
   "pygments_lexer": "ipython3",
   "version": "3.8.5"
  }
 },
 "nbformat": 4,
 "nbformat_minor": 5
}
