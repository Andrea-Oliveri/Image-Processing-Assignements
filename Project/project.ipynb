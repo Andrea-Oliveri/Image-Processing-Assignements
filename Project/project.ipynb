{
 "cells": [
  {
   "cell_type": "markdown",
   "metadata": {},
   "source": [
    "# [IAPR][iapr]: Project\n",
    "\n",
    "\n",
    "**Group ID:** 26\n",
    "\n",
    "**Author 1 (sciper):** Andrea Oliveri (283506)  \n",
    "**Author 2 (sciper):** Charles Berger (272018)   \n",
    "**Author 3 (sciper):** Chun Hei Michael Chan (311722)  \n",
    "\n",
    "**Release date:** 07.05.2021  \n",
    "**Due date:** 03.06.2021 (23h59)\n",
    "\n",
    "\n",
    "## Important notes\n",
    "\n",
    "The lab assignments are designed to teach practical implementation of the topics presented during class as well as preparation for the final project, which is a practical project which ties together the topics of the course. \n",
    "\n",
    "As such, in the lab assignments/final project, unless otherwise specified, you may, if you choose, use external functions from image processing/ML libraries like opencv and sklearn as long as there is sufficient explanation in the lab report. For example, you do not need to implement your own edge detector, etc.\n",
    "\n",
    "**! Before handling back the notebook !** rerun the notebook from scratch `Kernel` > `Restart & Run All`\n",
    "\n",
    "\n",
    "[iapr]: https://github.com/LTS5/iapr"
   ]
  },
  {
   "cell_type": "markdown",
   "metadata": {},
   "source": [
    "---\n",
    "## 0. Introduction\n",
    "\n",
    "An anonymous researcher that we will name Lann Yecun is convinced that the MNIST dataset still has great potential. He decides to create a playing card game based on MNIST digits and different figures. The game uses a standard 52 card deck which is composed of four French suits/colours: clubs (&#9827;), diamonds (&#9830;), hearts (&#9829;) and spades (&#9824;). Each suit includes 10 digit cards (from 0 to 9) and 3 figures (Jack-J, Queen-Q, and King-K). Here is an example of the 13 spade cards with their name.\n",
    "\n",
    "\n",
    "<img src=\"media/example_cards.png\">\n",
    "\n",
    "\n",
    "We can find the same arrangement of cards for the clubs, diamonds, and hearts. \n",
    "\n",
    "\n",
    "## 1. Rules\n",
    "\n",
    "\n",
    "### 1.1 Standard\n",
    "\n",
    "The rules are based on the simple battle card game. The goal of the game is to win as many points as possible. Each turn, the 4 players play a card in front of them. As displayed in the example below. The rules are the following:\n",
    "\n",
    "- The cards are ranked in the following order : **0 < 1 < 2 < 3 < 4 < 5 < 6 < 7 < 8 < 9 < J < Q < K**.\n",
    "- The player with the highest-ranked card wins the round and obtains **1 point**. \n",
    "- If the highest-ranked card is the same for multiple players we call it a draw and all winners get **1 points**. \n",
    "- In this configuration, we **do not** take into account the suits. The game only rely on the card ranks. \n",
    "- The game lasts 13 rounds. After the last round, the winner is the player that has the largest number of points. \n",
    "- In the example below Player 1 wins the round with his Queen ( 0 < 8 < J < **Q**).\n",
    "\n",
    "If two or more players have the same number of points they share the victory.\n",
    "\n",
    "### 1.2 Advanced\n",
    "\n",
    "The advanced rules take into account the suits. \n",
    "\n",
    "- At the beginning of **each round** a random player is designated as the **dealer**. The dealer places a green token with the letter *D* next to him (player 1 in the example below).\n",
    "- Only the cards that belong to the same suit as the one of the dealer are considered valid. In the example below, only Player 4 is competing with Player 1 as spade was selected by the dealer (e.i., Player 1). Player 2 and 3 are out for this round. Player 1 wins the round and **1 point** with the Queen ( 0&#9824; < **Q&#9824;**).\n",
    "- There cannot be any draw between the players as they are not any card duplicates.\n",
    "- We use the same system as the standard method to count the points.\n",
    "\n",
    "\n",
    "<img src=\"media/example_round.jpg\">\n",
    "\n",
    "\n",
    "### 1.3 Notes\n",
    "\n",
    "- The orientation of the card is linked to the position of the player around the table. For instance, to read the card of the 3rd player you will have to rotate it by 180°.\n",
    "- The **digits** always **face** the players around the table. The figures can have random orientations.\n",
    "- Player 1 **always** seats south of the table. The players are **always** ordered counter-clockwise as in the example. \n",
    "- The dealers can change between the rounds and games.\n",
    "- Some cards **might** apear multiple times per game.\n",
    "- Pictures are always taken from rougthly the same altitude.\n",
    "- The digits from the training set **would not** be the same as the one of the testing set."
   ]
  },
  {
   "cell_type": "markdown",
   "metadata": {},
   "source": [
    "---\n",
    "## 2. Data\n",
    "\n",
    "You will be given the images of 7 games that were played ([download link](https://drive.google.com/drive/folders/1fEy27wnJsUJPRsEEomzoAtP56s-7HFtk?usp=sharing)). The data are composed of:\n",
    "   - 7 folder named after the games (game1 to game7).\n",
    "   - Each game includes 13 ordered images (1st to 13th round).\n",
    "   - Each game includes a csv file with the ground truth of the game. The first row list the players (P1 to P4) as well as the dealer (D). The following rows represent the rounds (1 to 13). We represent the card played with 2 character as $AB$ where $A \\in [0-9, J, Q, K]$ is the rank of the card and $B \\in [C, D, H, S]$ is the suit. For example, QS means \"(Q)ueen of (S)pade\" and 0D means \"(0) of (D)iamond\". The dealer is represented by the ID of the player (e.g. P1 -> 1).\n",
    "   \n",
    "You are free to use external datasets such as the original MNIST train set that you used in lab 3."
   ]
  },
  {
   "cell_type": "markdown",
   "metadata": {},
   "source": [
    "---\n",
    "## 3. Your Tasks\n",
    "\n",
    "Your task is to ready yourself for the final evaluation. The day of the exam we will give you a new folder with a new game. ! The digits on the cards **differ** from the one of the traning set. When given a new data folder with 13 images your should be able to:\n",
    "\n",
    "**Task 0**\n",
    "   - Plot an overlay for each round image that shows your detections and classification. You can for example plot bounding boxes around the cards/dealer token and add a text overlay with the name of the classes.\n",
    "\n",
    "**Task 1**\n",
    "   - (a) Predict the **rank** of the card played by each player at each round (Standard rules).\n",
    "   - (b) Predict the **number of points** of each player according to **Standard** rules\n",
    " \n",
    "**Task 2**\n",
    "   - (a) Detect which player is the selected **dealer** for each round.\n",
    "   - (b) Predict the **rank** and the **suit** of the card played by each player at each round (Advanced rules).\n",
    "   - (c) Predict the **number of points** of each player according to **Advanced** rules\n",
    "\n",
    "---\n",
    "\n",
    "**Before the exam (until 03.06.21 at 23h59)**\n",
    "   - Create a zipped folder named **group_xx.zip** that you uplaod on moodel (xx being your group number).\n",
    "   - Include a **runnable** code (Jupyter Notebook and external files) and your presentation in the zip folder.\n",
    "   \n",
    "**The day of the exam (04.06.21)**\n",
    "   - You will be given a **new folder** with 13 images (rounds) and but **no ground truth** (csv file).\n",
    "   - We will ask you to run your pipeline in **realtime** and to send us your prediction of task 1 and 2 that you obtain with the function **print_results**. \n",
    "   - On our side we will compute the perfomance of your classification algorithm. \n",
    "   - To evaluate your method we will use the **evaluate_game** function presented below. To understant how the provided functions work please read the documentation of the functions in **utils.py**.\n",
    "   - **Please make sure your function returns the proper data format to avoid points penalty the day of the exam**. "
   ]
  },
  {
   "cell_type": "code",
   "execution_count": 46,
   "metadata": {},
   "outputs": [],
   "source": [
    "from scripts import *\n",
    "import tensorflow as tf\n",
    "import pickle\n",
    "\n",
    "\n",
    "# FUNCTIONS BELOW MIGHT NEED TO BE SHIFTED TO UTILITIES.PY OR SOMEWHERE ELSE\n",
    "def process_figure_mask(mask):\n",
    "    height, width = mask.shape\n",
    "    max_size = max(height, width)\n",
    "    \n",
    "    pad_left   = (max_size - width ) // 2\n",
    "    pad_right  = max_size - width - pad_left\n",
    "    pad_top    = (max_size - height) // 2\n",
    "    pad_bottom = max_size - height - pad_top\n",
    "    \n",
    "    mask = cv2.copyMakeBorder(mask, pad_top, pad_bottom, pad_left, pad_right, borderType = cv2.BORDER_CONSTANT, value = 0)\n",
    "    mask = zoom_image_to_meet_shape(mask, (28, 28))\n",
    "    mask = normalize(mask)\n",
    "    mask = binarize(mask)\n",
    "    \n",
    "    return mask.astype(np.float32)\n",
    "\n",
    "suit_translate = {0: 'S', 1: 'C', 2: 'H', 3: 'D'}\n",
    "figure_translate = {i:str(i) for i in range(10)}\n",
    "figure_translate[10] = 'J'\n",
    "figure_translate[11] = 'Q'\n",
    "figure_translate[12] = 'K'\n",
    "\n",
    "\n",
    "def round2df(dealer, class_fig, class_suit, rd_nb, game_nb):\n",
    "    # dealer -> number, class_fig -> array[4], class_suit -> array[4] \n",
    "    # rd_nb -> number, game_nb -> number\n",
    "    \n",
    "    suits = [suit_translate[c] for c in class_suit]\n",
    "    figures = [figure_translate[c] for c in class_fig]\n",
    "    round_label = {'P'+str(i+1):[figures[i]+suits[i]] for i in range(len(suits))}\n",
    "    round_label['D'] = [dealer]\n",
    "    round_label['round'] = rd_nb\n",
    "    round_label['game'] = game_nb\n",
    "    \n",
    "    return pd.DataFrame.from_dict(round_label)\n",
    "\n",
    "def pred_to_answer(fig_class, suit_class, dealer):\n",
    "    # format of answer is :\n",
    "    # two lists of -> rank (e.g '0H') and -> dealer (e.g 2)\n",
    "    pass"
   ]
  },
  {
   "cell_type": "markdown",
   "metadata": {},
   "source": [
    "<b> 1. We load the data i.e the images and the ground truth. We as well instantiate the extractor. </b>"
   ]
  },
  {
   "cell_type": "code",
   "execution_count": 47,
   "metadata": {},
   "outputs": [],
   "source": [
    "# use loader to get labels and images\n",
    "\n",
    "data_loader = DataLoader()\n",
    "extractor = Extractor()"
   ]
  },
  {
   "cell_type": "markdown",
   "metadata": {},
   "source": [
    "<b> 2. We load the trained models for prediction </b>"
   ]
  },
  {
   "cell_type": "code",
   "execution_count": 48,
   "metadata": {
    "collapsed": true
   },
   "outputs": [
    {
     "name": "stdout",
     "output_type": "stream",
     "text": [
      "WARNING:tensorflow:Inconsistent references when loading the checkpoint into this object graph. Either the Trackable object references in the Python program have changed in an incompatible way, or the checkpoint was generated in an incompatible program.\n",
      "\n",
      "Two checkpoint references resolved to different objects (<tensorflow.python.keras.layers.convolutional.Conv2D object at 0x7fcf9f963c40> and <tensorflow.python.keras.layers.pooling.MaxPooling2D object at 0x7fcf9fa82ca0>).\n",
      "WARNING:tensorflow:Inconsistent references when loading the checkpoint into this object graph. Either the Trackable object references in the Python program have changed in an incompatible way, or the checkpoint was generated in an incompatible program.\n",
      "\n",
      "Two checkpoint references resolved to different objects (<tensorflow.python.keras.layers.convolutional.Conv2D object at 0x7fcf9fa829a0> and <tensorflow.python.keras.layers.pooling.MaxPooling2D object at 0x7fcf9fa7e4c0>).\n",
      "WARNING:tensorflow:Inconsistent references when loading the checkpoint into this object graph. Either the Trackable object references in the Python program have changed in an incompatible way, or the checkpoint was generated in an incompatible program.\n",
      "\n",
      "Two checkpoint references resolved to different objects (<tensorflow.python.keras.layers.convolutional.Conv2D object at 0x7fcf9fa7e040> and <tensorflow.python.keras.layers.core.SpatialDropout2D object at 0x7fcf9fa920a0>).\n",
      "WARNING:tensorflow:Inconsistent references when loading the checkpoint into this object graph. Either the Trackable object references in the Python program have changed in an incompatible way, or the checkpoint was generated in an incompatible program.\n",
      "\n",
      "Two checkpoint references resolved to different objects (<tensorflow.python.keras.layers.convolutional.Conv2D object at 0x7fcf9fa92160> and <tensorflow.python.keras.layers.core.Flatten object at 0x7fcf9fafd250>).\n",
      "WARNING:tensorflow:Inconsistent references when loading the checkpoint into this object graph. Either the Trackable object references in the Python program have changed in an incompatible way, or the checkpoint was generated in an incompatible program.\n",
      "\n",
      "Two checkpoint references resolved to different objects (<tensorflow.python.keras.layers.convolutional.Conv2D object at 0x7fcf9fa829a0> and <tensorflow.python.keras.layers.pooling.MaxPooling2D object at 0x7fcf9fa82ca0>).\n",
      "WARNING:tensorflow:Inconsistent references when loading the checkpoint into this object graph. Either the Trackable object references in the Python program have changed in an incompatible way, or the checkpoint was generated in an incompatible program.\n",
      "\n",
      "Two checkpoint references resolved to different objects (<tensorflow.python.keras.layers.convolutional.Conv2D object at 0x7fcf9fa7e040> and <tensorflow.python.keras.layers.pooling.MaxPooling2D object at 0x7fcf9fa7e4c0>).\n",
      "WARNING:tensorflow:Inconsistent references when loading the checkpoint into this object graph. Either the Trackable object references in the Python program have changed in an incompatible way, or the checkpoint was generated in an incompatible program.\n",
      "\n",
      "Two checkpoint references resolved to different objects (<tensorflow.python.keras.layers.convolutional.Conv2D object at 0x7fcf9fa92160> and <tensorflow.python.keras.layers.core.SpatialDropout2D object at 0x7fcf9fa920a0>).\n"
     ]
    }
   ],
   "source": [
    "# Loading models\n",
    "\n",
    "figure_clf = tf.keras.models.load_model('./Models/Fully Convolutional Network')\n",
    "with open('model_suit.pickle', 'rb') as handle:\n",
    "    clf = pickle.load(handle)"
   ]
  },
  {
   "cell_type": "markdown",
   "metadata": {},
   "source": [
    "<b> 3. We obtain the predictions from the extracted images, extracted by extractor</b>\n"
   ]
  },
  {
   "cell_type": "code",
   "execution_count": 51,
   "metadata": {
    "scrolled": true
   },
   "outputs": [
    {
     "name": "stderr",
     "output_type": "stream",
     "text": [
      "100%|██████████| 7/7 [01:46<00:00, 15.21s/it]\n"
     ]
    }
   ],
   "source": [
    "from tqdm import tqdm\n",
    "# Obtain predictions for all images\n",
    "\n",
    "res = []\n",
    "for game in tqdm(data_loader.get_available_games()):\n",
    "    round_fig_preds, round_suit_preds = [], []\n",
    "    round_dealer = []\n",
    "    for round_ in data_loader.get_available_rounds(game):\n",
    "        # print(\"Game: {}, Round: {}\".format(game, round_))\n",
    "        \n",
    "        image, _ = data_loader[game, round_]\n",
    "        # we use here the extractor object\n",
    "        dealer, cards, figures_suits = extractor(image)\n",
    "        \n",
    "        class_fig  = []\n",
    "        class_suit = []\n",
    "        \n",
    "        fig_suits = sorted(list(figures_suits.items()),key=lambda x:x[0])\n",
    "        for player, images in fig_suits:\n",
    "            figure_mask = get_color_pixels(images['figure'], images['color'])\n",
    "            suits_mask  = get_color_pixels(images['suit'  ], images['color'])\n",
    "            figure_mask = process_figure_mask(figure_mask)\n",
    "        \n",
    "            pred = figure_clf(figure_mask[None, :, :, None])\n",
    "            pred = np.argmax(pred)\n",
    "            pred_suits = suit_predict(images['suit'], clf)\n",
    "            \n",
    "            if verbose:\n",
    "                plt.imshow(figure_mask)\n",
    "                plt.title(pred)\n",
    "                plt.show()\n",
    "                \n",
    "            class_fig.append(pred)\n",
    "            class_suit.append(pred_suits)\n",
    "            \n",
    "\n",
    "        class_suit = np.asarray(class_suit).squeeze()\n",
    "        df_round = round2df(dealer, class_fig, class_suit, round_, game)\n",
    "        res.append(df_round)\n",
    "\n",
    "df_res = pd.concat(res)"
   ]
  },
  {
   "cell_type": "markdown",
   "metadata": {},
   "source": [
    "<b>4. Verify the different accuracies achieved on the 6 games by our method </b>"
   ]
  },
  {
   "cell_type": "markdown",
   "metadata": {},
   "source": [
    "Get accuracies according to rules"
   ]
  },
  {
   "cell_type": "code",
   "execution_count": 68,
   "metadata": {},
   "outputs": [
    {
     "name": "stdout",
     "output_type": "stream",
     "text": [
      "Your model accuracy for game 1 is: Standard=1.000, Advanced=1.000\n",
      "Your model accuracy for game 2 is: Standard=1.000, Advanced=1.000\n",
      "Your model accuracy for game 3 is: Standard=1.000, Advanced=1.000\n",
      "Your model accuracy for game 4 is: Standard=1.000, Advanced=1.000\n",
      "Your model accuracy for game 5 is: Standard=1.000, Advanced=1.000\n",
      "Your model accuracy for game 6 is: Standard=1.000, Advanced=1.000\n"
     ]
    }
   ],
   "source": [
    "for GAME_IDX in range(1,7):\n",
    "    # Load ground truth from game 1\n",
    "    cgt = pd.read_csv('train_games/game{0}/game{0}.csv'.format(GAME_IDX), index_col=0)\n",
    "    cgt_rank = cgt[['P1', 'P2', 'P3', 'P4']].values\n",
    "    pred_rank = np.asarray(df_res[df_res['game']==GAME_IDX][['P1','P2','P3','P4']])\n",
    "\n",
    "    # Compute accuracy of prediction\n",
    "    acc_standard = evaluate_game(pred_rank, cgt_rank, mode_advanced=False)\n",
    "    acc_advanced = evaluate_game(pred_rank, cgt_rank, mode_advanced=True)\n",
    "    print(\"Your model accuracy for game {} is: Standard={:.3f}, Advanced={:.3f}\".format(GAME_IDX,\n",
    "                                                                            acc_standard, \n",
    "                                                                            acc_advanced))"
   ]
  },
  {
   "cell_type": "markdown",
   "metadata": {},
   "source": [
    "Print the results on one game"
   ]
  },
  {
   "cell_type": "code",
   "execution_count": 64,
   "metadata": {},
   "outputs": [
    {
     "name": "stdout",
     "output_type": "stream",
     "text": [
      "count points (stadard rule): [0, 4, 4, 5]\n",
      "count points (advanced rule): [4, 2, 4, 3]\n"
     ]
    }
   ],
   "source": [
    "GAME_IDX = 7 \n",
    "\n",
    "g = Game(df_res.loc[df_res['game']==GAME_IDX])\n",
    "\n",
    "# Creates dummy predictions (toy exmaple)\n",
    "pred_rank = np.asarray(df_res[df_res['game']==1][['P1','P2','P3','P4']])\n",
    "pred_dealer = list(df_res[df_res['game']==1]['D'])\n",
    "\n",
    "pred_pts_stand = g.gamewinner(rule='standard')\n",
    "pred_pts_advan = g.gamewinner(rule='advanced')\n",
    "\n",
    "print('count points (stadard rule): {}'.format(g.gamewinner(rule='standard')))\n",
    "print('count points (advanced rule): {}'.format(g.gamewinner(rule='advanced')))"
   ]
  },
  {
   "cell_type": "code",
   "execution_count": 65,
   "metadata": {},
   "outputs": [
    {
     "name": "stdout",
     "output_type": "stream",
     "text": [
      "The cards played were:\n",
      "[\n",
      "['QS', '8H', 'JH', '0S'], \n",
      "['5S', 'JS', '9C', 'KD'], \n",
      "['1D', '3H', '7C', '3D'], \n",
      "['1S', 'JD', '4S', '4C'], \n",
      "['0D', '6S', '3C', '2C'], \n",
      "['8S', '9D', '3S', 'KS'], \n",
      "['4D', '7H', '7D', '6H'], \n",
      "['0C', 'KC', '9S', '8C'], \n",
      "['5D', '5H', '1H', '7S'], \n",
      "['QH', 'QC', '6D', '9H'], \n",
      "['4H', '2D', 'JC', 'QD'], \n",
      "['6C', '8D', '2H', 'KH'], \n",
      "['1C', '5C', '0H', '2S'], \n",
      "]\n",
      "Players designated as dealer: [1, 1, 1, 1, 1, 1, 1, 1, 1, 1, 1, 1, 1]\n",
      "Players points (standard): [0, 4, 4, 5]\n",
      "Players points (advanced): [4, 2, 4, 3]\n"
     ]
    }
   ],
   "source": [
    "print_results(\n",
    "    rank_colour=pred_rank, \n",
    "    dealer=pred_dealer, \n",
    "    pts_standard=pred_pts_stand,\n",
    "    pts_advanced=pred_pts_advan,\n",
    ")"
   ]
  },
  {
   "cell_type": "markdown",
   "metadata": {},
   "source": [
    "---\n",
    "### 3.1 Example Final results\n",
    "\n",
    "Example of output you **should** provide the day of the final exam."
   ]
  },
  {
   "cell_type": "code",
   "execution_count": 1,
   "metadata": {},
   "outputs": [
    {
     "name": "stdout",
     "output_type": "stream",
     "text": [
      "The cards played were:\n",
      "[\n",
      "['0D', '0D', '0D', '0D'], \n",
      "['0D', '0D', '0D', '0D'], \n",
      "['0D', '0D', '0D', '0D'], \n",
      "['0D', '0D', '0D', '0D'], \n",
      "['0D', '0D', '0D', '0D'], \n",
      "['0D', '0D', '0D', '0D'], \n",
      "['0D', '0D', '0D', '0D'], \n",
      "['0D', '0D', '0D', '0D'], \n",
      "['0D', '0D', '0D', '0D'], \n",
      "['0D', '0D', '0D', '0D'], \n",
      "['0D', '0D', '0D', '0D'], \n",
      "['0D', '0D', '0D', '0D'], \n",
      "['0D', '0D', '0D', '0D'], \n",
      "]\n",
      "Players designated as dealer: [1, 1, 1, 1, 1, 1, 1, 1, 1, 1, 1, 1, 1]\n",
      "Players points (standard): [0, 0, 0, 13]\n",
      "Players points (advanced): [0, 0, 8, 7]\n"
     ]
    }
   ],
   "source": [
    "from utils import print_results\n",
    "import numpy as np\n",
    "\n",
    "# Creates dummy predictions (toy exmaple)\n",
    "pred_rank = np.array([\"0D\"]*4*13).reshape((13, 4)) # Everyone played the \"0 of spade\".\n",
    "pred_dealer = [1]*13                # List of players selected as dealer for each round\n",
    "pred_pts_stand = [0,0,0,13]         # Player 4 won 13 points with standard rules.\n",
    "pred_pts_advan = [0,0,8,7]          # Player 3 and 4 won 8 and 7 points with adv, rules respectively.\n",
    "\n",
    "print_results(\n",
    "    rank_colour=pred_rank, \n",
    "    dealer=pred_dealer, \n",
    "    pts_standard=pred_pts_stand,\n",
    "    pts_advanced=pred_pts_advan,\n",
    ")"
   ]
  },
  {
   "cell_type": "markdown",
   "metadata": {},
   "source": [
    "---\n",
    "### 3.2 Example Accuracy\n",
    "\n",
    "Example of code you can use to validate the performance of your model. Be careful the day of the exam you will not have access to the ground truth of the predictions."
   ]
  },
  {
   "cell_type": "code",
   "execution_count": 2,
   "metadata": {},
   "outputs": [
    {
     "name": "stdout",
     "output_type": "stream",
     "text": [
      "Your model accuracy is: Standard=0.077, Advanced=0.019\n"
     ]
    }
   ],
   "source": [
    "from utils import evaluate_game\n",
    "import pandas as pd\n",
    "#! You will need pandas libary to run the example. Please install the package using pip or conda commands !\n",
    "\n",
    "# Load ground truth from game 1\n",
    "cgt = pd.read_csv('train_games/game1/game1.csv', index_col=0)\n",
    "cgt_rank = cgt[['P1', 'P2', 'P3', 'P4']].values\n",
    "\n",
    "# Compute accuracy of prediction\n",
    "acc_standard = evaluate_game(pred_rank, cgt_rank, mode_advanced=False)\n",
    "acc_advanced = evaluate_game(pred_rank, cgt_rank, mode_advanced=True)\n",
    "print(\"Your model accuracy is: Standard={:.3f}, Advanced={:.3f}\".format(acc_standard, acc_advanced))"
   ]
  }
 ],
 "metadata": {
  "kernelspec": {
   "display_name": "Python 3",
   "language": "python",
   "name": "python3"
  },
  "language_info": {
   "codemirror_mode": {
    "name": "ipython",
    "version": 3
   },
   "file_extension": ".py",
   "mimetype": "text/x-python",
   "name": "python",
   "nbconvert_exporter": "python",
   "pygments_lexer": "ipython3",
   "version": "3.8.5"
  }
 },
 "nbformat": 4,
 "nbformat_minor": 2
}
