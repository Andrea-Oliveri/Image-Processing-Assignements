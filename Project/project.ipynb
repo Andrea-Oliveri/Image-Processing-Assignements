{
 "cells": [
  {
   "cell_type": "markdown",
   "metadata": {},
   "source": [
    "# [IAPR][iapr]: Project\n",
    "\n",
    "\n",
    "**Group ID:** 26\n",
    "\n",
    "**Author 1 (sciper):** Andrea Oliveri (283506)  \n",
    "**Author 2 (sciper):** Charles Berger (272018)   \n",
    "**Author 3 (sciper):** Chun Hei Michael Chan (311722)  \n",
    "\n",
    "\n",
    "**Release date:** 07.05.2021  \n",
    "**Due date:** 03.06.2021 (23h59) \n",
    "\n",
    "\n",
    "## Important notes\n",
    "\n",
    "The lab assignments are designed to teach practical implementation of the topics presented during class as well as preparation for the final project, which is a practical project which ties together the topics of the course. \n",
    "\n",
    "As such, in the lab assignments/final project, unless otherwise specified, you may, if you choose, use external functions from image processing/ML libraries like opencv and sklearn as long as there is sufficient explanation in the lab report. For example, you do not need to implement your own edge detector, etc.\n",
    "\n",
    "**! Before handling back the notebook !** rerun the notebook from scratch `Kernel` > `Restart & Run All`\n",
    "\n",
    "\n",
    "[iapr]: https://github.com/LTS5/iapr"
   ]
  },
  {
   "cell_type": "markdown",
   "metadata": {},
   "source": [
    "---\n",
    "## 0. Introduction\n",
    "\n",
    "An anonymous researcher that we will name Lann Yecun is convinced that the MNIST dataset still has great potential. He decides to create a playing card game based on MNIST digits and different figures. The game uses a standard 52 card deck which is composed of four French suits/colours: clubs (&#9827;), diamonds (&#9830;), hearts (&#9829;) and spades (&#9824;). Each suit includes 10 digit cards (from 0 to 9) and 3 figures (Jack-J, Queen-Q, and King-K). Here is an example of the 13 spade cards with their name.\n",
    "\n",
    "\n",
    "<img src=\"media/example_cards.png\">\n",
    "\n",
    "\n",
    "We can find the same arrangement of cards for the clubs, diamonds, and hearts. \n",
    "\n",
    "\n",
    "## 1. Rules\n",
    "\n",
    "\n",
    "### 1.1 Standard\n",
    "\n",
    "The rules are based on the simple battle card game. The goal of the game is to win as many points as possible. Each turn, the 4 players play a card in front of them. As displayed in the example below. The rules are the following:\n",
    "\n",
    "- The cards are ranked in the following order : **0 < 1 < 2 < 3 < 4 < 5 < 6 < 7 < 8 < 9 < J < Q < K**.\n",
    "- The player with the highest-ranked card wins the round and obtains **1 point**. \n",
    "- If the highest-ranked card is the same for multiple players we call it a draw and all winners get **1 points**. \n",
    "- In this configuration, we **do not** take into account the suits. The game only rely on the card ranks. \n",
    "- The game lasts 13 rounds. After the last round, the winner is the player that has the largest number of points. \n",
    "- In the example below Player 1 wins the round with his Queen ( 0 < 8 < J < **Q**).\n",
    "\n",
    "If two or more players have the same number of points they share the victory.\n",
    "\n",
    "### 1.2 Advanced\n",
    "\n",
    "The advanced rules take into account the suits. \n",
    "\n",
    "- At the beginning of **each round** a random player is designated as the **dealer**. The dealer places a green token with the letter *D* next to him (player 1 in the example below).\n",
    "- Only the cards that belong to the same suit as the one of the dealer are considered valid. In the example below, only Player 4 is competing with Player 1 as spade was selected by the dealer (e.i., Player 1). Player 2 and 3 are out for this round. Player 1 wins the round and **1 point** with the Queen ( 0&#9824; < **Q&#9824;**).\n",
    "- There cannot be any draw between the players as they are not any card duplicates.\n",
    "- We use the same system as the standard method to count the points.\n",
    "\n",
    "\n",
    "### 1.3 Notes\n",
    "\n",
    "- The orientation of the card is linked to the position of the player around the table. For instance, to read the card of the 3rd player you will have to rotate it by 180°.\n",
    "- The **digits** always **face** the players around the table. The figures can have random orientations.\n",
    "- Player 1 **always** seats south of the table. The players are **always** ordered counter-clockwise as in the example. \n",
    "- The dealers can change between the rounds and games.\n",
    "- Some cards might apear multiple times per game.\n",
    "\n",
    "<img src=\"media/example_round.jpg\">\n"
   ]
  },
  {
   "cell_type": "markdown",
   "metadata": {},
   "source": [
    "---\n",
    "## 2. Data\n",
    "\n",
    "You will be given the images of 7 games that were played ([download link](https://drive.google.com/file/d/1lsCMEwc00nsBMVrzo0NE1np79dMeShqZ/view?usp=sharing)). The data are composed of:\n",
    "   - 7 folder named after the games (game1 to game7).\n",
    "   - Each game includes 13 ordered images (1st to 13th round).\n",
    "   - Each game includes a csv file with the ground truth of the game. The first row list the players (P1 to P4) as well as the dealer (D). The following rows represent the rounds (1 to 13). We represent the card played with 2 character as $AB$ where $A \\in [0-9, J, Q, K]$ is the rank of the card and $B \\in [C, D, H, S]$ is the suit. For example, QS means \"(Q)ueen of (S)pade\". The dealer is represented by the ID of the player (e.g. P1 -> 1).\n",
    "   \n",
    "You are free to use external datasets such as the original MNIST train set that you used in lab 3."
   ]
  },
  {
   "cell_type": "code",
   "execution_count": 1,
   "metadata": {},
   "outputs": [],
   "source": [
    "import os\n",
    "import cv2\n",
    "import numpy as np\n",
    "import pandas as pd \n",
    "import matplotlib.pyplot as plt\n",
    "\n",
    "root = './train_games/'\n",
    "\n",
    "\n",
    "def transform(img,size=(256,256)):\n",
    "    # transform\n",
    "    # resize\n",
    "    return cv2.resize(img,size)\n",
    "    \n",
    "    # flip\n",
    "    \n",
    "    # rotate\n",
    "    \n",
    "    # change color\n",
    "\n",
    "class DataLoader():\n",
    "    def __init__(self,root):\n",
    "        # param\n",
    "        self.dir = root\n",
    "        self.games = os.listdir(root) \n",
    "        self.n = len(self.games) \n",
    "        \n",
    "        # cache\n",
    "        self.csvs = []\n",
    "        self.images = []\n",
    "    \n",
    "        self.load_csv()\n",
    "        self.load_img()\n",
    "        \n",
    "    def load_csv(self):\n",
    "        # assuming unique csv \n",
    "        for image_folder in self.games:\n",
    "            path = self.dir + image_folder \n",
    "            csvs = [{file:pd.read_csv(path+'/'+file)} for file in os.listdir(path) if file.endswith('.csv')]\n",
    "            try:\n",
    "                self.csvs.append(csvs[0])\n",
    "            except:\n",
    "                print('folder {} no csv'.format(image_folder))\n",
    "                \n",
    "    \n",
    "    def load_img(self):\n",
    "        # assuming jpg(s) files\n",
    "        for image_folder in self.games:\n",
    "            path = self.dir + image_folder\n",
    "            images = [transform(cv2.imread(path+'/'+file)) for file in os.listdir(path) if file.endswith('.jpg')]\n",
    "            self.images.append(images)"
   ]
  },
  {
   "cell_type": "code",
   "execution_count": 2,
   "metadata": {},
   "outputs": [],
   "source": [
    "dataloader = DataLoader(root) "
   ]
  },
  {
   "cell_type": "code",
   "execution_count": 3,
   "metadata": {},
   "outputs": [],
   "source": [
    "img_games = np.asarray(dataloader.images)"
   ]
  },
  {
   "cell_type": "code",
   "execution_count": 4,
   "metadata": {},
   "outputs": [
    {
     "ename": "SyntaxError",
     "evalue": "invalid syntax (<ipython-input-4-5e3dbf9c00b0>, line 1)",
     "output_type": "error",
     "traceback": [
      "\u001b[1;36m  File \u001b[1;32m\"<ipython-input-4-5e3dbf9c00b0>\"\u001b[1;36m, line \u001b[1;32m1\u001b[0m\n\u001b[1;33m    sample = img_games[]\u001b[0m\n\u001b[1;37m                       ^\u001b[0m\n\u001b[1;31mSyntaxError\u001b[0m\u001b[1;31m:\u001b[0m invalid syntax\n"
     ]
    }
   ],
   "source": [
    "\n",
    "sample = img_games[]"
   ]
  },
  {
   "cell_type": "code",
   "execution_count": 5,
   "metadata": {},
   "outputs": [
    {
     "data": {
      "text/plain": [
       "(array([[ 2.,  0.,  0., ..., 59., 54.,  0.],\n",
       "        [ 2.,  0.,  0., ..., 66., 53.,  0.],\n",
       "        [ 2.,  0.,  0., ..., 64., 55.,  0.],\n",
       "        ...,\n",
       "        [ 1., 10.,  3., ...,  0.,  0.,  0.],\n",
       "        [ 1.,  8.,  5., ...,  0.,  0.,  0.],\n",
       "        [ 1.,  8.,  5., ...,  0.,  0.,  0.]]),\n",
       " array([  1. ,  25.2,  49.4,  73.6,  97.8, 122. , 146.2, 170.4, 194.6,\n",
       "        218.8, 243. ]),\n",
       " <a list of 256 BarContainer objects>)"
      ]
     },
     "execution_count": 5,
     "metadata": {},
     "output_type": "execute_result"
    },
    {
     "data": {
      "image/png": "[encoded data removed]",
      "text/plain": [
       "<Figure size 432x288 with 1 Axes>"
      ]
     },
     "metadata": {
      "needs_background": "light"
     },
     "output_type": "display_data"
    }
   ],
   "source": [
    "plt.hist(img_games[0,2,:,:,0])"
   ]
  },
  {
   "cell_type": "code",
   "execution_count": 6,
   "metadata": {},
   "outputs": [
    {
     "data": {
      "text/plain": [
       "<matplotlib.image.AxesImage at 0x15f44fc65e0>"
      ]
     },
     "execution_count": 6,
     "metadata": {},
     "output_type": "execute_result"
    },
    {
     "data": {
      "image/png": "[encoded data removed]",
      "text/plain": [
       "<Figure size 432x288 with 1 Axes>"
      ]
     },
     "metadata": {
      "needs_background": "light"
     },
     "output_type": "display_data"
    }
   ],
   "source": [
    "plt.imshow(img_games[0,2,:,:,0],cmap='gray')"
   ]
  },
  {
   "cell_type": "code",
   "execution_count": 7,
   "metadata": {},
   "outputs": [
    {
     "data": {
      "text/plain": [
       "<matplotlib.image.AxesImage at 0x15f4735c3a0>"
      ]
     },
     "execution_count": 7,
     "metadata": {},
     "output_type": "execute_result"
    },
    {
     "data": {
      "image/png": "[encoded data removed]",
      "text/plain": [
       "<Figure size 432x288 with 1 Axes>"
      ]
     },
     "metadata": {
      "needs_background": "light"
     },
     "output_type": "display_data"
    }
   ],
   "source": [
    "plt.imshow(img_games[0,2,:,:,0] < 210)"
   ]
  },
  {
   "cell_type": "code",
   "execution_count": 8,
   "metadata": {},
   "outputs": [
    {
     "data": {
      "text/plain": [
       "{'game7.csv':     Unnamed: 0  P1  P2  P3  P4  D\n",
       " 0            1 NaN NaN NaN NaN  4\n",
       " 1            2 NaN NaN NaN NaN  3\n",
       " 2            3 NaN NaN NaN NaN  2\n",
       " 3            4 NaN NaN NaN NaN  1\n",
       " 4            5 NaN NaN NaN NaN  1\n",
       " 5            6 NaN NaN NaN NaN  3\n",
       " 6            7 NaN NaN NaN NaN  4\n",
       " 7            8 NaN NaN NaN NaN  2\n",
       " 8            9 NaN NaN NaN NaN  2\n",
       " 9           10 NaN NaN NaN NaN  2\n",
       " 10          11 NaN NaN NaN NaN  4\n",
       " 11          12 NaN NaN NaN NaN  3\n",
       " 12          13 NaN NaN NaN NaN  3}"
      ]
     },
     "execution_count": 8,
     "metadata": {},
     "output_type": "execute_result"
    }
   ],
   "source": [
    "# weird one \n",
    "dataloader.csvs[-1]"
   ]
  },
  {
   "cell_type": "markdown",
   "metadata": {},
   "source": [
    "---\n",
    "## 3. Your Tasks\n",
    "\n",
    "Your task is to ready yourself for the final evaluation. The day of the exam we will give you a new folder with a new game. ! The digits on the cards might sligthly **differ** from the one of the traning set. When given a new data folder with 13 images your should be able to:\n",
    "\n",
    "**Task 0**\n",
    "   - Plot an overlayF fr each round image that shows your detections and classification. You can for example plot bounding boxes around the cards/dealer token and add a text overlay with the name of the classes.\n",
    "\n",
    "**Task 1**\n",
    "   - (a) Predict the **rank** of the card played by each player at each round (Standard rules).\n",
    "   - (b) Predict the **number of points** of each player according to **Standard** rules\n",
    " \n",
    "**Task 2**\n",
    "   - (a) Detect which player is the selected **dealer** for each round.\n",
    "   - (b) Predict the **rank** and the **suit** of the card played by each player at each round (Advanced rules).\n",
    "   - (c) Predict the **number of points** of each player according to **Advanced** rules\n",
    "\n",
    "\n",
    "You will have to upload your code on moodle **the day before** the exam.\n",
    "\n",
    "We will ask you to run your pipeline in realtime and to send us your prediction of task 1 and 2 obtain with the function **print_results**. On our side we will compute the perfomance of your classification algorithm. To evaluate your method we will use the **evaluate_game** function presented below. To understant how the provided functions work please read the documentation of the functions in **utils.py**.\n",
    "\n",
    "**Please make sure your function returns the proper data format to avoid points penalty the day of the exam**. "
   ]
  },
  {
   "cell_type": "markdown",
   "metadata": {},
   "source": [
    "<b> Premice: </b>\n"
   ]
  },
  {
   "cell_type": "markdown",
   "metadata": {},
   "source": [
    "### 3.1 Example Final results\n",
    "\n",
    "Example of output you **should** provide the day of the final exam."
   ]
  },
  {
   "cell_type": "code",
   "execution_count": 9,
   "metadata": {},
   "outputs": [
    {
     "name": "stdout",
     "output_type": "stream",
     "text": [
      "The cards played were:\n",
      "[\n",
      "['0D', '0D', '0D', '0D'], \n",
      "['0D', '0D', '0D', '0D'], \n",
      "['0D', '0D', '0D', '0D'], \n",
      "['0D', '0D', '0D', '0D'], \n",
      "['0D', '0D', '0D', '0D'], \n",
      "['0D', '0D', '0D', '0D'], \n",
      "['0D', '0D', '0D', '0D'], \n",
      "['0D', '0D', '0D', '0D'], \n",
      "['0D', '0D', '0D', '0D'], \n",
      "['0D', '0D', '0D', '0D'], \n",
      "['0D', '0D', '0D', '0D'], \n",
      "['0D', '0D', '0D', '0D'], \n",
      "['0D', '0D', '0D', '0D'], \n",
      "]\n",
      "Players designated as dealer: [1, 1, 1, 1, 1, 1, 1, 1, 1, 1, 1, 1, 1]\n",
      "Players points (standard): [0, 0, 0, 13]\n",
      "Players points (advanced): [0, 0, 8, 7]\n"
     ]
    }
   ],
   "source": [
    "from utils import print_results\n",
    "import numpy as np\n",
    "\n",
    "# Creates dummy predictions (toy exmaple)\n",
    "pred_rank = np.array([\"0D\"]*4*13).reshape((13, 4)) # Everyone played the \"0 of spade\".\n",
    "pred_dealer = [1]*13                # List of players selected as dealer for each round\n",
    "pred_pts_stand = [0,0,0,13]         # Player 4 won 13 points with standard rules.\n",
    "pred_pts_advan = [0,0,8,7]          # Player 3 and 4 won 8 and 7 points with adv, rules respectively.\n",
    "\n",
    "print_results(\n",
    "    rank_colour=pred_rank, \n",
    "    dealer=pred_dealer, \n",
    "    pts_standard=pred_pts_stand,\n",
    "    pts_advanced=pred_pts_advan,\n",
    ")"
   ]
  },
  {
   "cell_type": "markdown",
   "metadata": {},
   "source": [
    "### 3.2 Example Accuracy\n",
    "\n",
    "Example of code you can use to validate the performance of your model. Be careful the day of the exam you will not have access to the ground truth of the predictions."
   ]
  },
  {
   "cell_type": "code",
   "execution_count": 10,
   "metadata": {},
   "outputs": [
    {
     "name": "stdout",
     "output_type": "stream",
     "text": [
      "Your model accuracy is: Standard=0.077, Advanced=0.019\n"
     ]
    }
   ],
   "source": [
    "from utils import evaluate_game\n",
    "import pandas as pd\n",
    "#! You will need pandas libary to run the example. Please install the package using pip or conda commands !\n",
    "\n",
    "# Load ground truth from game 1\n",
    "cgt = pd.read_csv('train_games/game1/game1.csv', index_col=0)\n",
    "cgt_rank = cgt[['P1', 'P2', 'P3', 'P4']].values\n",
    "\n",
    "# Compute accuracy of prediction\n",
    "acc_standard = evaluate_game(pred_rank, cgt_rank, mode_advanced=False)\n",
    "acc_advanced = evaluate_game(pred_rank, cgt_rank, mode_advanced=True)\n",
    "print(\"Your model accuracy is: Standard={:.3f}, Advanced={:.3f}\".format(acc_standard, acc_advanced))"
   ]
  },
  {
   "cell_type": "markdown",
   "metadata": {},
   "source": [
    "### Necessary functions : "
   ]
  },
  {
   "cell_type": "markdown",
   "metadata": {},
   "source": [
    "Before doing anything, we need to create specific sets of functions in order to : <br>\n",
    "    1) Segmentate the image (Lab 1) <br>\n",
    "    2) Extract object and describe them (Lab 2) <br>\n",
    "    3) Use extracted object in order to make a classification (Lab 3) <br>\n",
    "\n",
    "For each section, we provide the different methods implented in each lab (we will choose the one that is better suited for this project)\n"
   ]
  },
  {
   "cell_type": "markdown",
   "metadata": {},
   "source": [
    "## Important note :\n",
    "\n",
    "During that Q&A, they explained that we can train our model with MNIST library in order to make the classification better. It's possible to make an almost 100% accurate prediction.\n",
    "\n"
   ]
  },
  {
   "cell_type": "markdown",
   "metadata": {},
   "source": [
    "## From Lab 1 : \n"
   ]
  },
  {
   "cell_type": "markdown",
   "metadata": {},
   "source": [
    "## Region Growing: \n",
    "\n"
   ]
  },
  {
   "cell_type": "code",
   "execution_count": 9,
   "metadata": {},
   "outputs": [],
   "source": [
    "def get_neighbours_not_in_region(pixel, output):\n",
    "    \"\"\"\n",
    "    Function returning a list containing the 8 neighbours of pixel which are not already segmented \n",
    "    in output (ignoring those neighbours which would fall out of the image boundaries).\n",
    "    \n",
    "    Args:\n",
    "        pixel::[tuple]\n",
    "            Tuple of form (line, col) containing the pixel we want to compute the neighbours of.\n",
    "        output::[np.array]\n",
    "            Output segmentation mask of same shape as original grayscale image.\n",
    "    Returns:\n",
    "        neighbours_not_in_region::[list]\n",
    "            List of pixels (tuples of same form as pixel parameter), containing the neighbours of\n",
    "            pixel parameter which are not already segmented in output and that are in image boundaries.\n",
    "    \"\"\"\n",
    "    pixel_line , pixel_col  = pixel\n",
    "    image_lines, image_cols = output.shape\n",
    "    \n",
    "    neighbours_not_in_region = []\n",
    "    for delta_line in [-1, 0, +1]:\n",
    "        neighbour_line = pixel_line + delta_line\n",
    "        \n",
    "        # If we are outside the image, skip these pixels.\n",
    "        if neighbour_line < 0 or neighbour_line >= image_lines:\n",
    "            continue\n",
    "        \n",
    "        for delta_col in [-1, 0, +1]:\n",
    "            # If we are on current pixel, skip this pixel.\n",
    "            if delta_line == 0 and delta_col == 0:\n",
    "                continue\n",
    "            \n",
    "            neighbour_col = pixel_col + delta_col\n",
    "            \n",
    "            # If we are outside the image, skip these pixels.\n",
    "            if neighbour_col < 0 or neighbour_col >= image_cols:\n",
    "                continue\n",
    "            \n",
    "            # Add neighbour if not already in the region.\n",
    "            neighbour = (neighbour_line, neighbour_col)\n",
    "            if not output[neighbour]:\n",
    "                neighbours_not_in_region.append(neighbour)\n",
    "                \n",
    "    return neighbours_not_in_region\n",
    "    \n",
    "\n",
    "def segment_region_growing(image, seed, threshold, neighbourhood_size):\n",
    "    \"\"\"\n",
    "    Function returning a segmentation mask computed by region growing from seed.\n",
    "    \n",
    "    Args:\n",
    "        image::[np.array]\n",
    "            Input image on which we want to perform region growing.\n",
    "        seed::[tuple]\n",
    "            Tuple of form (line, col) containing the pixel we want to start growing the region from.\n",
    "        threshold::[float]\n",
    "            Threshold for deciding if new pixel is included in region.\n",
    "        neighbourhood_size::[int]\n",
    "            Size of the neighbourhood of current pixel on which to calculate the mean. Must be >0 and\n",
    "            if even number is given, neighbourhood_size+1 is used instead.\n",
    "    Returns:\n",
    "        output::[np.array]\n",
    "            Output segmentation mask performed by region growing with seed as starting pixel.\n",
    "    \"\"\"\n",
    "    assert(neighbourhood_size >= 0)\n",
    "    delta_lower = -(neighbourhood_size//2)\n",
    "    delta_upper = +(neighbourhood_size//2)+1\n",
    "        \n",
    "    output = np.zeros_like(image, dtype = np.bool_)\n",
    "    \n",
    "    pixels_to_treat = [seed]\n",
    "    \n",
    "    while pixels_to_treat:\n",
    "        current_pixel = pixels_to_treat[-1]\n",
    "        pixels_to_treat.pop()\n",
    "        \n",
    "        output[current_pixel] = True\n",
    "        \n",
    "        for neighbour in get_neighbours_not_in_region(current_pixel, output):            \n",
    "            neighbourhood_mean = float(np.mean(image[current_pixel[0]+delta_lower:current_pixel[0]+delta_upper, \n",
    "                                                     current_pixel[1]+delta_lower:current_pixel[1]+delta_upper]))\n",
    "            \n",
    "            if abs(neighbourhood_mean - image[neighbour]) < threshold:\n",
    "                pixels_to_treat.append(neighbour)\n",
    "                \n",
    "    return output"
   ]
  },
  {
   "cell_type": "markdown",
   "metadata": {},
   "source": [
    "## Contour detection\n"
   ]
  },
  {
   "cell_type": "code",
   "execution_count": 10,
   "metadata": {},
   "outputs": [],
   "source": [
    "def segment_countour_detection(image, canny_threshold_low, canny_threshold_high, dilation_structuring_element, seed):\n",
    "    \"\"\"\n",
    "    Function returning the results of the Canny Edges detector and the mask obtained by\n",
    "    performing connected component inside the brain to isolate it.\n",
    "    \n",
    "    Args:\n",
    "        image::[np.array]\n",
    "            Input image on which we perform contour edge detection.\n",
    "        canny_threshold_low::[float] \n",
    "            Value of the low threshold for Canny edge detector's hysteresis.\n",
    "        canny_threshold_high::[float]\n",
    "            Value of the high threshold for Canny edge detector's hysteresis.\n",
    "        dilation_structuring_element::[np.array]\n",
    "            Kernel used to dilate and connected the edges made by Canny edge detector.\n",
    "        seed::[tuple]\n",
    "            Tuple of form (line, col) containing a pixel we know is in the brain.\n",
    "    Returns: \n",
    "        canny_detector::[np.array]:\n",
    "            Image output of the Canny detector.\n",
    "        mask::[np.array]:\n",
    "            Output segmentation mask of the brain.\n",
    "    \"\"\"\n",
    "    # Edge detection.\n",
    "    canny_detector = cv.Canny(brain_median, canny_threshold_low, canny_threshold_high)\n",
    "    \n",
    "    # In order to segment the brain, we must first close the edges.\n",
    "    # To do so, we dilate the image edges.\n",
    "    dilated = cv.dilate(canny_detector, dilation_structuring_element)\n",
    "    \n",
    "    # Segmenting with cv.connectedComponent requires background of image to be black and \n",
    "    # foreground to be white. Thus we take the negative of the image.\n",
    "    dilated = np.where(dilated > 0, 0, 255).astype(np.uint8)\n",
    "\n",
    "    # Segmenting.\n",
    "    _, segmented = cv.connectedComponents(dilated)\n",
    "    mask         = segmented == segmented[seed]\n",
    "\n",
    "    # Dilation of segmented area to counteract previous dilation of borders.\n",
    "    mask = cv.dilate(mask.astype(np.uint8), kernel)\n",
    "\n",
    "    return canny_detector, mask"
   ]
  },
  {
   "cell_type": "markdown",
   "metadata": {},
   "source": [
    "### Our own segmentation methods"
   ]
  },
  {
   "cell_type": "code",
   "execution_count": 11,
   "metadata": {},
   "outputs": [],
   "source": [
    "def segment_custom_thresholding(image, threshold_low, threshold_high, seed):\n",
    "    \"\"\"\n",
    "    Function returning a segmentation mask computed by thresholding the\n",
    "    input image between threshold_low and threshold_high and keeping only\n",
    "    the region containing seed.\n",
    "    \n",
    "    Args:\n",
    "        image::[np.array]\n",
    "            Input image on which we perform segmentation.\n",
    "        threshold_low::[float] \n",
    "            Value of the low grayscale threshold for image.\n",
    "        threshold_high::[float]\n",
    "            Value of the high grayscale threshold for image.\n",
    "        seed::[tuple]\n",
    "            Tuple of form (line, col) containing a pixel we know is in the brain.\n",
    "    Returns:\n",
    "        mask::[np.array]:\n",
    "            Output segmentation mask of the brain.\n",
    "    \"\"\"\n",
    "\n",
    "    # Carefully chosen thresholding.\n",
    "    thresholded = np.logical_and(brain_im > threshold_low, brain_im < threshold_high).astype(np.uint8)\n",
    "\n",
    "    # Segmenting.\n",
    "    _, labels   = cv.connectedComponents(thresholded)\n",
    "    mask        = (labels == labels[seed]).astype(np.uint8)\n",
    "    \n",
    "    return mask"
   ]
  },
  {
   "cell_type": "markdown",
   "metadata": {},
   "source": [
    "### Shape\\color classification "
   ]
  },
  {
   "cell_type": "code",
   "execution_count": 12,
   "metadata": {},
   "outputs": [],
   "source": [
    "def get_blue_black_masks(image):\n",
    "    \"\"\"\n",
    "    Function returning mask of pixels in image which are in the color range of blue and black.\n",
    "    \n",
    "    Args:\n",
    "        image::[np.array]\n",
    "            Input image for which we want to detect the blue and black pixels.\n",
    "    Returns:\n",
    "        blue_mask::[np.array]\n",
    "            Mask of same size as input image containing the detected blue pixels in image.\n",
    "        black_mask::[np.array]\n",
    "            Mask of same size as input image containing the detected black pixels in image.\n",
    "    \"\"\"\n",
    "    image_hsv = cv.cvtColor(image, cv.COLOR_RGB2HSV)\n",
    "    \n",
    "    image_hsv[:,:,2] = cv.equalizeHist(image_hsv[:,:,2])\n",
    "    \n",
    "    blue_mask  = cv.inRange(image_hsv, (90, 50, 4), (135, 255, 255))\n",
    "    black_mask = cv.inRange(image_hsv, (0, 0, 0)  , (180, 255, 3))\n",
    "    \n",
    "    return blue_mask, black_mask\n",
    "\n",
    "\n",
    "def detect_same_object(component1, component2, tolerance):\n",
    "    \"\"\"\n",
    "    Function returning whether two components are sufficiently close to be classified as belonging\n",
    "    to same object. \n",
    "    \n",
    "    Args:\n",
    "        component1::[dict]\n",
    "            Dictionary of form {\"centroid\": np.array, \"width\": float, \"height\": float} containing\n",
    "            information about the first connected component.\n",
    "        component2::[dict]\n",
    "            Dictionary of form {\"centroid\": np.array, \"width\": float, \"height\": float} containing\n",
    "            information about the second connected component.        \n",
    "        tolerance::[float]\n",
    "            Tolerance in inequality check to decide whether components are close enough.\n",
    "    Returns:\n",
    "        output::[boolean]\n",
    "            True if the components are close enough to probably be part of the same object, False\n",
    "            otherwise.\n",
    "    \"\"\"\n",
    "    distance = np.linalg.norm(component1[\"centroid\"] - component2[\"centroid\"])\n",
    "    radius_component1 = (component1[\"width\"] + component1[\"height\"]) / 4 \n",
    "    radius_component2 = (component2[\"width\"] + component2[\"height\"]) / 4 \n",
    "\n",
    "    if distance <= radius_component1 + tolerance or distance <= radius_component2 + tolerance:\n",
    "        return True\n",
    "    \n",
    "    return False\n",
    "\n",
    "\n",
    "def get_objects_from_mask(mask, tolerance = 10, min_size = 50):\n",
    "    \"\"\"\n",
    "    Function returning segmentation mask of objects obtained by cleaning the color mask passed\n",
    "    as parameter. \n",
    "    \n",
    "    Args:\n",
    "        mask::[np.array]\n",
    "            Image mask obtained by color thresholding.\n",
    "        tolerance::[float]\n",
    "            Tolerance in inequality check to decide whether components are close enough.\n",
    "        min_size::[int]\n",
    "            Minimum size in number of pixels of component to be considered a valid object.\n",
    "    Returns:\n",
    "        objects_mask::[np.array]\n",
    "            Mask of same size as input mask segmenting the objects which are large enough and\n",
    "            grouped into one object if they are close enough.\n",
    "    \"\"\"\n",
    "    num_labels, labels, stats, centroids = cv.connectedComponentsWithStats(mask)\n",
    "    \n",
    "    # Merging close components that belong to same object, skipping background labeled 0.\n",
    "    new_labels = {}\n",
    "    for component1 in range(1, num_labels):\n",
    "        parameters1 = {\"centroid\": np.array(centroids[component1]), \"width\": stats[component1, cv.CC_STAT_WIDTH], \"height\": stats[component1, cv.CC_STAT_HEIGHT]}\n",
    "        for component2 in range(component1 + 1, num_labels):\n",
    "            parameters2 = {\"centroid\": np.array(centroids[component2]), \"width\": stats[component2, cv.CC_STAT_WIDTH], \"height\": stats[component2, cv.CC_STAT_HEIGHT]}\n",
    "            if detect_same_object(parameters1, parameters2, tolerance):\n",
    "                new_labels[component2] = component1\n",
    "    \n",
    "    # Solves conflicts caused by values in dictionary which are also keys.\n",
    "    key_value_conflicts = [key for key, value in new_labels.items() if value in new_labels.keys()]\n",
    "    while key_value_conflicts:\n",
    "        for conflict in key_value_conflicts:\n",
    "            new_labels[conflict] = new_labels[new_labels[conflict]]\n",
    "        key_value_conflicts = [key for key, value in new_labels.items() if value in new_labels.keys()]\n",
    "    \n",
    "    # Merges close components that belong to same object.\n",
    "    for old_component, new_component in new_labels.items():\n",
    "        labels[labels == old_component] = new_component\n",
    "    \n",
    "    # Removes too small groups (merges them with background).\n",
    "    unique, counts = np.unique(labels, return_counts=True)\n",
    "    for component, n_pixels in zip(unique, counts):\n",
    "        if n_pixels < min_size:\n",
    "            labels[labels == component] = 0\n",
    "           \n",
    "    # Creates mask from components not in background.\n",
    "    objects_mask = labels > 0\n",
    "        \n",
    "    return len(np.unique(labels[objects_mask])), objects_mask"
   ]
  },
  {
   "cell_type": "markdown",
   "metadata": {},
   "source": [
    "## From Lab 2 : \n"
   ]
  },
  {
   "cell_type": "markdown",
   "metadata": {},
   "source": [
    "### Fourier Descriptor : "
   ]
  },
  {
   "cell_type": "code",
   "execution_count": 13,
   "metadata": {},
   "outputs": [],
   "source": [
    "def get_fourier_descriptor(image, n_coefficients_to_keep = 2):\n",
    "    \"\"\"\n",
    "    Function returning a Fourier descriptor of image made by keeping the first n_coefficients_to_keep coefficients\n",
    "    (not including the bias coefficient).\n",
    "    \n",
    "    Args:\n",
    "        image::[np.array]\n",
    "            Image we want to compute the Fourier descriptor of.\n",
    "        n_coefficients_to_keep::[int]\n",
    "            Number of coefficients (not including the bias coefficient) to keep to make up the Fourier descriptor.\n",
    "    Returns:\n",
    "        fourier_descriptor::[np.array]\n",
    "            Array of size (n_coefficients_to_keep, ) where each element is one Fourier descriptor coefficient.\n",
    "    \"\"\"\n",
    "    # Compute outer contours of image.\n",
    "    _, contours, _ = cv.findContours(image, cv.RETR_EXTERNAL, cv.CHAIN_APPROX_NONE)\n",
    "    \n",
    "    # Isolating longest contour from the rest\n",
    "    len_contours = [len(contour) for contour in contours]\n",
    "    idx_longest_contour = np.argmax(len_contours)\n",
    "    contour = contours[idx_longest_contour].squeeze()    \n",
    "    \n",
    "    # Make complex signal from contour array.\n",
    "    complex_contour_signal = contour[:, 0] + 1j * contour[:, 1]\n",
    "    \n",
    "    # Compute fourier coefficients.\n",
    "    fourier_coefficients = np.fft.fft(complex_contour_signal)\n",
    "    \n",
    "    # To make fourier coefficient resistant to scaling, ratio between coefficients is used instead of actual magnitude.\n",
    "    fourier_coefficients = fourier_coefficients / fourier_coefficients[0]  \n",
    "    \n",
    "    # To make fourier coefficient resistant to translation, first coefficient discarded.\n",
    "    fourier_coefficients = fourier_coefficients[1:]\n",
    "    \n",
    "    # To make fourier coefficient resistant to rotation, phase is discarded.\n",
    "    fourier_coefficients = np.abs(fourier_coefficients)  \n",
    "    \n",
    "    return fourier_coefficients[:n_coefficients_to_keep]\n",
    "\n",
    "\n",
    "def pretreat_image(image):\n",
    "    \"\"\"\n",
    "    Function performing a basic pretreatement of the image to remove high-frequency noise and binarize it.\n",
    "    \n",
    "    Args:\n",
    "        image::[np.array]\n",
    "            Image we want to remove noise from and binarize. \n",
    "    Returns:\n",
    "        image_binary::[np.array]\n",
    "            Binary image of same size as image parameter obtained after median filtering and binary thresholding.\n",
    "    \"\"\"\n",
    "    image_uniform_background = np.where(image > 50, image, 0)\n",
    "    image_denoised = cv.medianBlur(image_uniform_background, 3)\n",
    "    image_binary = (image_denoised > 20).astype(np.uint8)\n",
    "    \n",
    "    return image_binary\n",
    "\n",
    "\n",
    "def plot_descriptors(coefficients_digits_list, marker_digits_list, label_digits_list, xlabel, ylabel):\n",
    "    \"\"\"\n",
    "    Function making a scatter plot of the first two elements of each descriptor in coefficients_digits_list \n",
    "    using the corresponding marker in marker_digits_list and legend label in label_digits_list.\n",
    "    \n",
    "    Args:\n",
    "        coefficients_digits_list::[np.array]\n",
    "            Array of shape (n_digits, n_images_per_digit, >=2) containing for each digit type and each image\n",
    "            per digit type an image descriptor of size larger or equal to 2.\n",
    "        marker_digits_list::[list]\n",
    "            List of size (n_digits, ) containing the marker to use in the scatter plot for each different digit.\n",
    "        label_digits_list::[list]\n",
    "            List of size (n_digits, ) containing the label to use in the legend for each different digit.\n",
    "        xlabel::[string]\n",
    "            Label to use on the horizontal axis.\n",
    "        ylabel::[string]\n",
    "            Label to use on the vertical axis.\n",
    "    Returns:\n",
    "        None\n",
    "    \"\"\"    \n",
    "    assert(len(coefficients_digits_list) == len(marker_digits_list) == len(label_digits_list))"
   ]
  },
  {
   "cell_type": "markdown",
   "metadata": {},
   "source": [
    "### Mu Moments :"
   ]
  },
  {
   "cell_type": "code",
   "execution_count": 14,
   "metadata": {},
   "outputs": [],
   "source": [
    "def get_hu_moments_descriptor(image, moments_to_keep = (1, 2)):\n",
    "    \"\"\"\n",
    "    Function returning the Hu Moments at positions moments_to_keep computed from image.\n",
    "    \n",
    "    Args:\n",
    "        image::[np.array]\n",
    "            Image we want to compute the Hu Moments descriptor of.\n",
    "        moments_to_keep::[tuple]\n",
    "            Which of the computed Hu Moments we want to use to make up the image descriptor.\n",
    "    Returns:\n",
    "        hu_moments_descriptor::[np.array]\n",
    "            Array of size (len(moments_to_keep), ) where each element is one Hu Moments descriptor coefficient.\n",
    "    \"\"\"\n",
    "    moments    = cv.moments(image)\n",
    "    hu_moments = cv.HuMoments(moments).flatten()\n",
    "    \n",
    "    return hu_moments[np.array(moments_to_keep)]"
   ]
  },
  {
   "cell_type": "markdown",
   "metadata": {},
   "source": [
    "## From Lab 3 : "
   ]
  },
  {
   "cell_type": "markdown",
   "metadata": {},
   "source": [
    "Here, it seems we can only use the MLP method to make the classification. We won't be able to calculate the decision line at the exam..."
   ]
  },
  {
   "cell_type": "code",
   "execution_count": 15,
   "metadata": {},
   "outputs": [
    {
     "data": {
      "text/plain": [
       "\"\\nfrom sklearn.neural_network import MLPClassifier\\n\\nclf = MLPClassifier(solver='adam', alpha = 1e-4, hidden_layer_sizes = (100,), max_iter = 500, early_stopping = True)\\n\\nclf.fit(train_images.reshape(train_images.shape[0], -1), train_labels);\\n\""
      ]
     },
     "execution_count": 15,
     "metadata": {},
     "output_type": "execute_result"
    }
   ],
   "source": [
    "\"\"\"\n",
    "from sklearn.neural_network import MLPClassifier\n",
    "\n",
    "clf = MLPClassifier(solver='adam', alpha = 1e-4, hidden_layer_sizes = (100,), max_iter = 500, early_stopping = True)\n",
    "\n",
    "clf.fit(train_images.reshape(train_images.shape[0], -1), train_labels);\n",
    "\"\"\""
   ]
  },
  {
   "cell_type": "code",
   "execution_count": null,
   "metadata": {},
   "outputs": [],
   "source": []
  }
 ],
 "metadata": {
  "kernelspec": {
   "display_name": "Python 3",
   "language": "python",
   "name": "python3"
  },
  "language_info": {
   "codemirror_mode": {
    "name": "ipython",
    "version": 3
   },
   "file_extension": ".py",
   "mimetype": "text/x-python",
   "name": "python",
   "nbconvert_exporter": "python",
   "pygments_lexer": "ipython3",
   "version": "3.8.5"
  }
 },
 "nbformat": 4,
 "nbformat_minor": 2
}
