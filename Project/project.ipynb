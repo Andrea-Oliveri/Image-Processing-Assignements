{
 "cells": [
  {
   "cell_type": "markdown",
   "metadata": {},
   "source": [
    "# [IAPR][iapr]: Project\n",
    "\n",
    "\n",
    "**Group ID:** xx\n",
    "\n",
    "**Author 1 (sciper):** Student Name 1 (xxxxx)  \n",
    "**Author 2 (sciper):** Student Name 2 (xxxxx)   \n",
    "**Author 3 (sciper):** Student Name 3 (xxxxx)   \n",
    "\n",
    "**Release date:** 07.05.2021  \n",
    "**Due date:** 03.06.2021 (23h59) \n",
    "\n",
    "\n",
    "## Important notes\n",
    "\n",
    "The lab assignments are designed to teach practical implementation of the topics presented during class as well as preparation for the final project, which is a practical project which ties together the topics of the course. \n",
    "\n",
    "As such, in the lab assignments/final project, unless otherwise specified, you may, if you choose, use external functions from image processing/ML libraries like opencv and sklearn as long as there is sufficient explanation in the lab report. For example, you do not need to implement your own edge detector, etc.\n",
    "\n",
    "**! Before handling back the notebook !** rerun the notebook from scratch `Kernel` > `Restart & Run All`\n",
    "\n",
    "\n",
    "[iapr]: https://github.com/LTS5/iapr"
   ]
  },
  {
   "cell_type": "markdown",
   "metadata": {},
   "source": [
    "---\n",
    "## 0. Introduction\n",
    "\n",
    "An anonymous researcher that we will name Lann Yecun is convinced that the MNIST dataset still has great potential. He decides to create a playing card game based on MNIST digits and different figures. The game uses a standard 52 card deck which is composed of four French suits/colours: clubs (&#9827;), diamonds (&#9830;), hearts (&#9829;) and spades (&#9824;). Each suit includes 10 digit cards (from 0 to 9) and 3 figures (Jack-J, Queen-Q, and King-K). Here is an example of the 13 spade cards with their name.\n",
    "\n",
    "\n",
    "<img src=\"media/example_cards.png\">\n",
    "\n",
    "\n",
    "We can find the same arrangement of cards for the clubs, diamonds, and hearts. \n",
    "\n",
    "\n",
    "## 1. Rules\n",
    "\n",
    "\n",
    "### 1.1 Standard\n",
    "\n",
    "The rules are based on the simple battle card game. The goal of the game is to win as many points as possible. Each turn, the 4 players play a card in front of them. As displayed in the example below. The rules are the following:\n",
    "\n",
    "- The cards are ranked in the following order : **0 < 1 < 2 < 3 < 4 < 5 < 6 < 7 < 8 < 9 < J < Q < K**.\n",
    "- The player with the highest-ranked card wins the round and obtains **1 point**. \n",
    "- If the highest-ranked card is the same for multiple players we call it a draw and all winners get **1 points**. \n",
    "- In this configuration, we **do not** take into account the suits. The game only rely on the card ranks. \n",
    "- The game lasts 13 rounds. After the last round, the winner is the player that has the largest number of points. \n",
    "- In the example below Player 1 wins the round with his Queen ( 0 < 8 < J < **Q**).\n",
    "\n",
    "If two or more players have the same number of points they share the victory.\n",
    "\n",
    "### 1.2 Advanced\n",
    "\n",
    "The advanced rules take into account the suits. \n",
    "\n",
    "- At the beginning of **each round** a random player is designated as the **dealer**. The dealer places a green token with the letter *D* next to him (player 1 in the example below).\n",
    "- Only the cards that belong to the same suit as the one of the dealer are considered valid. In the example below, only Player 4 is competing with Player 1 as spade was selected by the dealer (e.i., Player 1). Player 2 and 3 are out for this round. Player 1 wins the round and **1 point** with the Queen ( 0&#9824; < **Q&#9824;**).\n",
    "- There cannot be any draw between the players as they are not any card duplicates.\n",
    "- We use the same system as the standard method to count the points.\n",
    "\n",
    "\n",
    "### 1.3 Notes\n",
    "\n",
    "- The orientation of the card is linked to the position of the player around the table. For instance, to read the card of the 3rd player you will have to rotate it by 180°.\n",
    "- The **digits** always **face** the players around the table. The figures can have random orientations.\n",
    "- Player 1 **always** seats south of the table. The players are **always** ordered counter-clockwise as in the example. \n",
    "- The dealers can change between the rounds and games.\n",
    "- Some cards might apear multiple times per game.\n",
    "\n",
    "<img src=\"media/example_round.jpg\">\n"
   ]
  },
  {
   "cell_type": "markdown",
   "metadata": {},
   "source": [
    "---\n",
    "## 2. Data\n",
    "\n",
    "You will be given the images of 7 games that were played ([download link](https://drive.google.com/file/d/1lsCMEwc00nsBMVrzo0NE1np79dMeShqZ/view?usp=sharing)). The data are composed of:\n",
    "   - 7 folder named after the games (game1 to game7).\n",
    "   - Each game includes 13 ordered images (1st to 13th round).\n",
    "   - Each game includes a csv file with the ground truth of the game. The first row list the players (P1 to P4) as well as the dealer (D). The following rows represent the rounds (1 to 13). We represent the card played with 2 character as $AB$ where $A \\in [0-9, J, Q, K]$ is the rank of the card and $B \\in [C, D, H, S]$ is the suit. For example, QS means \"(Q)ueen of (S)pade\". The dealer is represented by the ID of the player (e.g. P1 -> 1).\n",
    "   \n",
    "You are free to use external datasets such as the original MNIST train set that you used in lab 3."
   ]
  },
  {
   "cell_type": "code",
   "execution_count": 35,
   "metadata": {},
   "outputs": [],
   "source": [
    "import os\n",
    "import cv2\n",
    "import numpy as np\n",
    "import pandas as pd \n",
    "import matplotlib.pyplot as plt\n",
    "\n",
    "root = './train_games/'\n",
    "\n",
    "\n",
    "def transform(img,size=(256,256)):\n",
    "    # transform\n",
    "    # resize\n",
    "    return cv2.resize(img,size)\n",
    "    \n",
    "    # flip\n",
    "    \n",
    "    # rotate\n",
    "    \n",
    "    # change color\n",
    "\n",
    "class DataLoader():\n",
    "    def __init__(self,root):\n",
    "        # param\n",
    "        self.dir = root\n",
    "        self.games = os.listdir(root) \n",
    "        self.n = len(self.games) \n",
    "        \n",
    "        # cache\n",
    "        self.csvs = []\n",
    "        self.images = []\n",
    "    \n",
    "        self.load_csv()\n",
    "        self.load_img()\n",
    "        \n",
    "    def load_csv(self):\n",
    "        # assuming unique csv \n",
    "        for image_folder in self.games:\n",
    "            path = self.dir + image_folder \n",
    "            csvs = [{file:pd.read_csv(path+'/'+file)} for file in os.listdir(path) if file.endswith('.csv')]\n",
    "            try:\n",
    "                self.csvs.append(csvs[0])\n",
    "            except:\n",
    "                print('folder {} no csv'.format(image_folder))\n",
    "                \n",
    "    \n",
    "    def load_img(self):\n",
    "        # assuming jpg(s) files\n",
    "        for image_folder in self.games:\n",
    "            path = self.dir + image_folder\n",
    "            images = [transform(cv2.imread(path+'/'+file)) for file in os.listdir(path) if file.endswith('.jpg')]\n",
    "            self.images.append(images)"
   ]
  },
  {
   "cell_type": "code",
   "execution_count": 30,
   "metadata": {},
   "outputs": [],
   "source": [
    "dataloader = DataLoader(root) "
   ]
  },
  {
   "cell_type": "code",
   "execution_count": 31,
   "metadata": {},
   "outputs": [],
   "source": [
    "img_games = np.asarray(dataloader.images)"
   ]
  },
  {
   "cell_type": "code",
   "execution_count": null,
   "metadata": {},
   "outputs": [],
   "source": [
    "\n",
    "sample = img_games[]"
   ]
  },
  {
   "cell_type": "code",
   "execution_count": 48,
   "metadata": {},
   "outputs": [
    {
     "data": {
      "text/plain": [
       "(array([[ 2.,  0.,  0., ..., 65., 54.,  0.],\n",
       "        [ 2.,  0.,  0., ..., 63., 54.,  1.],\n",
       "        [ 2.,  0.,  0., ..., 59., 60.,  0.],\n",
       "        ...,\n",
       "        [ 1.,  2., 11., ...,  0.,  0.,  0.],\n",
       "        [ 2.,  1., 11., ...,  0.,  0.,  0.],\n",
       "        [ 2.,  1., 11., ...,  0.,  0.,  0.]]),\n",
       " array([  2. ,  26.7,  51.4,  76.1, 100.8, 125.5, 150.2, 174.9, 199.6,\n",
       "        224.3, 249. ]),\n",
       " <a list of 256 BarContainer objects>)"
      ]
     },
     "execution_count": 48,
     "metadata": {},
     "output_type": "execute_result"
    },
    {
     "data": {
      "image/png": "[encoded data removed]",
      "text/plain": [
       "<Figure size 432x288 with 1 Axes>"
      ]
     },
     "metadata": {
      "needs_background": "light"
     },
     "output_type": "display_data"
    }
   ],
   "source": [
    "plt.hist(img_games[0,2,:,:,0])"
   ]
  },
  {
   "cell_type": "code",
   "execution_count": 50,
   "metadata": {},
   "outputs": [
    {
     "data": {
      "text/plain": [
       "<matplotlib.image.AxesImage at 0x32c2ad198>"
      ]
     },
     "execution_count": 50,
     "metadata": {},
     "output_type": "execute_result"
    },
    {
     "data": {
      "image/png": "[encoded data removed]",
      "text/plain": [
       "<Figure size 432x288 with 1 Axes>"
      ]
     },
     "metadata": {
      "needs_background": "light"
     },
     "output_type": "display_data"
    }
   ],
   "source": [
    "plt.imshow(img_games[0,2,:,:,0],cmap='gray')"
   ]
  },
  {
   "cell_type": "code",
   "execution_count": 60,
   "metadata": {},
   "outputs": [
    {
     "data": {
      "text/plain": [
       "<matplotlib.image.AxesImage at 0x32ed91c18>"
      ]
     },
     "execution_count": 60,
     "metadata": {},
     "output_type": "execute_result"
    },
    {
     "data": {
      "image/png": "[encoded data removed]",
      "text/plain": [
       "<Figure size 432x288 with 1 Axes>"
      ]
     },
     "metadata": {
      "needs_background": "light"
     },
     "output_type": "display_data"
    }
   ],
   "source": [
    "plt.imshow(img_games[0,2,:,:,0] < 210)"
   ]
  },
  {
   "cell_type": "code",
   "execution_count": 33,
   "metadata": {},
   "outputs": [
    {
     "data": {
      "text/plain": [
       "{'game7.csv':     Unnamed: 0  P1  P2  P3  P4  D\n",
       " 0            1 NaN NaN NaN NaN  4\n",
       " 1            2 NaN NaN NaN NaN  3\n",
       " 2            3 NaN NaN NaN NaN  2\n",
       " 3            4 NaN NaN NaN NaN  1\n",
       " 4            5 NaN NaN NaN NaN  1\n",
       " 5            6 NaN NaN NaN NaN  3\n",
       " 6            7 NaN NaN NaN NaN  4\n",
       " 7            8 NaN NaN NaN NaN  2\n",
       " 8            9 NaN NaN NaN NaN  2\n",
       " 9           10 NaN NaN NaN NaN  2\n",
       " 10          11 NaN NaN NaN NaN  4\n",
       " 11          12 NaN NaN NaN NaN  3\n",
       " 12          13 NaN NaN NaN NaN  3}"
      ]
     },
     "execution_count": 33,
     "metadata": {},
     "output_type": "execute_result"
    }
   ],
   "source": [
    "# weird one \n",
    "dataloader.csvs[-1]"
   ]
  },
  {
   "cell_type": "markdown",
   "metadata": {},
   "source": [
    "---\n",
    "## 3. Your Tasks\n",
    "\n",
    "Your task is to ready yourself for the final evaluation. The day of the exam we will give you a new folder with a new game. ! The digits on the cards might sligthly **differ** from the one of the traning set. When given a new data folder with 13 images your should be able to:\n",
    "\n",
    "**Task 0**\n",
    "   - Plot an overlayF fr each round image that shows your detections and classification. You can for example plot bounding boxes around the cards/dealer token and add a text overlay with the name of the classes.\n",
    "\n",
    "**Task 1**\n",
    "   - (a) Predict the **rank** of the card played by each player at each round (Standard rules).\n",
    "   - (b) Predict the **number of points** of each player according to **Standard** rules\n",
    " \n",
    "**Task 2**\n",
    "   - (a) Detect which player is the selected **dealer** for each round.\n",
    "   - (b) Predict the **rank** and the **suit** of the card played by each player at each round (Advanced rules).\n",
    "   - (c) Predict the **number of points** of each player according to **Advanced** rules\n",
    "\n",
    "\n",
    "You will have to upload your code on moodle **the day before** the exam.\n",
    "\n",
    "We will ask you to run your pipeline in realtime and to send us your prediction of task 1 and 2 obtain with the function **print_results**. On our side we will compute the perfomance of your classification algorithm. To evaluate your method we will use the **evaluate_game** function presented below. To understant how the provided functions work please read the documentation of the functions in **utils.py**.\n",
    "\n",
    "**Please make sure your function returns the proper data format to avoid points penalty the day of the exam**. "
   ]
  },
  {
   "cell_type": "markdown",
   "metadata": {},
   "source": [
    "<b> Premice: </b>\n"
   ]
  },
  {
   "cell_type": "markdown",
   "metadata": {},
   "source": [
    "### 3.1 Example Final results\n",
    "\n",
    "Example of output you **should** provide the day of the final exam."
   ]
  },
  {
   "cell_type": "code",
   "execution_count": 1,
   "metadata": {},
   "outputs": [
    {
     "name": "stdout",
     "output_type": "stream",
     "text": [
      "The cards played were:\n",
      "[\n",
      "['0D', '0D', '0D', '0D'], \n",
      "['0D', '0D', '0D', '0D'], \n",
      "['0D', '0D', '0D', '0D'], \n",
      "['0D', '0D', '0D', '0D'], \n",
      "['0D', '0D', '0D', '0D'], \n",
      "['0D', '0D', '0D', '0D'], \n",
      "['0D', '0D', '0D', '0D'], \n",
      "['0D', '0D', '0D', '0D'], \n",
      "['0D', '0D', '0D', '0D'], \n",
      "['0D', '0D', '0D', '0D'], \n",
      "['0D', '0D', '0D', '0D'], \n",
      "['0D', '0D', '0D', '0D'], \n",
      "['0D', '0D', '0D', '0D'], \n",
      "]\n",
      "Players designated as dealer: [1, 1, 1, 1, 1, 1, 1, 1, 1, 1, 1, 1, 1]\n",
      "Players points (standard): [0, 0, 0, 13]\n",
      "Players points (advanced): [0, 0, 8, 7]\n"
     ]
    }
   ],
   "source": [
    "from utils import print_results\n",
    "import numpy as np\n",
    "\n",
    "# Creates dummy predictions (toy exmaple)\n",
    "pred_rank = np.array([\"0D\"]*4*13).reshape((13, 4)) # Everyone played the \"0 of spade\".\n",
    "pred_dealer = [1]*13                # List of players selected as dealer for each round\n",
    "pred_pts_stand = [0,0,0,13]         # Player 4 won 13 points with standard rules.\n",
    "pred_pts_advan = [0,0,8,7]          # Player 3 and 4 won 8 and 7 points with adv, rules respectively.\n",
    "\n",
    "print_results(\n",
    "    rank_colour=pred_rank, \n",
    "    dealer=pred_dealer, \n",
    "    pts_standard=pred_pts_stand,\n",
    "    pts_advanced=pred_pts_advan,\n",
    ")"
   ]
  },
  {
   "cell_type": "markdown",
   "metadata": {},
   "source": [
    "### 3.2 Example Accuracy\n",
    "\n",
    "Example of code you can use to validate the performance of your model. Be careful the day of the exam you will not have access to the ground truth of the predictions."
   ]
  },
  {
   "cell_type": "code",
   "execution_count": 2,
   "metadata": {},
   "outputs": [
    {
     "name": "stdout",
     "output_type": "stream",
     "text": [
      "Your model accuracy is: Standard=0.077, Advanced=0.019\n"
     ]
    }
   ],
   "source": [
    "from utils import evaluate_game\n",
    "import pandas as pd\n",
    "#! You will need pandas libary to run the example. Please install the package using pip or conda commands !\n",
    "\n",
    "# Load ground truth from game 1\n",
    "cgt = pd.read_csv('train_games/game1/game1.csv', index_col=0)\n",
    "cgt_rank = cgt[['P1', 'P2', 'P3', 'P4']].values\n",
    "\n",
    "# Compute accuracy of prediction\n",
    "acc_standard = evaluate_game(pred_rank, cgt_rank, mode_advanced=False)\n",
    "acc_advanced = evaluate_game(pred_rank, cgt_rank, mode_advanced=True)\n",
    "print(\"Your model accuracy is: Standard={:.3f}, Advanced={:.3f}\".format(acc_standard, acc_advanced))"
   ]
  }
 ],
 "metadata": {
  "kernelspec": {
   "display_name": "Python 3",
   "language": "python",
   "name": "python3"
  },
  "language_info": {
   "codemirror_mode": {
    "name": "ipython",
    "version": 3
   },
   "file_extension": ".py",
   "mimetype": "text/x-python",
   "name": "python",
   "nbconvert_exporter": "python",
   "pygments_lexer": "ipython3",
   "version": "3.7.3"
  }
 },
 "nbformat": 4,
 "nbformat_minor": 2
}
