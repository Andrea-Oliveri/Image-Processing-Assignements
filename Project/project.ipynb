{
 "cells": [
  {
   "cell_type": "markdown",
   "metadata": {},
   "source": [
    "# [IAPR][iapr]: Project\n",
    "\n",
    "\n",
    "**Group ID:** 26\n",
    "\n",
    "**Author 1 (sciper):** Andrea Oliveri (283506)  \n",
    "**Author 2 (sciper):** Charles Berger (272018)   \n",
    "**Author 3 (sciper):** Chun Hei Michael Chan (311722)  \n",
    "\n",
    "**Release date:** 07.05.2021  \n",
    "**Due date:** 03.06.2021 (23h59)\n",
    "\n",
    "\n",
    "## Important notes\n",
    "\n",
    "The lab assignments are designed to teach practical implementation of the topics presented during class as well as preparation for the final project, which is a practical project which ties together the topics of the course. \n",
    "\n",
    "As such, in the lab assignments/final project, unless otherwise specified, you may, if you choose, use external functions from image processing/ML libraries like opencv and sklearn as long as there is sufficient explanation in the lab report. For example, you do not need to implement your own edge detector, etc.\n",
    "\n",
    "**! Before handling back the notebook !** rerun the notebook from scratch `Kernel` > `Restart & Run All`\n",
    "\n",
    "\n",
    "[iapr]: https://github.com/LTS5/iapr"
   ]
  },
  {
   "cell_type": "markdown",
   "metadata": {},
   "source": [
    "---\n",
    "## 0. Introduction\n",
    "\n",
    "An anonymous researcher that we will name Lann Yecun is convinced that the MNIST dataset still has great potential. He decides to create a playing card game based on MNIST digits and different figures. The game uses a standard 52 card deck which is composed of four French suits/colours: clubs (&#9827;), diamonds (&#9830;), hearts (&#9829;) and spades (&#9824;). Each suit includes 10 digit cards (from 0 to 9) and 3 figures (Jack-J, Queen-Q, and King-K). Here is an example of the 13 spade cards with their name.\n",
    "\n",
    "\n",
    "<img src=\"media/example_cards.png\">\n",
    "\n",
    "\n",
    "We can find the same arrangement of cards for the clubs, diamonds, and hearts. \n",
    "\n",
    "\n",
    "## 1. Rules\n",
    "\n",
    "\n",
    "### 1.1 Standard\n",
    "\n",
    "The rules are based on the simple battle card game. The goal of the game is to win as many points as possible. Each turn, the 4 players play a card in front of them. As displayed in the example below. The rules are the following:\n",
    "\n",
    "- The cards are ranked in the following order : **0 < 1 < 2 < 3 < 4 < 5 < 6 < 7 < 8 < 9 < J < Q < K**.\n",
    "- The player with the highest-ranked card wins the round and obtains **1 point**. \n",
    "- If the highest-ranked card is the same for multiple players we call it a draw and all winners get **1 points**. \n",
    "- In this configuration, we **do not** take into account the suits. The game only rely on the card ranks. \n",
    "- The game lasts 13 rounds. After the last round, the winner is the player that has the largest number of points. \n",
    "- In the example below Player 1 wins the round with his Queen ( 0 < 8 < J < **Q**).\n",
    "\n",
    "If two or more players have the same number of points they share the victory.\n",
    "\n",
    "### 1.2 Advanced\n",
    "\n",
    "The advanced rules take into account the suits. \n",
    "\n",
    "- At the beginning of **each round** a random player is designated as the **dealer**. The dealer places a green token with the letter *D* next to him (player 1 in the example below).\n",
    "- Only the cards that belong to the same suit as the one of the dealer are considered valid. In the example below, only Player 4 is competing with Player 1 as spade was selected by the dealer (e.i., Player 1). Player 2 and 3 are out for this round. Player 1 wins the round and **1 point** with the Queen ( 0&#9824; < **Q&#9824;**).\n",
    "- There cannot be any draw between the players as they are not any card duplicates.\n",
    "- We use the same system as the standard method to count the points.\n",
    "\n",
    "\n",
    "<img src=\"media/example_round.jpg\">\n",
    "\n",
    "\n",
    "### 1.3 Notes\n",
    "\n",
    "- The orientation of the card is linked to the position of the player around the table. For instance, to read the card of the 3rd player you will have to rotate it by 180°.\n",
    "- The **digits** always **face** the players around the table. The figures can have random orientations.\n",
    "- Player 1 **always** seats south of the table. The players are **always** ordered counter-clockwise as in the example. \n",
    "- The dealers can change between the rounds and games.\n",
    "- Some cards **might** apear multiple times per game.\n",
    "- Pictures are always taken from rougthly the same altitude.\n",
    "- The digits from the training set **would not** be the same as the one of the testing set."
   ]
  },
  {
   "cell_type": "markdown",
   "metadata": {},
   "source": [
    "---\n",
    "## 2. Data\n",
    "\n",
    "You will be given the images of 7 games that were played ([download link](https://drive.google.com/drive/folders/1fEy27wnJsUJPRsEEomzoAtP56s-7HFtk?usp=sharing)). The data are composed of:\n",
    "   - 7 folder named after the games (game1 to game7).\n",
    "   - Each game includes 13 ordered images (1st to 13th round).\n",
    "   - Each game includes a csv file with the ground truth of the game. The first row list the players (P1 to P4) as well as the dealer (D). The following rows represent the rounds (1 to 13). We represent the card played with 2 character as $AB$ where $A \\in [0-9, J, Q, K]$ is the rank of the card and $B \\in [C, D, H, S]$ is the suit. For example, QS means \"(Q)ueen of (S)pade\" and 0D means \"(0) of (D)iamond\". The dealer is represented by the ID of the player (e.g. P1 -> 1).\n",
    "   \n",
    "You are free to use external datasets such as the original MNIST train set that you used in lab 3."
   ]
  },
  {
   "cell_type": "markdown",
   "metadata": {},
   "source": [
    "---\n",
    "## 3. Your Tasks\n",
    "\n",
    "Your task is to ready yourself for the final evaluation. The day of the exam we will give you a new folder with a new game. ! The digits on the cards **differ** from the one of the traning set. When given a new data folder with 13 images your should be able to:\n",
    "\n",
    "**Task 0**\n",
    "   - Plot an overlay for each round image that shows your detections and classification. You can for example plot bounding boxes around the cards/dealer token and add a text overlay with the name of the classes.\n",
    "\n",
    "**Task 1**\n",
    "   - (a) Predict the **rank** of the card played by each player at each round (Standard rules).\n",
    "   - (b) Predict the **number of points** of each player according to **Standard** rules\n",
    " \n",
    "**Task 2**\n",
    "   - (a) Detect which player is the selected **dealer** for each round.\n",
    "   - (b) Predict the **rank** and the **suit** of the card played by each player at each round (Advanced rules).\n",
    "   - (c) Predict the **number of points** of each player according to **Advanced** rules\n",
    "\n",
    "---\n",
    "\n",
    "**Before the exam (until 03.06.21 at 23h59)**\n",
    "   - Create a zipped folder named **group_xx.zip** that you uplaod on moodel (xx being your group number).\n",
    "   - Include a **runnable** code (Jupyter Notebook and external files) and your presentation in the zip folder.\n",
    "   \n",
    "**The day of the exam (04.06.21)**\n",
    "   - You will be given a **new folder** with 13 images (rounds) and but **no ground truth** (csv file).\n",
    "   - We will ask you to run your pipeline in **realtime** and to send us your prediction of task 1 and 2 that you obtain with the function **print_results**. \n",
    "   - On our side we will compute the perfomance of your classification algorithm. \n",
    "   - To evaluate your method we will use the **evaluate_game** function presented below. To understant how the provided functions work please read the documentation of the functions in **utils.py**.\n",
    "   - **Please make sure your function returns the proper data format to avoid points penalty the day of the exam**. "
   ]
  },
  {
   "cell_type": "code",
   "execution_count": 1,
   "metadata": {},
   "outputs": [],
   "source": [
    "from scripts import *\n",
    "import tensorflow as tf\n",
    "\n",
    "# use loader to get labels and images\n",
    "data_loader = DataLoader()\n",
    "extractor = Extractor()"
   ]
  },
  {
   "cell_type": "code",
   "execution_count": 2,
   "metadata": {},
   "outputs": [
    {
     "name": "stderr",
     "output_type": "stream",
     "text": [
      "WARNING: Logging before flag parsing goes to stderr.\n",
      "W0528 10:22:44.585294 140736028349312 deprecation.py:506] From /Users/michaelchan/anaconda3/lib/python3.7/site-packages/tensorflow_core/python/ops/resource_variable_ops.py:1781: calling BaseResourceVariable.__init__ (from tensorflow.python.ops.resource_variable_ops) with constraint is deprecated and will be removed in a future version.\n",
      "Instructions for updating:\n",
      "If using Keras pass *_constraint arguments to layers.\n"
     ]
    }
   ],
   "source": [
    "model = tf.keras.models.load_model('./Models/Fully Convolutional Network')\n",
    "model.compile(optimizer = 'adam', loss = crossentropy, metrics = [accuracy])"
   ]
  },
  {
   "cell_type": "code",
   "execution_count": 14,
   "metadata": {},
   "outputs": [],
   "source": [
    "def process_figure_mask(mask):\n",
    "    height, width = mask.shape\n",
    "    max_size = max(height, width)\n",
    "    \n",
    "    pad_left   = (max_size - width ) // 2\n",
    "    pad_right  = max_size - width - pad_left\n",
    "    pad_top    = (max_size - height) // 2\n",
    "    pad_bottom = max_size - height - pad_top\n",
    "    \n",
    "    mask = cv2.copyMakeBorder(mask, pad_top, pad_bottom, pad_left, pad_right, borderType = cv2.BORDER_CONSTANT, value = 0)\n",
    "    mask = zoom_image_to_meet_shape(mask, (28, 28))\n",
    "    mask = normalize(mask)\n",
    "    mask = binarize(mask)\n",
    "    \n",
    "    return mask.astype(np.float32)\n",
    "    \n",
    "\n",
    "\n",
    "suit_translate = {0: 'S', 1: 'C', 2: 'D', 3: 'H'}\n",
    "figure_translate = {i:str(i) for i in range(10)}\n",
    "figure_translate[10] = 'J'\n",
    "figure_translate[11] = 'Q'\n",
    "figure_translate[12] = 'K'\n",
    "\n",
    "def round2df(dealer, class_fig, class_suit, rd_nb, game_nb):\n",
    "    # dealer -> number, class_fig -> array[4], class_suit -> array[4] \n",
    "    # rd_nb -> number, game_nb -> number\n",
    "    \n",
    "    suits = [suit_translate[c] for c in suits_label]\n",
    "    figures = [figure_translate[c] for c in figures_label]\n",
    "    round_label = {'P'+str(i+1):[figures[i]+suits[i]] for i in range(len(suits))}\n",
    "    round_label['D'] = [dealer]\n",
    "    round_label['round'] = rd_nb\n",
    "    round_label['game'] = game_nb\n",
    "    \n",
    "    return pd.DataFrame.from_dict(round_label)"
   ]
  },
  {
   "cell_type": "code",
   "execution_count": 7,
   "metadata": {},
   "outputs": [],
   "source": [
    "#macro\n",
    "verbose = 0\n",
    "\n",
    "suit_classifier = ....load()"
   ]
  },
  {
   "cell_type": "code",
   "execution_count": 15,
   "metadata": {
    "scrolled": true
   },
   "outputs": [],
   "source": [
    "# # Create Dataframe for a specific game and round \n",
    "# # We then concatenate the game and round to a full game dataframe\n",
    "\n",
    "\n",
    "res = []\n",
    "for game in data_loader.get_available_games():\n",
    "    for round_ in data_loader.get_available_rounds(game):\n",
    "        print(\"Game: {}, Round: {}\".format(game, round_))\n",
    "        image, _ = data_loader[game, round_]\n",
    "        dealer, cards, figures_suits = extractor(image)\n",
    "        \n",
    "        class_fig  = []\n",
    "        class_suit = []\n",
    "        for player, images in figures_suits.items():\n",
    "            figure_mask = get_color_pixels(images['figure'], images['color'])\n",
    "            suits_mask  = get_color_pixels(images['suit'  ], images['color'])\n",
    "            figure_mask = process_figure_mask(figure_mask)\n",
    "            \n",
    "            pred = model(figure_mask[None, :, :, None])\n",
    "            pred = np.argmax(pred)\n",
    "            pred_suits = suit_classifier.predict(suits_mask)\n",
    "            \n",
    "            if verbose:\n",
    "                plt.imshow(figure_mask)\n",
    "                plt.title(pred)\n",
    "                plt.show()\n",
    "                \n",
    "            class_fig.append(pred)\n",
    "            class_suit.append(pred_suits)\n",
    "            \n",
    "        df_round = round2df(dealer, class_fig, class_suit, round_, game)\n",
    "        res.append(df_round)\n",
    "        \n",
    "df_res = pd.concat(res)"
   ]
  },
  {
   "cell_type": "code",
   "execution_count": 45,
   "metadata": {},
   "outputs": [
    {
     "data": {
      "text/html": [
       "<div>\n",
       "<style scoped>\n",
       "    .dataframe tbody tr th:only-of-type {\n",
       "        vertical-align: middle;\n",
       "    }\n",
       "\n",
       "    .dataframe tbody tr th {\n",
       "        vertical-align: top;\n",
       "    }\n",
       "\n",
       "    .dataframe thead th {\n",
       "        text-align: right;\n",
       "    }\n",
       "</style>\n",
       "<table border=\"1\" class=\"dataframe\">\n",
       "  <thead>\n",
       "    <tr style=\"text-align: right;\">\n",
       "      <th></th>\n",
       "      <th>P1</th>\n",
       "      <th>P2</th>\n",
       "      <th>P3</th>\n",
       "      <th>P4</th>\n",
       "      <th>D</th>\n",
       "    </tr>\n",
       "  </thead>\n",
       "  <tbody>\n",
       "    <tr>\n",
       "      <th>0</th>\n",
       "      <td>1C</td>\n",
       "      <td>2S</td>\n",
       "      <td>4D</td>\n",
       "      <td>1D</td>\n",
       "      <td>4</td>\n",
       "    </tr>\n",
       "  </tbody>\n",
       "</table>\n",
       "</div>"
      ],
      "text/plain": [
       "   P1  P2  P3  P4  D\n",
       "0  1C  2S  4D  1D  4"
      ]
     },
     "execution_count": 45,
     "metadata": {},
     "output_type": "execute_result"
    }
   ],
   "source": [
    "print(df_res)\n",
    "print(label)"
   ]
  },
  {
   "cell_type": "code",
   "execution_count": 4,
   "metadata": {},
   "outputs": [
    {
     "name": "stdout",
     "output_type": "stream",
     "text": [
      "(13, 4608, 3456, 3)\n",
      "    round  P1  P2  P3  P4  D   game\n",
      "0       1  QS  8H  JH  0S  1  game1\n",
      "1       2  5S  JS  9C  KD  1  game1\n",
      "2       3  1D  3H  7C  3D  1  game1\n",
      "3       4  1S  JD  4S  4C  1  game1\n",
      "4       5  0D  6S  3C  2C  1  game1\n",
      "5       6  8S  9D  3S  KS  1  game1\n",
      "6       7  4D  7H  7D  6H  1  game1\n",
      "7       8  0C  KC  9S  8C  1  game1\n",
      "8       9  5D  5H  1H  7S  1  game1\n",
      "9      10  QH  QC  6D  9H  1  game1\n",
      "10     11  4H  2D  JC  QD  1  game1\n",
      "11     12  6C  8D  2H  KH  1  game1\n",
      "12     13  1C  5C  0H  2S  1  game1\n"
     ]
    }
   ],
   "source": [
    "# one game\n",
    "# format for game: `label`"
   ]
  },
  {
   "cell_type": "code",
   "execution_count": 5,
   "metadata": {},
   "outputs": [
    {
     "name": "stdout",
     "output_type": "stream",
     "text": [
      "count points (stadard rule): [2, 6, 2, 5]\n",
      "count points (advanced rule): [6, 3, 2, 2]\n"
     ]
    }
   ],
   "source": [
    "g = Game(label)\n",
    "print('count points (stadard rule): {}'.format(g.gamewinner(rule='standard')))\n",
    "print('count points (advanced rule): {}'.format(g.gamewinner(rule='advanced')))"
   ]
  },
  {
   "cell_type": "markdown",
   "metadata": {},
   "source": [
    "---\n",
    "### 3.1 Example Final results\n",
    "\n",
    "Example of output you **should** provide the day of the final exam."
   ]
  },
  {
   "cell_type": "code",
   "execution_count": 1,
   "metadata": {},
   "outputs": [
    {
     "name": "stdout",
     "output_type": "stream",
     "text": [
      "The cards played were:\n",
      "[\n",
      "['0D', '0D', '0D', '0D'], \n",
      "['0D', '0D', '0D', '0D'], \n",
      "['0D', '0D', '0D', '0D'], \n",
      "['0D', '0D', '0D', '0D'], \n",
      "['0D', '0D', '0D', '0D'], \n",
      "['0D', '0D', '0D', '0D'], \n",
      "['0D', '0D', '0D', '0D'], \n",
      "['0D', '0D', '0D', '0D'], \n",
      "['0D', '0D', '0D', '0D'], \n",
      "['0D', '0D', '0D', '0D'], \n",
      "['0D', '0D', '0D', '0D'], \n",
      "['0D', '0D', '0D', '0D'], \n",
      "['0D', '0D', '0D', '0D'], \n",
      "]\n",
      "Players designated as dealer: [1, 1, 1, 1, 1, 1, 1, 1, 1, 1, 1, 1, 1]\n",
      "Players points (standard): [0, 0, 0, 13]\n",
      "Players points (advanced): [0, 0, 8, 7]\n"
     ]
    }
   ],
   "source": [
    "from utils import print_results\n",
    "import numpy as np\n",
    "\n",
    "# Creates dummy predictions (toy exmaple)\n",
    "pred_rank = np.array([\"0D\"]*4*13).reshape((13, 4)) # Everyone played the \"0 of spade\".\n",
    "pred_dealer = [1]*13                # List of players selected as dealer for each round\n",
    "pred_pts_stand = [0,0,0,13]         # Player 4 won 13 points with standard rules.\n",
    "pred_pts_advan = [0,0,8,7]          # Player 3 and 4 won 8 and 7 points with adv, rules respectively.\n",
    "\n",
    "print_results(\n",
    "    rank_colour=pred_rank, \n",
    "    dealer=pred_dealer, \n",
    "    pts_standard=pred_pts_stand,\n",
    "    pts_advanced=pred_pts_advan,\n",
    ")"
   ]
  },
  {
   "cell_type": "markdown",
   "metadata": {},
   "source": [
    "---\n",
    "### 3.2 Example Accuracy\n",
    "\n",
    "Example of code you can use to validate the performance of your model. Be careful the day of the exam you will not have access to the ground truth of the predictions."
   ]
  },
  {
   "cell_type": "code",
   "execution_count": 2,
   "metadata": {},
   "outputs": [
    {
     "name": "stdout",
     "output_type": "stream",
     "text": [
      "Your model accuracy is: Standard=0.077, Advanced=0.019\n"
     ]
    }
   ],
   "source": [
    "from utils import evaluate_game\n",
    "import pandas as pd\n",
    "#! You will need pandas libary to run the example. Please install the package using pip or conda commands !\n",
    "\n",
    "# Load ground truth from game 1\n",
    "cgt = pd.read_csv('train_games/game1/game1.csv', index_col=0)\n",
    "cgt_rank = cgt[['P1', 'P2', 'P3', 'P4']].values\n",
    "\n",
    "# Compute accuracy of prediction\n",
    "acc_standard = evaluate_game(pred_rank, cgt_rank, mode_advanced=False)\n",
    "acc_advanced = evaluate_game(pred_rank, cgt_rank, mode_advanced=True)\n",
    "print(\"Your model accuracy is: Standard={:.3f}, Advanced={:.3f}\".format(acc_standard, acc_advanced))"
   ]
  }
 ],
 "metadata": {
  "kernelspec": {
   "display_name": "Python 3",
   "language": "python",
   "name": "python3"
  },
  "language_info": {
   "codemirror_mode": {
    "name": "ipython",
    "version": 3
   },
   "file_extension": ".py",
   "mimetype": "text/x-python",
   "name": "python",
   "nbconvert_exporter": "python",
   "pygments_lexer": "ipython3",
   "version": "3.7.3"
  }
 },
 "nbformat": 4,
 "nbformat_minor": 2
}
