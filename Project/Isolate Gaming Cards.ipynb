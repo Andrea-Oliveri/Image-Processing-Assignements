{
 "cells": [
  {
   "cell_type": "code",
   "execution_count": 1,
   "id": "superb-smooth",
   "metadata": {},
   "outputs": [],
   "source": [
    "import cv2\n",
    "import numpy as np\n",
    "import matplotlib.pyplot as plt"
   ]
  },
  {
   "cell_type": "markdown",
   "id": "educational-bicycle",
   "metadata": {},
   "source": [
    "<img src=https://i.stack.imgur.com/gyuw4.png>"
   ]
  },
  {
   "cell_type": "code",
   "execution_count": 2,
   "id": "renewable-serum",
   "metadata": {},
   "outputs": [],
   "source": [
    "def get_color_pixels(image, color):\n",
    "    image_hsv = cv2.cvtColor(image, cv2.COLOR_BGR2HSV)\n",
    "    \n",
    "    if color == \"black\":\n",
    "        return cv2.inRange(image_hsv, (0, 0, 0), (180, 255, 30))\n",
    "\n",
    "    elif color == \"green\":\n",
    "        return cv2.inRange(image_hsv, (40, 50, 30), (70, 255, 255))\n",
    "        \n",
    "    elif color == \"red\":\n",
    "        mask1 = cv2.inRange(image_hsv, (0, 70, 50), (10, 255, 255))\n",
    "        mask2 = cv2.inRange(image_hsv, (170, 70, 50), (180, 255, 255))\n",
    "        return cv2.bitwise_or(mask1, mask2)\n",
    "    \n",
    "    else:\n",
    "        raise ValueError(f\"Color parameter must be one of 'black', 'green', 'red'. Got: {color}\")"
   ]
  }
 ],
 "metadata": {
  "kernelspec": {
   "display_name": "Python 3",
   "language": "python",
   "name": "python3"
  },
  "language_info": {
   "codemirror_mode": {
    "name": "ipython",
    "version": 3
   },
   "file_extension": ".py",
   "mimetype": "text/x-python",
   "name": "python",
   "nbconvert_exporter": "python",
   "pygments_lexer": "ipython3",
   "version": "3.7.10"
  }
 },
 "nbformat": 4,
 "nbformat_minor": 5
}
