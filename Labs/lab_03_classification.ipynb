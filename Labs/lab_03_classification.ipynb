{
 "cells": [
  {
   "cell_type": "markdown",
   "metadata": {},
   "source": [
    "# [IAPR][iapr]: Lab 3 ‒  Classification\n",
    "\n",
    "\n",
    "**Group ID:** 26\n",
    "\n",
    "**Author 1 (sciper):** Andrea Oliveri (283506)  \n",
    "**Author 2 (sciper):** Charles Berger (272018)   \n",
    "**Author 3 (sciper):** Chun Hei Michael Chan (311722)  \n",
    "\n",
    "**Release date:** 23.04.2021  \n",
    "**Due date:** 07.05.2021 \n",
    "\n",
    "\n",
    "## Important notes\n",
    "\n",
    "The lab assignments are designed to teach practical implementation of the topics presented during class well as preparation for the final project, which is a practical project which ties together the topics of the course. \n",
    "\n",
    "As such, in the lab assignments/final project, unless otherwise specified, you may, if you choose, use external functions from image processing/ML libraries like opencv and sklearn as long as there is sufficient explanation in the lab report. For example, you do not need to implement your own edge detector, etc.\n",
    "\n",
    "**! Before handling back the notebook !** rerun the notebook from scratch `Kernel` > `Restart & Run All`\n",
    "\n",
    "\n",
    "[iapr]: https://github.com/LTS5/iapr"
   ]
  },
  {
   "cell_type": "markdown",
   "metadata": {},
   "source": [
    "## Extract relevant data\n",
    "We first need to extract the `lab-03-data.tar.gz` archive.\n",
    "To this end, we use the [tarfile] module from the Python standard library.\n",
    "\n",
    "[tarfile]: https://docs.python.org/3.6/library/tarfile.html"
   ]
  },
  {
   "cell_type": "code",
   "execution_count": 2,
   "metadata": {},
   "outputs": [],
   "source": [
    "import tarfile\n",
    "import os\n",
    "\n",
    "data_base_path = os.path.join(os.pardir, 'data')\n",
    "data_folder = 'lab-03-data'\n",
    "tar_path = os.path.join(data_base_path, data_folder + '.tar.gz')\n",
    "with tarfile.open(tar_path, mode='r:gz') as tar:\n",
    "    tar.extractall(path=data_base_path)"
   ]
  },
  {
   "cell_type": "markdown",
   "metadata": {},
   "source": [
    "---\n",
    "## Part 1\n",
    "In this part, we will study classification based on the data available in the Matlab file `classification.mat` that you will under `lab-03-data/part1`.\n",
    "There are 3 data sets in this file, each one being a training set for a given class.\n",
    "They are contained in variables `a`, `b` and `c`.\n",
    "\n",
    "**Note**: we can load Matlab files using the [scipy.io] module.\n",
    "\n",
    "[scipy.io]: https://docs.scipy.org/doc/scipy/reference/io.html"
   ]
  },
  {
   "cell_type": "code",
   "execution_count": 3,
   "metadata": {},
   "outputs": [
    {
     "name": "stdout",
     "output_type": "stream",
     "text": [
      "(200, 2) (200, 2) (200, 2)\n"
     ]
    }
   ],
   "source": [
    "import scipy.io\n",
    "\n",
    "data_part1_path = os.path.join(data_base_path, data_folder, 'part1', 'classification.mat')\n",
    "matfile = scipy.io.loadmat(data_part1_path)\n",
    "a = matfile['a']\n",
    "b = matfile['b']\n",
    "c = matfile['c']\n",
    "\n",
    "print(a.shape, b.shape, c.shape)"
   ]
  },
  {
   "cell_type": "markdown",
   "metadata": {},
   "source": [
    "### 1.1 Bayes method (5 pts)\n",
    "Using the Bayes method, give the analytical expression of the separation curves between those three classes.\n",
    "Do reasonable hypotheses about the distributions of those classes and estimate the corresponding parameters based on the given training sets.\n",
    "Draw those curves on a plot, together with the training data.\n",
    "For simplicity reasons, round the estimated parameters to the closest integer value."
   ]
  },
  {
   "cell_type": "code",
   "execution_count": 47,
   "metadata": {},
   "outputs": [
    {
     "name": "stdout",
     "output_type": "stream",
     "text": [
      "for classi : Statistic = 0.9620845913887024 and p_value = 1.1963419588312263e-08\n",
      "for classj : Statistic = 0.9585496783256531 and p_value = 3.4568339302154527e-09\n",
      "for classx : Statistic = 0.8562769889831543 and p_value = 1.0516706065598658e-18\n",
      "classi does not look Gaussian (reject H0)\n",
      "classj does not look Gaussian (reject H0)\n",
      "classx does not look Gaussian (reject H0)\n",
      "None of the covariances matrices are equal\n"
     ]
    },
    {
     "data": {
      "image/png": "[encoded data removed]",
      "text/plain": [
       "<Figure size 432x288 with 1 Axes>"
      ]
     },
     "metadata": {
      "needs_background": "light"
     },
     "output_type": "display_data"
    }
   ],
   "source": [
    "# Add your implementation and discussion\n",
    "#Library import\n",
    "import matplotlib.pyplot as plt\n",
    "import numpy as np\n",
    "from sklearn.naive_bayes import GaussianNB\n",
    "from scipy.stats import shapiro\n",
    "\n",
    "# total numebr of point : \n",
    "\n",
    "ntot = a.shape[0] + b.shape[0] + c.shape[0]\n",
    "#Function calculating all the necessary parameter from the classes : \n",
    "\n",
    "def classe_parameter(classi,ntot):\n",
    "    \"\"\"\n",
    "    Function that calculate the mean, the variance and covariance Matrix and the prior probability of class i \n",
    "    \n",
    "    Input variables : \n",
    "        classi [numpy array] : data points belonging to a specific class\n",
    "        ntot [integer] : Total number of data points (from every class)\n",
    "    \n",
    "    output variables : \n",
    "        mean [float] : mean of the class\n",
    "        covariance [float] : Covariance of the class\n",
    "        p_class [float] : prior probability of the class \n",
    "    \"\"\"\n",
    "    mean = np.mean(classi)\n",
    "    covariance = np.cov(classi)\n",
    "    p_class = classi.shape[0]/ntot\n",
    "    \n",
    "    return (mean),covariance,p_class\n",
    "\n",
    "def hypothesis_checking(classi,classj,classx,covariancei,covariancej,covariancex): \n",
    "    ##test if data follow a normal distribution : \n",
    "    stati, pi = shapiro(classi)\n",
    "    statj, pj = shapiro(classj)\n",
    "    statx, px = shapiro(classx)\n",
    "    print(\"for {} : Statistic = {} and p_value = {}\".format(\"classi\",stati,pi))\n",
    "    print(\"for {} : Statistic = {} and p_value = {}\".format(\"classj\",statj,pj))\n",
    "    print(\"for {} : Statistic = {} and p_value = {}\".format(\"classx\",statx,px))\n",
    "    alpha = 0.05\n",
    "    if pi > alpha:\n",
    "        print('{} looks Gaussian (fail to reject H0)'.format(\"classi\"))\n",
    "    else:\n",
    "        print('{} does not look Gaussian (reject H0)'.format(\"classi\"))\n",
    "    \n",
    "    if pj > alpha:\n",
    "        print('{} looks Gaussian (fail to reject H0)'.format(\"classj\"))\n",
    "    else:\n",
    "        print('{} does not look Gaussian (reject H0)'.format(\"classj\"))\n",
    "    \n",
    "    if px > alpha:\n",
    "        print('{} looks Gaussian (fail to reject H0)'.format(\"classx\"))\n",
    "    else:\n",
    "        print('{} does not look Gaussian (reject H0)'.format(\"classx\"))\n",
    "        \n",
    "     ##Determine if covariance matrices of each class are equal and if they are diagonal :\n",
    "    if (np.array_equal(covariancei,covariancej)) and (np.array_equal(covariancei,covariancex)) and (np.array_equal(covariancej,covariancex)):\n",
    "        if (np.count_nonzero(covariancei - np.diag(np.diagonal(covariancei))) == 0) : \n",
    "            print(\"Covariance matrices of each class are diagonal \")\n",
    "        else :\n",
    "            print(\"Covariance matrices of each class are equal\")\n",
    "    else : \n",
    "        print(\"None of the covariances matrices are equal\")\n",
    "\n",
    "##The previous function prooved that the only rational assumption possible is Normality \n",
    "\n",
    "\n",
    "def discriminant_function_class(classi,classj,meani,meanj,covariancei,covariancej,p_classi,p_classj):\n",
    "    \"\"\"\n",
    "    Function that :\n",
    "        1) Verify which discriminant curve separate best the 2 classes\n",
    "        2) return the parameter describing the curve\n",
    "    \n",
    "    Input Variables : \n",
    "        classi [numpy array] : data points belonging to class i\n",
    "        classj [numpy array] : data points belonging to class j\n",
    "        meani [float] : mean of class i\n",
    "        meanj [float] : mean of class j\n",
    "        covariancei [numpy array] : Covariance matrix of class i\n",
    "        covariancej [numpy array] : Covariance matrix of class j\n",
    "        p_classi [float] : prior probability of the class i\n",
    "        p_classj [float] : prior probability of the class j\n",
    "        \n",
    "    Important note : For the sake of the classifier, we assume equal covariance matrices, Normality\n",
    "    \n",
    "    Output variables : \n",
    "        g [numpy array] : discriminant function between class i and class j\n",
    "        w [float] : slope of the line \n",
    "        x0 [float] : intercept of the discriminant line\n",
    "    \"\"\"\n",
    "    var_classi = covariancei[0,0]\n",
    "    w = meani-meanj\n",
    "    x0 = 0.5*(meani+meanj)-var_classi*np.log(p_classi/p_classj)*(meani-meanj)/(np.linalg.norm(meani-meanj))\n",
    "    g = (w)*(classi[:,0]-x0)\n",
    "    return w,x0,g\n",
    "\n",
    "mean_a,covariance_a,p_a = classe_parameter(a,ntot)\n",
    "mean_b,covariance_b,p_b = classe_parameter(b,ntot)\n",
    "mean_c,covariance_c,p_c = classe_parameter(c,ntot)\n",
    "hypothesis_checking(a,b,c,covariance_a,covariance_b,covariance_c)\n",
    "wab,x0ab,gab = discriminant_function_class(a,b,mean_a,mean_b,covariance_a,covariance_b,p_a,p_b)\n",
    "wcb,x0cb,gcb = discriminant_function_class(b,c,mean_b,mean_c,covariance_b,covariance_c,p_b,p_c)\n",
    "wac,x0ac,gac = discriminant_function_class(a,c,mean_a,mean_c,covariance_a,covariance_c,p_a,p_c)\n",
    "#plot of the data : \n",
    "\n",
    "def abline_function(slope,intercept,color):\n",
    "    \"\"\"Plot a line from slope and intercept\"\"\"\n",
    "    axes = plt.gca()\n",
    "    x_vals = np.array(axes.get_xlim())\n",
    "    y_vals = intercept + slope * x_vals\n",
    "    plt.plot(x_vals, y_vals, color)\n",
    "\n",
    "plt.plot(a[:,0],a[:,1],'ro',b[:,0],b[:,1],'go',c[:,0],c[:,1],'bo')\n",
    "plt.xlabel(\"Feature 1\")\n",
    "plt.ylabel(\"Feature 2\")\n",
    "plt.legend([\"class a\",\"class b\",\"class c\"])\n",
    "abline_function(wab,x0ab,\"r--\")\n",
    "abline_function(wcb,x0cb,\"b--\")\n",
    "abline_function(wac,x0ac,\"g--\")\n",
    "plt.show()"
   ]
  },
  {
   "cell_type": "markdown",
   "metadata": {},
   "source": [
    "### 1.2 Mahalanobis distance (5 pts)\n",
    "For classes `a` and `b`, give the expression of the Mahalanobis distance used to classify a point in class `a` or `b`, and verify the obtained classification, in comparison with the \"complete\" Bayes classification, for a few points of the plane."
   ]
  },
  {
   "cell_type": "code",
   "execution_count": null,
   "metadata": {},
   "outputs": [],
   "source": [
    "# Add your implementation and discussion"
   ]
  },
  {
   "cell_type": "markdown",
   "metadata": {},
   "source": [
    "---\n",
    "\n",
    "## Part 2\n",
    "In this part, we aim to classify digits using the complete version of MNIST digits dataset.\n",
    "The dataset consists of 60'000 training images and 10'000 test images of handwritten digits.\n",
    "Each image has size 28x28, and has assigned a label from zero to nine, denoting the digits value.\n",
    "Given this data, your task is to construct a Multilayer Perceptron (MLP) for supervised training and classification and evaluate it on the test images.\n",
    "\n",
    "Download the MNIST dataset (all 4 files) from http://yann.lecun.com/exdb/mnist/ under `lab-03-data/part2`.\n",
    "You can then use the script provided below to extract and load training and testing images in Python. \n",
    "\n",
    "**! Warning**: When the lab was created the official MNIST repo was down, if it is still the case please use https://github.com/mkolod/MNIST."
   ]
  },
  {
   "cell_type": "markdown",
   "metadata": {},
   "source": [
    "### 2.1 Dataset loading\n",
    "Here we first declare the methods `extract_data` and `extract_labels` so that we can reuse them later in the code.\n",
    "Then we extract both the data and corresponding labels, and plot randomly some images and corresponding labels of the training set."
   ]
  },
  {
   "cell_type": "code",
   "execution_count": null,
   "metadata": {},
   "outputs": [],
   "source": [
    "import gzip\n",
    "import numpy as np\n",
    "import matplotlib.pyplot as plt\n",
    "\n",
    "def extract_data(filename, image_shape, image_number):\n",
    "    with gzip.open(filename) as bytestream:\n",
    "        bytestream.read(16)\n",
    "        buf = bytestream.read(np.prod(image_shape) * image_number)\n",
    "        data = np.frombuffer(buf, dtype=np.uint8).astype(np.float32)\n",
    "        data = data.reshape(image_number, image_shape[0], image_shape[1])\n",
    "    return data\n",
    "\n",
    "\n",
    "def extract_labels(filename, image_number):\n",
    "    with gzip.open(filename) as bytestream:\n",
    "        bytestream.read(8)\n",
    "        buf = bytestream.read(1 * image_number)\n",
    "        labels = np.frombuffer(buf, dtype=np.uint8).astype(np.int64)\n",
    "    return labels"
   ]
  },
  {
   "cell_type": "code",
   "execution_count": null,
   "metadata": {},
   "outputs": [],
   "source": [
    "image_shape = (28, 28)\n",
    "train_set_size = 60000\n",
    "test_set_size = 10000\n",
    "\n",
    "data_part2_folder = os.path.join(data_base_path, data_folder, 'part2')\n",
    "\n",
    "train_images_path = os.path.join(data_part2_folder, 'train-images-idx3-ubyte.gz')\n",
    "train_labels_path = os.path.join(data_part2_folder, 'train-labels-idx1-ubyte.gz')\n",
    "test_images_path = os.path.join(data_part2_folder, 't10k-images-idx3-ubyte.gz')\n",
    "test_labels_path = os.path.join(data_part2_folder, 't10k-labels-idx1-ubyte.gz')\n",
    "\n",
    "train_images = extract_data(train_images_path, image_shape, train_set_size)\n",
    "test_images = extract_data(test_images_path, image_shape, test_set_size)\n",
    "train_labels = extract_labels(train_labels_path, train_set_size)\n",
    "test_labels = extract_labels(test_labels_path, test_set_size)"
   ]
  },
  {
   "cell_type": "code",
   "execution_count": null,
   "metadata": {},
   "outputs": [],
   "source": [
    "prng = np.random.RandomState(seed=123456789)  # seed to always re-draw the same distribution\n",
    "plt_ind = prng.randint(low=0, high=train_set_size, size=10)\n",
    "\n",
    "fig, axes = plt.subplots(1, 10, figsize=(12, 3))\n",
    "for ax, im, lb in zip(axes, train_images[plt_ind], train_labels[plt_ind]):\n",
    "    ax.imshow(im, cmap='gray')\n",
    "    ax.axis('off')\n",
    "    ax.set_title(lb)"
   ]
  },
  {
   "cell_type": "markdown",
   "metadata": {},
   "source": [
    "### 2.2 MLP (10 pts)\n",
    "\n",
    "To create an MLP you are free to choose any library.\n",
    "In case you don't have any preferences, we encourage you to use the [scikit-learn] package; it is a simple, efficient and free tool for data analysis and machine learning.\n",
    "In this [link][sklearn-example], you can find a basic example to see how to create and train an MLP using [scikit-learn].\n",
    "Your network should have the following properties:\n",
    "* Input `x`: 784-dimensional (i.e. 784 visible units representing the flattened 28x28 pixel images).\n",
    "* 100 hidden units `h`.\n",
    "* 10 output units `y`, i.e. the labels, with a value close to one in the i-th class representing a high probability of the input representing the digit `i`.\n",
    "\n",
    "If you need additional examples you can borrow some code from image classification tutorials.\n",
    "However, we recommend that you construct a minimal version of the network on your own to gain better insights.\n",
    "\n",
    "[scikit-learn]: http://scikit-learn.org/stable/index.html\n",
    "[sklearn-example]: http://scikit-learn.org/stable/modules/neural_networks_supervised.html"
   ]
  },
  {
   "cell_type": "code",
   "execution_count": null,
   "metadata": {},
   "outputs": [],
   "source": [
    "# Add your implementation and discussion"
   ]
  }
 ],
 "metadata": {
  "kernelspec": {
   "display_name": "Python 3",
   "language": "python",
   "name": "python3"
  },
  "language_info": {
   "codemirror_mode": {
    "name": "ipython",
    "version": 3
   },
   "file_extension": ".py",
   "mimetype": "text/x-python",
   "name": "python",
   "nbconvert_exporter": "python",
   "pygments_lexer": "ipython3",
   "version": "3.8.5"
  }
 },
 "nbformat": 4,
 "nbformat_minor": 2
}
