{
 "cells": [
  {
   "cell_type": "markdown",
   "metadata": {},
   "source": [
    "# [IAPR][iapr]: Lab 3 ‒  Classification\n",
    "\n",
    "\n",
    "**Group ID:** xx\n",
    "\n",
    "**Author 1 (sciper):** Student Name 1 (xxxxx)  \n",
    "**Author 2 (sciper):** Student Name 2 (xxxxx)   \n",
    "**Author 3 (sciper):** Student Name 3 (xxxxx)   \n",
    "\n",
    "**Release date:** 23.04.2021  \n",
    "**Due date:** 07.05.2021 \n",
    "\n",
    "\n",
    "## Important notes\n",
    "\n",
    "The lab assignments are designed to teach practical implementation of the topics presented during class well as preparation for the final project, which is a practical project which ties together the topics of the course. \n",
    "\n",
    "As such, in the lab assignments/final project, unless otherwise specified, you may, if you choose, use external functions from image processing/ML libraries like opencv and sklearn as long as there is sufficient explanation in the lab report. For example, you do not need to implement your own edge detector, etc.\n",
    "\n",
    "**! Before handling back the notebook !** rerun the notebook from scratch `Kernel` > `Restart & Run All`\n",
    "\n",
    "\n",
    "[iapr]: https://github.com/LTS5/iapr"
   ]
  },
  {
   "cell_type": "markdown",
   "metadata": {},
   "source": [
    "## Extract relevant data\n",
    "We first need to extract the `lab-03-data.tar.gz` archive.\n",
    "To this end, we use the [tarfile] module from the Python standard library.\n",
    "\n",
    "[tarfile]: https://docs.python.org/3.6/library/tarfile.html"
   ]
  },
  {
   "cell_type": "code",
   "execution_count": 1,
   "metadata": {},
   "outputs": [],
   "source": [
    "import tarfile\n",
    "import os\n",
    "\n",
    "data_base_path = os.path.join(os.pardir, 'data')\n",
    "data_folder = 'lab-03-data'\n",
    "tar_path = os.path.join(data_base_path, data_folder + '.tar.gz')\n",
    "with tarfile.open(tar_path, mode='r:gz') as tar:\n",
    "    tar.extractall(path=data_base_path)"
   ]
  },
  {
   "cell_type": "markdown",
   "metadata": {},
   "source": [
    "---\n",
    "## Part 1\n",
    "In this part, we will study classification based on the data available in the Matlab file `classification.mat` that you will under `lab-03-data/part1`.\n",
    "There are 3 data sets in this file, each one being a training set for a given class.\n",
    "They are contained in variables `a`, `b` and `c`.\n",
    "\n",
    "**Note**: we can load Matlab files using the [scipy.io] module.\n",
    "\n",
    "[scipy.io]: https://docs.scipy.org/doc/scipy/reference/io.html"
   ]
  },
  {
   "cell_type": "code",
   "execution_count": 2,
   "metadata": {},
   "outputs": [
    {
     "name": "stdout",
     "output_type": "stream",
     "text": [
      "(200, 2) (200, 2) (200, 2)\n"
     ]
    }
   ],
   "source": [
    "import scipy.io\n",
    "\n",
    "data_part1_path = os.path.join(data_base_path, data_folder, 'part1', 'classification.mat')\n",
    "matfile = scipy.io.loadmat(data_part1_path)\n",
    "a = matfile['a']\n",
    "b = matfile['b']\n",
    "c = matfile['c']\n",
    "\n",
    "print(a.shape, b.shape, c.shape)"
   ]
  },
  {
   "cell_type": "code",
   "execution_count": 12,
   "metadata": {},
   "outputs": [
    {
     "data": {
      "image/png": "[encoded data removed]",
      "text/plain": [
       "<Figure size 432x288 with 1 Axes>"
      ]
     },
     "metadata": {
      "needs_background": "light"
     },
     "output_type": "display_data"
    }
   ],
   "source": [
    "import matplotlib.pyplot as plt\n",
    "plt.scatter(a[:,0],a[:,1],label='class a')\n",
    "plt.scatter(b[:,0],b[:,1],label='class b')\n",
    "plt.scatter(c[:,0],c[:,1],label='class c')\n",
    "plt.legend()\n",
    "plt.show()"
   ]
  },
  {
   "cell_type": "markdown",
   "metadata": {},
   "source": [
    "### 1.1 Bayes method (5 pts)\n",
    "Using the Bayes method, give the analytical expression of the separation curves between those three classes.\n",
    "Do reasonable hypotheses about the distributions of those classes and estimate the corresponding parameters based on the given training sets.\n",
    "Draw those curves on a plot, together with the training data.\n",
    "For simplicity reasons, round the estimated parameters to the closest integer value."
   ]
  },
  {
   "cell_type": "code",
   "execution_count": 35,
   "metadata": {},
   "outputs": [],
   "source": [
    "# Add your implementation and discussion\n",
    "import numpy as np\n",
    "\n",
    "def covariance(array):\n",
    "    return np.round(np.cov(array.T)).astype(int)\n",
    "    \n",
    "def mean(array):\n",
    "    return np.round(np.mean(array,axis=0)).astype(int)"
   ]
  },
  {
   "cell_type": "code",
   "execution_count": 36,
   "metadata": {},
   "outputs": [
    {
     "name": "stdout",
     "output_type": "stream",
     "text": [
      "Mean of sample class a: \n",
      "[0 0]\n",
      "\n",
      "Mean of sample class b: \n",
      "[3 3]\n",
      "\n",
      "Mean of sample class c: \n",
      "[-10   0]\n",
      "\n"
     ]
    }
   ],
   "source": [
    "print('Mean of sample class a: \\n{}\\n'.format(mean(a)))\n",
    "print('Mean of sample class b: \\n{}\\n'.format(mean(b)))\n",
    "print('Mean of sample class c: \\n{}\\n'.format(mean(c)))"
   ]
  },
  {
   "cell_type": "code",
   "execution_count": 29,
   "metadata": {},
   "outputs": [
    {
     "name": "stdout",
     "output_type": "stream",
     "text": [
      "Covariance of sample class a: \n",
      "[[10  0]\n",
      " [ 0  1]]\n",
      "\n",
      "Covariance of sample class b: \n",
      "[[10  0]\n",
      " [ 0  1]]\n",
      "\n",
      "Covariance of sample class c: \n",
      "[[1 0]\n",
      " [0 5]]\n",
      "\n"
     ]
    }
   ],
   "source": [
    "print('Covariance of sample class a: \\n{}\\n'.format(covariance(a)))\n",
    "print('Covariance of sample class b: \\n{}\\n'.format(covariance(b)))\n",
    "print('Covariance of sample class c: \\n{}\\n'.format(covariance(c)))"
   ]
  },
  {
   "cell_type": "markdown",
   "metadata": {},
   "source": [
    "What we note from the samples are the following:\n",
    "- The covariance matrices across classes are not identical.\n",
    "- The covariance between the x and y coordinates for all classes is comparatively to its variances, small and if we round them up to closest integer then the covariance matrices are diagonal."
   ]
  },
  {
   "cell_type": "markdown",
   "metadata": {},
   "source": [
    "The general discriminant function, assuming normality distribution is:\n",
    "\\begin{equation}\n",
    "    g_i(x) = \\ln(p(x|w_i)) + \\ln(P(w_i)) \\\\\n",
    "    g_i(x) = -\\frac{1}{2}x^T\\Sigma_i^{-1}x+ \\frac{1}{2}x^T\\Sigma_i^{-1}\\mu_i -\\frac{1} {2}\\mu_i^T\\Sigma_i^{-1}\\mu_i + -\\frac{1}{2}\\mu_i^T\\Sigma_i^{-1}x + \\ln(P(w_i)) + c_i \n",
    "\\end{equation}\n",
    "\n",
    "By considering the constant value to be the same across classes and since our sample size is as well the same across classes, we can leave out the `ln(P(w_i)) + c_i`.\n",
    "Now using the computed and integer rounded parameters of distribution for classes, the respective discriminant functions per classes are:\n",
    "\n",
    "\\begin{equation}\n",
    "g_a(x) = -\\frac{1}{2}(10x_1^2+x_2^2) \\\\\n",
    "g_b(x) = -\\frac{1}{2}(10x_1^2+x_2^2) + (30x_1 + 3x_2) - \\frac{99}{2} \\\\ \n",
    "g_c(x) = -\\frac{1}{2}(x_1^2+5x_2^2) - 10x_1 + 100\n",
    "\\end{equation}\n",
    "Let's now find out about the two by two boundaries between classes.\n",
    "- a|b:\n",
    "    $$d_1 = (30x_1 + 3x_2) - \\frac{99}{2} = 0$$\n",
    "- a|c:\n",
    "    $$d_2 = -\\frac{1}{2}(9x_1^2-4x_2^2)+10x_1-100=0 $$\n",
    "- b|c:\n",
    "    $$d_3 =  -\\frac{1}{2}(9x_1^2-4x_2^2)+40x_1 + 3x_2 - \\frac{299}{2}=0  $$\n",
    "\n",
    "#TO FINISH WRITING \n",
    "\n",
    "Let $h:\\mathbb{R}^2$\n",
    "    \n",
    "\\begin{array}{lcl} z & = & a \\\\ f(x,y,z) & = & x + y + z \\end{array}\n",
    "Parametric: \n"
   ]
  },
  {
   "cell_type": "code",
   "execution_count": 50,
   "metadata": {},
   "outputs": [],
   "source": [
    "from math import ceil \n",
    "from math import floor \n",
    "\n",
    "xmin = floor(np.min([np.max(a[:,0]),np.min(b[:,0]),np.min(c[:,0])]))\n",
    "xmax = ceil(np.max([np.max(a[:,0]),np.max(b[:,0]),np.max(c[:,0])]))\n",
    "ymin = floor(np.min([np.min(a[:,1]),np.min(b[:,1]),np.min(c[:,1])]))\n",
    "ymax = ceil(np.max([np.max(a[:,1]),np.max(b[:,1]),np.max(c[:,1])]))"
   ]
  },
  {
   "cell_type": "code",
   "execution_count": 65,
   "metadata": {},
   "outputs": [
    {
     "data": {
      "image/png": "[encoded data removed]",
      "text/plain": [
       "<Figure size 432x288 with 1 Axes>"
      ]
     },
     "metadata": {
      "needs_background": "light"
     },
     "output_type": "display_data"
    }
   ],
   "source": [
    "# https://stackoverflow.com/questions/14000595/graphing-an-equation-with-matplotlib\n",
    "      \n",
    "xlist = np.linspace(xmin, xmax, 100) # Create 1-D arrays for x,y dimensions\n",
    "ylist = np.linspace(ymin, ymax, 100) \n",
    "X,Y = np.meshgrid(xlist, ylist) # Create 2-D grid xlist,ylist values\n",
    "F = 30*Y + 3*X - 99/2 \n",
    "G = -1/2*(9*Y**2-4*X**2) + 10*Y - 100\n",
    "H = -1/2*(9*Y**2-4*X**2) + 40*Y + 3*X - 299/2\n",
    "plt.contour(X1, Y1, F, [0], colors = 'k', linestyles = 'solid')\n",
    "plt.contour(X, Y, G, [0], colors = 'b', linestyles = 'solid')\n",
    "plt.contour(X, Y, H, [0], colors = 'r', linestyles = 'solid')\n",
    "\n",
    "plt.scatter(a[:,0],a[:,1],label='class a')\n",
    "plt.scatter(b[:,0],b[:,1],label='class b')\n",
    "plt.scatter(c[:,0],c[:,1],label='class c')\n",
    "plt.legend()\n",
    "plt.show()\n"
   ]
  },
  {
   "cell_type": "markdown",
   "metadata": {},
   "source": [
    "#### Discussion\n",
    "\n",
    "##### General comment on method\n",
    "Assumption of normality distribution for all three classes\n",
    "\n",
    "##### Comment on results\n",
    "\n",
    "##### Comparison to other methods / variants\n"
   ]
  },
  {
   "cell_type": "markdown",
   "metadata": {},
   "source": [
    "### 1.2 Mahalanobis distance (5 pts)\n",
    "For classes `a` and `b`, give the expression of the Mahalanobis distance used to classify a point in class `a` or `b`, and verify the obtained classification, in comparison with the \"complete\" Bayes classification, for a few points of the plane."
   ]
  },
  {
   "cell_type": "markdown",
   "metadata": {},
   "source": [
    "Once again, our assumption of normal distribution and in this case after rounding, the covariance matrix for both `a` and `b` are equal.\n",
    "\n",
    "Mahalanobis Distance: \n",
    "\\begin{equation}\n",
    "    d_m = ((x-\\mu_i)\\Sigma^{-1}(x-\\mu_i))^{1/2} \\\\ \n",
    "    d_m = \n",
    "\\end{equation}"
   ]
  },
  {
   "cell_type": "code",
   "execution_count": null,
   "metadata": {},
   "outputs": [],
   "source": [
    "# Add your implementation and discussion\n"
   ]
  },
  {
   "cell_type": "code",
   "execution_count": null,
   "metadata": {},
   "outputs": [],
   "source": [
    "# comparison by confusion matrix"
   ]
  },
  {
   "cell_type": "markdown",
   "metadata": {},
   "source": [
    "#### Discussion\n",
    "\n",
    "##### General comment on method\n",
    "\n",
    "\n",
    "##### Comment on results\n",
    "\n",
    "##### Comparison to other methods / variants\n"
   ]
  },
  {
   "cell_type": "markdown",
   "metadata": {},
   "source": [
    "---\n",
    "\n",
    "## Part 2\n",
    "In this part, we aim to classify digits using the complete version of MNIST digits dataset.\n",
    "The dataset consists of 60'000 training images and 10'000 test images of handwritten digits.\n",
    "Each image has size 28x28, and has assigned a label from zero to nine, denoting the digits value.\n",
    "Given this data, your task is to construct a Multilayer Perceptron (MLP) for supervised training and classification and evaluate it on the test images.\n",
    "\n",
    "Download the MNIST dataset (all 4 files) from http://yann.lecun.com/exdb/mnist/ under `lab-03-data/part2`.\n",
    "You can then use the script provided below to extract and load training and testing images in Python. \n",
    "\n",
    "**! Warning**: When the lab was created the official MNIST repo was down, if it is still the case please use https://github.com/mkolod/MNIST."
   ]
  },
  {
   "cell_type": "markdown",
   "metadata": {},
   "source": [
    "### 2.1 Dataset loading\n",
    "Here we first declare the methods `extract_data` and `extract_labels` so that we can reuse them later in the code.\n",
    "Then we extract both the data and corresponding labels, and plot randomly some images and corresponding labels of the training set."
   ]
  },
  {
   "cell_type": "code",
   "execution_count": null,
   "metadata": {},
   "outputs": [],
   "source": [
    "import gzip\n",
    "import numpy as np\n",
    "import matplotlib.pyplot as plt\n",
    "\n",
    "def extract_data(filename, image_shape, image_number):\n",
    "    with gzip.open(filename) as bytestream:\n",
    "        bytestream.read(16)\n",
    "        buf = bytestream.read(np.prod(image_shape) * image_number)\n",
    "        data = np.frombuffer(buf, dtype=np.uint8).astype(np.float32)\n",
    "        data = data.reshape(image_number, image_shape[0], image_shape[1])\n",
    "    return data\n",
    "\n",
    "\n",
    "def extract_labels(filename, image_number):\n",
    "    with gzip.open(filename) as bytestream:\n",
    "        bytestream.read(8)\n",
    "        buf = bytestream.read(1 * image_number)\n",
    "        labels = np.frombuffer(buf, dtype=np.uint8).astype(np.int64)\n",
    "    return labels"
   ]
  },
  {
   "cell_type": "code",
   "execution_count": null,
   "metadata": {},
   "outputs": [],
   "source": [
    "image_shape = (28, 28)\n",
    "train_set_size = 60000\n",
    "test_set_size = 10000\n",
    "\n",
    "data_part2_folder = os.path.join(data_base_path, data_folder, 'part2')\n",
    "\n",
    "train_images_path = os.path.join(data_part2_folder, 'train-images-idx3-ubyte.gz')\n",
    "train_labels_path = os.path.join(data_part2_folder, 'train-labels-idx1-ubyte.gz')\n",
    "test_images_path = os.path.join(data_part2_folder, 't10k-images-idx3-ubyte.gz')\n",
    "test_labels_path = os.path.join(data_part2_folder, 't10k-labels-idx1-ubyte.gz')\n",
    "\n",
    "train_images = extract_data(train_images_path, image_shape, train_set_size)\n",
    "test_images = extract_data(test_images_path, image_shape, test_set_size)\n",
    "train_labels = extract_labels(train_labels_path, train_set_size)\n",
    "test_labels = extract_labels(test_labels_path, test_set_size)"
   ]
  },
  {
   "cell_type": "code",
   "execution_count": null,
   "metadata": {},
   "outputs": [],
   "source": [
    "prng = np.random.RandomState(seed=123456789)  # seed to always re-draw the same distribution\n",
    "plt_ind = prng.randint(low=0, high=train_set_size, size=10)\n",
    "\n",
    "fig, axes = plt.subplots(1, 10, figsize=(12, 3))\n",
    "for ax, im, lb in zip(axes, train_images[plt_ind], train_labels[plt_ind]):\n",
    "    ax.imshow(im, cmap='gray')\n",
    "    ax.axis('off')\n",
    "    ax.set_title(lb)"
   ]
  },
  {
   "cell_type": "markdown",
   "metadata": {},
   "source": [
    "### 2.2 MLP (10 pts)\n",
    "\n",
    "To create an MLP you are free to choose any library.\n",
    "In case you don't have any preferences, we encourage you to use the [scikit-learn] package; it is a simple, efficient and free tool for data analysis and machine learning.\n",
    "In this [link][sklearn-example], you can find a basic example to see how to create and train an MLP using [scikit-learn].\n",
    "Your network should have the following properties:\n",
    "* Input `x`: 784-dimensional (i.e. 784 visible units representing the flattened 28x28 pixel images).\n",
    "* 100 hidden units `h`.\n",
    "* 10 output units `y`, i.e. the labels, with a value close to one in the i-th class representing a high probability of the input representing the digit `i`.\n",
    "\n",
    "If you need additional examples you can borrow some code from image classification tutorials.\n",
    "However, we recommend that you construct a minimal version of the network on your own to gain better insights.\n",
    "\n",
    "[scikit-learn]: http://scikit-learn.org/stable/index.html\n",
    "[sklearn-example]: http://scikit-learn.org/stable/modules/neural_networks_supervised.html"
   ]
  },
  {
   "cell_type": "code",
   "execution_count": null,
   "metadata": {},
   "outputs": [],
   "source": [
    "# Add your implementation and discussion"
   ]
  }
 ],
 "metadata": {
  "kernelspec": {
   "display_name": "Python 3",
   "language": "python",
   "name": "python3"
  },
  "language_info": {
   "codemirror_mode": {
    "name": "ipython",
    "version": 3
   },
   "file_extension": ".py",
   "mimetype": "text/x-python",
   "name": "python",
   "nbconvert_exporter": "python",
   "pygments_lexer": "ipython3",
   "version": "3.8.5"
  }
 },
 "nbformat": 4,
 "nbformat_minor": 2
}
